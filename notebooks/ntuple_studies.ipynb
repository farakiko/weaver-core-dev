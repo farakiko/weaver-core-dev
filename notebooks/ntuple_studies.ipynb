{
 "cells": [
  {
   "cell_type": "code",
   "execution_count": 72,
   "id": "cb702c12",
   "metadata": {},
   "outputs": [
    {
     "data": {
      "text/plain": [
       "{'divide': 'warn', 'over': 'warn', 'under': 'ignore', 'invalid': 'ignore'}"
      ]
     },
     "execution_count": 72,
     "metadata": {},
     "output_type": "execute_result"
    }
   ],
   "source": [
    "import argparse\n",
    "import json\n",
    "import os\n",
    "import pathlib\n",
    "import pickle as pkl\n",
    "import shutil\n",
    "import sys\n",
    "import time\n",
    "import warnings\n",
    "from collections import defaultdict\n",
    "from typing import Dict, List, Optional\n",
    "\n",
    "import awkward as ak\n",
    "import matplotlib.pyplot as plt\n",
    "import numpy as np\n",
    "import pandas as pd\n",
    "import pyarrow as pa\n",
    "import pyarrow.parquet as pq\n",
    "\n",
    "### schema\n",
    "import uproot\n",
    "from coffea import nanoevents, processor\n",
    "from coffea.analysis_tools import PackedSelection, Weights\n",
    "from coffea.nanoevents import BaseSchema, NanoAODSchema, NanoEventsFactory\n",
    "from coffea.nanoevents.methods import candidate, vector\n",
    "\n",
    "import mplhep as hep\n",
    "\n",
    "plt.style.use(hep.style.CMS)\n",
    "\n",
    "### awkward 1.10.0\n",
    "sys.path.append(\"../\")\n",
    "\n",
    "nanoevents.PFNanoAODSchema.mixins[\"PFCands\"] = \"PFCand\"\n",
    "nanoevents.PFNanoAODSchema.mixins[\"SV\"] = \"PFCand\"\n",
    "\n",
    "warnings.filterwarnings(\"ignore\", message=\"Found duplicate branch \")\n",
    "warnings.filterwarnings(\"ignore\", category=DeprecationWarning)\n",
    "warnings.filterwarnings(\"ignore\", message=\"Missing cross-reference index \")\n",
    "warnings.filterwarnings(\"ignore\", message=\"divide by zero encountered in log\")\n",
    "np.seterr(invalid=\"ignore\")"
   ]
  },
  {
   "cell_type": "code",
   "execution_count": 73,
   "id": "90ffbf63",
   "metadata": {},
   "outputs": [
    {
     "name": "stdout",
     "output_type": "stream",
     "text": [
      "The autoreload extension is already loaded. To reload it, use:\n",
      "  %reload_ext autoreload\n"
     ]
    }
   ],
   "source": [
    "%load_ext autoreload\n",
    "%autoreload 2"
   ]
  },
  {
   "cell_type": "code",
   "execution_count": 74,
   "id": "1d8a1d30",
   "metadata": {
    "scrolled": true
   },
   "outputs": [
    {
     "name": "stdout",
     "output_type": "stream",
     "text": [
      "../datafiles/ntuples/inputprocessor.py \u001b[31m../datafiles/ntuples/run_skimmer.sh\u001b[m\u001b[m\r\n",
      "\r\n",
      "../datafiles/ntuples/GluGluHToWW_Pt-200ToInf_M-125:\r\n",
      "\u001b[34m2016\u001b[m\u001b[m    \u001b[34m2016APV\u001b[m\u001b[m \u001b[34m2017\u001b[m\u001b[m    \u001b[34m2018\u001b[m\u001b[m\r\n",
      "\r\n",
      "../datafiles/ntuples/QCD_Pt_170to300:\r\n",
      "\u001b[34m2018\u001b[m\u001b[m\r\n",
      "\r\n",
      "../datafiles/ntuples/QCD_Pt_300to470:\r\n",
      "\u001b[34m2018\u001b[m\u001b[m\r\n",
      "\r\n",
      "../datafiles/ntuples/QCD_Pt_470to600:\r\n",
      "\u001b[34m2018\u001b[m\u001b[m\r\n",
      "\r\n",
      "../datafiles/ntuples/QCD_Pt_600to800:\r\n",
      "\u001b[34m2018\u001b[m\u001b[m\r\n",
      "\r\n",
      "../datafiles/ntuples/TTToSemiLeptonic:\r\n",
      "\u001b[34m2018\u001b[m\u001b[m\r\n",
      "\r\n",
      "../datafiles/ntuples/VBFHToWWToLNuQQ_M-125_withDipoleRecoil:\r\n",
      "\u001b[34m2016\u001b[m\u001b[m    \u001b[34m2016APV\u001b[m\u001b[m \u001b[34m2017\u001b[m\u001b[m    \u001b[34m2018\u001b[m\u001b[m\r\n",
      "\r\n",
      "../datafiles/ntuples/WJetsToLNu_HT-200To400:\r\n",
      "\u001b[34m2018\u001b[m\u001b[m\r\n",
      "\r\n",
      "../datafiles/ntuples/WJetsToLNu_HT-400To600:\r\n",
      "\u001b[34m2018\u001b[m\u001b[m\r\n",
      "\r\n",
      "../datafiles/ntuples/WJetsToLNu_HT-600To800:\r\n",
      "\u001b[34m2018\u001b[m\u001b[m\r\n"
     ]
    }
   ],
   "source": [
    "! ls ../datafiles/ntuples/*"
   ]
  },
  {
   "cell_type": "markdown",
   "id": "1f521574",
   "metadata": {},
   "source": [
    "# Higgs (ggF)"
   ]
  },
  {
   "cell_type": "code",
   "execution_count": 127,
   "id": "51827a88",
   "metadata": {
    "scrolled": true
   },
   "outputs": [
    {
     "data": {
      "text/plain": [
       "['fj_eta',\n",
       " 'fj_phi',\n",
       " 'fj_mass',\n",
       " 'fj_pt',\n",
       " 'fj_msoftdrop',\n",
       " 'fj_lsf3',\n",
       " 'fj_genjetmass',\n",
       " 'fj_genRes_pt',\n",
       " 'fj_genRes_eta',\n",
       " 'fj_genRes_phi',\n",
       " 'fj_genRes_mass',\n",
       " 'fj_genH_pt',\n",
       " 'fj_genH_jet',\n",
       " 'fj_genV_dR',\n",
       " 'fj_genVstar',\n",
       " 'genV_genVstar_dR',\n",
       " 'fj_isHVV',\n",
       " 'fj_isHVV_Matched',\n",
       " 'fj_isHVV_4q',\n",
       " 'fj_isHVV_elenuqq',\n",
       " 'fj_isHVV_munuqq',\n",
       " 'fj_isHVV_taunuqq',\n",
       " 'fj_isHVV_Vlepton',\n",
       " 'fj_isHVV_Vstarlepton',\n",
       " 'fj_nquarks',\n",
       " 'fj_lepinprongs',\n",
       " 'fj_isV',\n",
       " 'fj_isV_Matched',\n",
       " 'fj_isV_2q',\n",
       " 'fj_isV_elenu',\n",
       " 'fj_isV_munu',\n",
       " 'fj_isV_taunu',\n",
       " 'fj_nprongs',\n",
       " 'fj_ncquarks',\n",
       " 'fj_isV_lep',\n",
       " 'fj_isTop',\n",
       " 'fj_isTop_Matched',\n",
       " 'fj_Top_numMatched',\n",
       " 'fj_isTop_W_lep_b',\n",
       " 'fj_isTop_W_lep',\n",
       " 'fj_isTop_W_ele_b',\n",
       " 'fj_isTop_W_ele',\n",
       " 'fj_isTop_W_mu_b',\n",
       " 'fj_isTop_W_mu',\n",
       " 'fj_isTop_W_tau_b',\n",
       " 'fj_isTop_W_tau',\n",
       " 'fj_Top_nquarksnob',\n",
       " 'fj_Top_nbquarks',\n",
       " 'fj_Top_ncquarks',\n",
       " 'fj_Top_nleptons',\n",
       " 'fj_Top_nele',\n",
       " 'fj_Top_nmu',\n",
       " 'fj_Top_ntau',\n",
       " 'fj_Top_taudecay',\n",
       " 'fj_isQCD',\n",
       " 'fj_isQCD_Matched',\n",
       " 'fj_isQCDb',\n",
       " 'fj_isQCDbb',\n",
       " 'fj_isQCDc',\n",
       " 'fj_isQCDcc',\n",
       " 'fj_isQCDothers',\n",
       " 'met_pt',\n",
       " 'met_relpt',\n",
       " 'met_fj_dphi',\n",
       " 'abs_met_fj_dphi',\n",
       " 'mt_lep_met',\n",
       " 'lep_dR_fj',\n",
       " 'lep_pt',\n",
       " 'lep_pt_ratio',\n",
       " 'lep_reliso',\n",
       " 'lep_miso',\n",
       " 'n_bjets_L',\n",
       " 'n_bjets_M',\n",
       " 'n_bjets_T',\n",
       " 'rec_W_lnu_pt',\n",
       " 'rec_W_lnu_m',\n",
       " 'rec_W_qq_pt',\n",
       " 'rec_W_qq_m',\n",
       " 'rec_higgs_pt',\n",
       " 'rec_higgs_m',\n",
       " 'mjj',\n",
       " 'jj_pt',\n",
       " 'deta',\n",
       " 'j1_pt',\n",
       " 'j2_pt',\n",
       " 'j1_m',\n",
       " 'j2_m',\n",
       " 'ht',\n",
       " 'NumFatjets',\n",
       " 'NumOtherJets',\n",
       " 'FirstFatjet_pt',\n",
       " 'FirstFatjet_m',\n",
       " 'SecondFatjet_pt',\n",
       " 'SecondFatjet_m',\n",
       " 'fj_ParT_score',\n",
       " 'fj_ParT_mass',\n",
       " 'fj_ParT_hidNeuron000',\n",
       " 'fj_ParT_hidNeuron001',\n",
       " 'fj_ParT_hidNeuron002',\n",
       " 'fj_ParT_hidNeuron003',\n",
       " 'fj_ParT_hidNeuron004',\n",
       " 'fj_ParT_hidNeuron005',\n",
       " 'fj_ParT_hidNeuron006',\n",
       " 'fj_ParT_hidNeuron007',\n",
       " 'fj_ParT_hidNeuron008',\n",
       " 'fj_ParT_hidNeuron009',\n",
       " 'fj_ParT_hidNeuron010',\n",
       " 'fj_ParT_hidNeuron011',\n",
       " 'fj_ParT_hidNeuron012',\n",
       " 'fj_ParT_hidNeuron013',\n",
       " 'fj_ParT_hidNeuron014',\n",
       " 'fj_ParT_hidNeuron015',\n",
       " 'fj_ParT_hidNeuron016',\n",
       " 'fj_ParT_hidNeuron017',\n",
       " 'fj_ParT_hidNeuron018',\n",
       " 'fj_ParT_hidNeuron019',\n",
       " 'fj_ParT_hidNeuron020',\n",
       " 'fj_ParT_hidNeuron021',\n",
       " 'fj_ParT_hidNeuron022',\n",
       " 'fj_ParT_hidNeuron023',\n",
       " 'fj_ParT_hidNeuron024',\n",
       " 'fj_ParT_hidNeuron025',\n",
       " 'fj_ParT_hidNeuron026',\n",
       " 'fj_ParT_hidNeuron027',\n",
       " 'fj_ParT_hidNeuron028',\n",
       " 'fj_ParT_hidNeuron029',\n",
       " 'fj_ParT_hidNeuron030',\n",
       " 'fj_ParT_hidNeuron031',\n",
       " 'fj_ParT_hidNeuron032',\n",
       " 'fj_ParT_hidNeuron033',\n",
       " 'fj_ParT_hidNeuron034',\n",
       " 'fj_ParT_hidNeuron035',\n",
       " 'fj_ParT_hidNeuron036',\n",
       " 'fj_ParT_hidNeuron037',\n",
       " 'fj_ParT_hidNeuron038',\n",
       " 'fj_ParT_hidNeuron039',\n",
       " 'fj_ParT_hidNeuron040',\n",
       " 'fj_ParT_hidNeuron041',\n",
       " 'fj_ParT_hidNeuron042',\n",
       " 'fj_ParT_hidNeuron043',\n",
       " 'fj_ParT_hidNeuron044',\n",
       " 'fj_ParT_hidNeuron045',\n",
       " 'fj_ParT_hidNeuron046',\n",
       " 'fj_ParT_hidNeuron047',\n",
       " 'fj_ParT_hidNeuron048',\n",
       " 'fj_ParT_hidNeuron049',\n",
       " 'fj_ParT_hidNeuron050',\n",
       " 'fj_ParT_hidNeuron051',\n",
       " 'fj_ParT_hidNeuron052',\n",
       " 'fj_ParT_hidNeuron053',\n",
       " 'fj_ParT_hidNeuron054',\n",
       " 'fj_ParT_hidNeuron055',\n",
       " 'fj_ParT_hidNeuron056',\n",
       " 'fj_ParT_hidNeuron057',\n",
       " 'fj_ParT_hidNeuron058',\n",
       " 'fj_ParT_hidNeuron059',\n",
       " 'fj_ParT_hidNeuron060',\n",
       " 'fj_ParT_hidNeuron061',\n",
       " 'fj_ParT_hidNeuron062',\n",
       " 'fj_ParT_hidNeuron063',\n",
       " 'fj_ParT_hidNeuron064',\n",
       " 'fj_ParT_hidNeuron065',\n",
       " 'fj_ParT_hidNeuron066',\n",
       " 'fj_ParT_hidNeuron067',\n",
       " 'fj_ParT_hidNeuron068',\n",
       " 'fj_ParT_hidNeuron069',\n",
       " 'fj_ParT_hidNeuron070',\n",
       " 'fj_ParT_hidNeuron071',\n",
       " 'fj_ParT_hidNeuron072',\n",
       " 'fj_ParT_hidNeuron073',\n",
       " 'fj_ParT_hidNeuron074',\n",
       " 'fj_ParT_hidNeuron075',\n",
       " 'fj_ParT_hidNeuron076',\n",
       " 'fj_ParT_hidNeuron077',\n",
       " 'fj_ParT_hidNeuron078',\n",
       " 'fj_ParT_hidNeuron079',\n",
       " 'fj_ParT_hidNeuron080',\n",
       " 'fj_ParT_hidNeuron081',\n",
       " 'fj_ParT_hidNeuron082',\n",
       " 'fj_ParT_hidNeuron083',\n",
       " 'fj_ParT_hidNeuron084',\n",
       " 'fj_ParT_hidNeuron085',\n",
       " 'fj_ParT_hidNeuron086',\n",
       " 'fj_ParT_hidNeuron087',\n",
       " 'fj_ParT_hidNeuron088',\n",
       " 'fj_ParT_hidNeuron089',\n",
       " 'fj_ParT_hidNeuron090',\n",
       " 'fj_ParT_hidNeuron091',\n",
       " 'fj_ParT_hidNeuron092',\n",
       " 'fj_ParT_hidNeuron093',\n",
       " 'fj_ParT_hidNeuron094',\n",
       " 'fj_ParT_hidNeuron095',\n",
       " 'fj_ParT_hidNeuron096',\n",
       " 'fj_ParT_hidNeuron097',\n",
       " 'fj_ParT_hidNeuron098',\n",
       " 'fj_ParT_hidNeuron099',\n",
       " 'fj_ParT_hidNeuron100',\n",
       " 'fj_ParT_hidNeuron101',\n",
       " 'fj_ParT_hidNeuron102',\n",
       " 'fj_ParT_hidNeuron103',\n",
       " 'fj_ParT_hidNeuron104',\n",
       " 'fj_ParT_hidNeuron105',\n",
       " 'fj_ParT_hidNeuron106',\n",
       " 'fj_ParT_hidNeuron107',\n",
       " 'fj_ParT_hidNeuron108',\n",
       " 'fj_ParT_hidNeuron109',\n",
       " 'fj_ParT_hidNeuron110',\n",
       " 'fj_ParT_hidNeuron111',\n",
       " 'fj_ParT_hidNeuron112',\n",
       " 'fj_ParT_hidNeuron113',\n",
       " 'fj_ParT_hidNeuron114',\n",
       " 'fj_ParT_hidNeuron115',\n",
       " 'fj_ParT_hidNeuron116',\n",
       " 'fj_ParT_hidNeuron117',\n",
       " 'fj_ParT_hidNeuron118',\n",
       " 'fj_ParT_hidNeuron119',\n",
       " 'fj_ParT_hidNeuron120',\n",
       " 'fj_ParT_hidNeuron121',\n",
       " 'fj_ParT_hidNeuron122',\n",
       " 'fj_ParT_hidNeuron123',\n",
       " 'fj_ParT_hidNeuron124',\n",
       " 'fj_ParT_hidNeuron125',\n",
       " 'fj_ParT_hidNeuron126',\n",
       " 'fj_ParT_hidNeuron127',\n",
       " 'fj_isggF',\n",
       " 'fj_isVBF']"
      ]
     },
     "execution_count": 127,
     "metadata": {},
     "output_type": "execute_result"
    }
   ],
   "source": [
    "events = uproot.open(\"../datafiles/ntuples/GluGluHToWW_Pt-200ToInf_M-125/2018/train/out.root\")[\"Events\"]\n",
    "events.keys()"
   ]
  },
  {
   "cell_type": "code",
   "execution_count": 129,
   "id": "5208dd58",
   "metadata": {},
   "outputs": [
    {
     "data": {
      "text/plain": [
       "0"
      ]
     },
     "execution_count": 129,
     "metadata": {},
     "output_type": "execute_result"
    }
   ],
   "source": [
    "(events[\"fj_isggF\"].array()==0).to_numpy().sum()   # all is ggF"
   ]
  },
  {
   "cell_type": "code",
   "execution_count": 131,
   "id": "2776ebd1",
   "metadata": {},
   "outputs": [
    {
     "data": {
      "text/plain": [
       "0"
      ]
     },
     "execution_count": 131,
     "metadata": {},
     "output_type": "execute_result"
    }
   ],
   "source": [
    "(events[\"fj_isVBF\"].array()==1).to_numpy().sum()   # no vbf"
   ]
  },
  {
   "cell_type": "code",
   "execution_count": 132,
   "id": "2967687c",
   "metadata": {},
   "outputs": [
    {
     "data": {
      "text/plain": [
       "0"
      ]
     },
     "execution_count": 132,
     "metadata": {},
     "output_type": "execute_result"
    }
   ],
   "source": [
    "(events[\"fj_genRes_mass\"].array()!=125).to_numpy().sum()  # all fj_genRes_mass is 125"
   ]
  },
  {
   "cell_type": "code",
   "execution_count": 133,
   "id": "b1559e9e",
   "metadata": {},
   "outputs": [
    {
     "name": "stdout",
     "output_type": "stream",
     "text": [
      "ishww: 52107\n",
      "~ishww: 0\n"
     ]
    }
   ],
   "source": [
    "ishww = events[\"fj_isHVV\"].array()\n",
    "print(\"ishww:\", ak.sum(ishww))\n",
    "print(\"~ishww:\", ak.sum(~ishww))"
   ]
  },
  {
   "cell_type": "code",
   "execution_count": 134,
   "id": "2b8ede9c",
   "metadata": {},
   "outputs": [
    {
     "name": "stdout",
     "output_type": "stream",
     "text": [
      "isHVV_Matched: 32978\n",
      "~isHVV_Matched: 19129\n"
     ]
    }
   ],
   "source": [
    "matched_higgs = events[\"fj_isHVV_Matched\"].array()\n",
    "print(\"isHVV_Matched:\", ak.sum(matched_higgs))\n",
    "print(\"~isHVV_Matched:\", ak.sum(~matched_higgs))"
   ]
  },
  {
   "cell_type": "code",
   "execution_count": 135,
   "id": "c9a46138",
   "metadata": {},
   "outputs": [
    {
     "data": {
      "text/plain": [
       "10783"
      ]
     },
     "execution_count": 135,
     "metadata": {},
     "output_type": "execute_result"
    }
   ],
   "source": [
    "one_lep = events[\"fj_isHVV_elenuqq\"].array() | events[\"fj_isHVV_munuqq\"].array()\n",
    "one_lep_inprongs = events[\"fj_lepinprongs\"].array()==1\n",
    "two_quarks = events[\"fj_nquarks\"].array()==2\n",
    "\n",
    "ak.sum(one_lep & one_lep_inprongs & two_quarks)"
   ]
  },
  {
   "cell_type": "code",
   "execution_count": 136,
   "id": "642ba4c7",
   "metadata": {},
   "outputs": [
    {
     "data": {
      "text/plain": [
       "10782"
      ]
     },
     "execution_count": 136,
     "metadata": {},
     "output_type": "execute_result"
    }
   ],
   "source": [
    "ak.sum(one_lep & one_lep_inprongs & two_quarks & matched_higgs)"
   ]
  },
  {
   "cell_type": "code",
   "execution_count": 137,
   "id": "c6c4c238",
   "metadata": {},
   "outputs": [
    {
     "data": {
      "text/plain": [
       "10782"
      ]
     },
     "execution_count": 137,
     "metadata": {},
     "output_type": "execute_result"
    }
   ],
   "source": [
    "dr = events[\"lep_dR_fj\"].array()<0.8\n",
    "\n",
    "ak.sum(one_lep & one_lep_inprongs & two_quarks & matched_higgs & dr)"
   ]
  },
  {
   "cell_type": "markdown",
   "id": "bd27f178",
   "metadata": {},
   "source": [
    "# Higgs (VBF)"
   ]
  },
  {
   "cell_type": "code",
   "execution_count": 139,
   "id": "c4b570b5",
   "metadata": {},
   "outputs": [],
   "source": [
    "events = uproot.open(\"../datafiles/ntuples/VBFHToWWToLNuQQ_M-125_withDipoleRecoil/2018/train/out.root\")[\"Events\"]"
   ]
  },
  {
   "cell_type": "code",
   "execution_count": 143,
   "id": "7a85714f",
   "metadata": {},
   "outputs": [
    {
     "data": {
      "text/plain": [
       "0"
      ]
     },
     "execution_count": 143,
     "metadata": {},
     "output_type": "execute_result"
    }
   ],
   "source": [
    "(events[\"fj_isVBF\"].array()==0).to_numpy().sum()   # all is vbf"
   ]
  },
  {
   "cell_type": "code",
   "execution_count": 144,
   "id": "1af7a0ee",
   "metadata": {},
   "outputs": [
    {
     "data": {
      "text/plain": [
       "0"
      ]
     },
     "execution_count": 144,
     "metadata": {},
     "output_type": "execute_result"
    }
   ],
   "source": [
    "(events[\"fj_isggF\"].array()==1).to_numpy().sum()   # no ggF"
   ]
  },
  {
   "cell_type": "code",
   "execution_count": 146,
   "id": "bd37cf78",
   "metadata": {},
   "outputs": [
    {
     "data": {
      "text/plain": [
       "5"
      ]
     },
     "execution_count": 146,
     "metadata": {},
     "output_type": "execute_result"
    }
   ],
   "source": [
    "(events[\"fj_genRes_mass\"].array()!=125).to_numpy().sum()  # MOST fj_genRes_mass is 125"
   ]
  },
  {
   "cell_type": "code",
   "execution_count": 147,
   "id": "4c6ec7da",
   "metadata": {},
   "outputs": [
    {
     "name": "stdout",
     "output_type": "stream",
     "text": [
      "ishww: 1238\n",
      "~ishww: 0\n"
     ]
    }
   ],
   "source": [
    "ishww = events[\"fj_isHVV\"].array()\n",
    "print(\"ishww:\", ak.sum(ishww))\n",
    "print(\"~ishww:\", ak.sum(~ishww))"
   ]
  },
  {
   "cell_type": "code",
   "execution_count": 148,
   "id": "cd300fc6",
   "metadata": {},
   "outputs": [
    {
     "name": "stdout",
     "output_type": "stream",
     "text": [
      "isHVV_Matched: 832\n",
      "~isHVV_Matched: 406\n"
     ]
    }
   ],
   "source": [
    "matched_higgs = events[\"fj_isHVV_Matched\"].array()\n",
    "print(\"isHVV_Matched:\", ak.sum(matched_higgs))\n",
    "print(\"~isHVV_Matched:\", ak.sum(~matched_higgs))"
   ]
  },
  {
   "cell_type": "code",
   "execution_count": 149,
   "id": "dbf38fb1",
   "metadata": {},
   "outputs": [
    {
     "data": {
      "text/plain": [
       "450"
      ]
     },
     "execution_count": 149,
     "metadata": {},
     "output_type": "execute_result"
    }
   ],
   "source": [
    "one_lep = events[\"fj_isHVV_elenuqq\"].array() | events[\"fj_isHVV_munuqq\"].array()\n",
    "one_lep_inprongs = events[\"fj_lepinprongs\"].array()==1\n",
    "two_quarks = events[\"fj_nquarks\"].array()==2\n",
    "\n",
    "ak.sum(one_lep & one_lep_inprongs & two_quarks)"
   ]
  },
  {
   "cell_type": "code",
   "execution_count": 150,
   "id": "6ab09090",
   "metadata": {},
   "outputs": [
    {
     "data": {
      "text/plain": [
       "450"
      ]
     },
     "execution_count": 150,
     "metadata": {},
     "output_type": "execute_result"
    }
   ],
   "source": [
    "ak.sum(one_lep & one_lep_inprongs & two_quarks & matched_higgs)"
   ]
  },
  {
   "cell_type": "code",
   "execution_count": 151,
   "id": "77f2a067",
   "metadata": {},
   "outputs": [
    {
     "data": {
      "text/plain": [
       "450"
      ]
     },
     "execution_count": 151,
     "metadata": {},
     "output_type": "execute_result"
    }
   ],
   "source": [
    "dr = events[\"lep_dR_fj\"].array()<0.8\n",
    "\n",
    "ak.sum(one_lep & one_lep_inprongs & two_quarks & matched_higgs & dr)"
   ]
  },
  {
   "cell_type": "markdown",
   "id": "7176ec1f",
   "metadata": {},
   "source": [
    "# QCD file"
   ]
  },
  {
   "cell_type": "code",
   "execution_count": 154,
   "id": "0108282e",
   "metadata": {},
   "outputs": [],
   "source": [
    "events = uproot.open(\"../datafiles/ntuples/QCD_Pt_300to470/2018/train/out.root\")[\"Events\"]"
   ]
  },
  {
   "cell_type": "code",
   "execution_count": 156,
   "id": "32d061a9",
   "metadata": {},
   "outputs": [
    {
     "data": {
      "text/plain": [
       "0"
      ]
     },
     "execution_count": 156,
     "metadata": {},
     "output_type": "execute_result"
    }
   ],
   "source": [
    "(events[\"fj_genRes_mass\"].array()!=0).to_numpy().sum()"
   ]
  },
  {
   "cell_type": "code",
   "execution_count": 159,
   "id": "20b9a449",
   "metadata": {},
   "outputs": [
    {
     "data": {
      "text/plain": [
       "0"
      ]
     },
     "execution_count": 159,
     "metadata": {},
     "output_type": "execute_result"
    }
   ],
   "source": [
    "(events[\"fj_isQCD\"].array()!=1).to_numpy().sum()"
   ]
  },
  {
   "cell_type": "markdown",
   "id": "b875f157",
   "metadata": {},
   "source": [
    "# WJets file"
   ]
  },
  {
   "cell_type": "code",
   "execution_count": 161,
   "id": "6792b23a",
   "metadata": {},
   "outputs": [],
   "source": [
    "events = uproot.open(\"../datafiles/ntuples/WJetsToLNu_HT-200To400/2018/train/out.root\")[\"Events\"]"
   ]
  },
  {
   "cell_type": "code",
   "execution_count": 163,
   "id": "8f782342",
   "metadata": {},
   "outputs": [
    {
     "data": {
      "text/plain": [
       "0"
      ]
     },
     "execution_count": 163,
     "metadata": {},
     "output_type": "execute_result"
    }
   ],
   "source": [
    "(events[\"fj_genRes_mass\"].array()!=0).to_numpy().sum()"
   ]
  },
  {
   "cell_type": "code",
   "execution_count": 164,
   "id": "3edba4bb",
   "metadata": {},
   "outputs": [
    {
     "data": {
      "text/plain": [
       "0"
      ]
     },
     "execution_count": 164,
     "metadata": {},
     "output_type": "execute_result"
    }
   ],
   "source": [
    "(events[\"fj_isV\"].array()!=1).to_numpy().sum()"
   ]
  },
  {
   "cell_type": "code",
   "execution_count": 168,
   "id": "9ba375f0",
   "metadata": {},
   "outputs": [
    {
     "name": "stdout",
     "output_type": "stream",
     "text": [
      "isV_Matched: 7531\n",
      "~isV_Matched: 4698\n"
     ]
    }
   ],
   "source": [
    "matched_higgs = events[\"fj_isV_Matched\"].array()\n",
    "print(\"isV_Matched:\", ak.sum(matched_higgs))\n",
    "print(\"~isV_Matched:\", ak.sum(~matched_higgs))"
   ]
  },
  {
   "cell_type": "code",
   "execution_count": 170,
   "id": "94e8f83c",
   "metadata": {},
   "outputs": [
    {
     "data": {
      "text/plain": [
       "7513"
      ]
     },
     "execution_count": 170,
     "metadata": {},
     "output_type": "execute_result"
    }
   ],
   "source": [
    "one_lep = events[\"fj_isV_elenu\"].array() | events[\"fj_isV_munu\"].array()\n",
    "one_lep_inprongs = events[\"fj_lepinprongs\"].array()==1\n",
    "two_quarks = events[\"fj_isV_2q\"].array()\n",
    "\n",
    "ak.sum( (one_lep & one_lep_inprongs) | two_quarks)"
   ]
  },
  {
   "cell_type": "markdown",
   "id": "4a9b335e",
   "metadata": {},
   "source": [
    "# Top file"
   ]
  },
  {
   "cell_type": "code",
   "execution_count": 176,
   "id": "c98bad20",
   "metadata": {},
   "outputs": [],
   "source": [
    "events = uproot.open(\"../datafiles/ntuples/TTToSemiLeptonic/2018/train/out.root\")[\"Events\"]"
   ]
  },
  {
   "cell_type": "code",
   "execution_count": 178,
   "id": "cb613bd7",
   "metadata": {},
   "outputs": [
    {
     "data": {
      "text/plain": [
       "0"
      ]
     },
     "execution_count": 178,
     "metadata": {},
     "output_type": "execute_result"
    }
   ],
   "source": [
    "(events[\"fj_isTop\"].array()!=1).to_numpy().sum()"
   ]
  },
  {
   "cell_type": "code",
   "execution_count": 179,
   "id": "7131880a",
   "metadata": {},
   "outputs": [
    {
     "name": "stdout",
     "output_type": "stream",
     "text": [
      "isTop_Matched: 124432\n",
      "~isTop_Matched: 25366\n"
     ]
    }
   ],
   "source": [
    "matched_higgs = events[\"fj_isTop_Matched\"].array()\n",
    "print(\"isTop_Matched:\", ak.sum(matched_higgs))\n",
    "print(\"~isTop_Matched:\", ak.sum(~matched_higgs))"
   ]
  },
  {
   "cell_type": "code",
   "execution_count": 181,
   "id": "fc8a9b99",
   "metadata": {},
   "outputs": [
    {
     "name": "stdout",
     "output_type": "stream",
     "text": [
      "numMatched==0: 25108\n",
      "numMatched==1: 119101\n",
      "numMatched==2: 5589\n",
      "numMatched==3: 0\n"
     ]
    }
   ],
   "source": [
    "print(\"numMatched==0:\", ak.sum(events[\"fj_Top_numMatched\"].array()==0))\n",
    "print(\"numMatched==1:\", ak.sum(events[\"fj_Top_numMatched\"].array()==1))\n",
    "print(\"numMatched==2:\", ak.sum(events[\"fj_Top_numMatched\"].array()==2))\n",
    "print(\"numMatched==3:\", ak.sum(events[\"fj_Top_numMatched\"].array()==3))"
   ]
  },
  {
   "cell_type": "code",
   "execution_count": 186,
   "id": "edeffa82",
   "metadata": {},
   "outputs": [
    {
     "name": "stdout",
     "output_type": "stream",
     "text": [
      "Top_Wlep==1: 84508\n",
      "Top_Wlep_b==1: 62895\n"
     ]
    }
   ],
   "source": [
    "print(\"Top_Wlep==1:\", (events[\"fj_isTop_W_lep\"].array()==1).to_numpy().sum())\n",
    "print(\"Top_Wlep_b==1:\", (events[\"fj_isTop_W_lep_b\"].array()==1).to_numpy().sum())"
   ]
  }
 ],
 "metadata": {
  "kernelspec": {
   "display_name": "coffea-env",
   "language": "python",
   "name": "coffea-env"
  },
  "language_info": {
   "codemirror_mode": {
    "name": "ipython",
    "version": 3
   },
   "file_extension": ".py",
   "mimetype": "text/x-python",
   "name": "python",
   "nbconvert_exporter": "python",
   "pygments_lexer": "ipython3",
   "version": "3.9.0"
  }
 },
 "nbformat": 4,
 "nbformat_minor": 5
}
