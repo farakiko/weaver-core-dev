{
 "cells": [
  {
   "cell_type": "code",
   "execution_count": 1,
   "id": "cb702c12",
   "metadata": {},
   "outputs": [
    {
     "data": {
      "text/plain": [
       "{'divide': 'warn', 'over': 'warn', 'under': 'ignore', 'invalid': 'warn'}"
      ]
     },
     "execution_count": 1,
     "metadata": {},
     "output_type": "execute_result"
    }
   ],
   "source": [
    "import argparse\n",
    "import json\n",
    "import os\n",
    "import pathlib\n",
    "import pickle as pkl\n",
    "import shutil\n",
    "import sys\n",
    "import time\n",
    "import warnings\n",
    "from collections import defaultdict\n",
    "from typing import Dict, List, Optional\n",
    "\n",
    "import awkward as ak\n",
    "import matplotlib.pyplot as plt\n",
    "import numpy as np\n",
    "import pandas as pd\n",
    "import pyarrow as pa\n",
    "import pyarrow.parquet as pq\n",
    "\n",
    "### schema\n",
    "import uproot\n",
    "from coffea import nanoevents, processor\n",
    "from coffea.analysis_tools import PackedSelection, Weights\n",
    "from coffea.nanoevents import BaseSchema, NanoAODSchema, NanoEventsFactory\n",
    "from coffea.nanoevents.methods import candidate, vector\n",
    "\n",
    "import mplhep as hep\n",
    "\n",
    "plt.style.use(hep.style.CMS)\n",
    "\n",
    "### awkward 1.10.0\n",
    "sys.path.append(\"../\")\n",
    "\n",
    "nanoevents.PFNanoAODSchema.mixins[\"PFCands\"] = \"PFCand\"\n",
    "nanoevents.PFNanoAODSchema.mixins[\"SV\"] = \"PFCand\"\n",
    "\n",
    "warnings.filterwarnings(\"ignore\", message=\"Found duplicate branch \")\n",
    "warnings.filterwarnings(\"ignore\", category=DeprecationWarning)\n",
    "warnings.filterwarnings(\"ignore\", message=\"Missing cross-reference index \")\n",
    "warnings.filterwarnings(\"ignore\", message=\"divide by zero encountered in log\")\n",
    "np.seterr(invalid=\"ignore\")"
   ]
  },
  {
   "cell_type": "code",
   "execution_count": 2,
   "id": "90ffbf63",
   "metadata": {},
   "outputs": [],
   "source": [
    "%load_ext autoreload\n",
    "%autoreload 2"
   ]
  },
  {
   "cell_type": "code",
   "execution_count": 50,
   "id": "1d8a1d30",
   "metadata": {
    "scrolled": true
   },
   "outputs": [
    {
     "name": "stdout",
     "output_type": "stream",
     "text": [
      "../datafiles/ntuples/GluGluHToWW_Pt-200ToInf_M-125:\r\n",
      "\u001b[34mtest\u001b[m\u001b[m  \u001b[34mtrain\u001b[m\u001b[m\r\n",
      "\r\n",
      "../datafiles/ntuples/QCD_Pt_300to470:\r\n",
      "\u001b[34mtest\u001b[m\u001b[m  \u001b[34mtrain\u001b[m\u001b[m\r\n",
      "\r\n",
      "../datafiles/ntuples/QCD_Pt_470to600:\r\n",
      "\u001b[34mtest\u001b[m\u001b[m  \u001b[34mtrain\u001b[m\u001b[m\r\n",
      "\r\n",
      "../datafiles/ntuples/QCD_Pt_600to800:\r\n",
      "\u001b[34mtest\u001b[m\u001b[m  \u001b[34mtrain\u001b[m\u001b[m\r\n",
      "\r\n",
      "../datafiles/ntuples/QCD_Pt_800to1000:\r\n",
      "\u001b[34mtest\u001b[m\u001b[m  \u001b[34mtrain\u001b[m\u001b[m\r\n",
      "\r\n",
      "../datafiles/ntuples/TTToSemiLeptonic:\r\n",
      "\u001b[34mtest\u001b[m\u001b[m  \u001b[34mtrain\u001b[m\u001b[m\r\n",
      "\r\n",
      "../datafiles/ntuples/WJetsToLNu_HT-200To400:\r\n",
      "\u001b[34mtest\u001b[m\u001b[m  \u001b[34mtrain\u001b[m\u001b[m\r\n",
      "\r\n",
      "../datafiles/ntuples/WJetsToLNu_HT-400To600:\r\n",
      "\u001b[34mtest\u001b[m\u001b[m  \u001b[34mtrain\u001b[m\u001b[m\r\n",
      "\r\n",
      "../datafiles/ntuples/WJetsToLNu_HT-600To800:\r\n",
      "\u001b[34mtest\u001b[m\u001b[m  \u001b[34mtrain\u001b[m\u001b[m\r\n",
      "\r\n",
      "../datafiles/ntuples/WJetsToLNu_HT-800To1200:\r\n",
      "\u001b[34mtest\u001b[m\u001b[m  \u001b[34mtrain\u001b[m\u001b[m\r\n"
     ]
    }
   ],
   "source": [
    "! ls ../datafiles/ntuples/*"
   ]
  },
  {
   "cell_type": "markdown",
   "id": "1f521574",
   "metadata": {},
   "source": [
    "# Higgs file"
   ]
  },
  {
   "cell_type": "code",
   "execution_count": 51,
   "id": "51827a88",
   "metadata": {},
   "outputs": [
    {
     "data": {
      "text/plain": [
       "['fj_eta',\n",
       " 'fj_phi',\n",
       " 'fj_mass',\n",
       " 'fj_pt',\n",
       " 'fj_msoftdrop',\n",
       " 'matched_mask',\n",
       " 'fj_genjetmass',\n",
       " 'fj_genRes_pt',\n",
       " 'fj_genRes_eta',\n",
       " 'fj_genRes_phi',\n",
       " 'fj_genRes_mass',\n",
       " 'fj_nprongs',\n",
       " 'fj_ncquarks',\n",
       " 'fj_lepinprongs',\n",
       " 'fj_nquarks',\n",
       " 'fj_H_VV_4q',\n",
       " 'fj_H_VV_elenuqq',\n",
       " 'fj_H_VV_munuqq',\n",
       " 'fj_H_VV_leptauelvqq',\n",
       " 'fj_H_VV_leptaumuvqq',\n",
       " 'fj_H_VV_hadtauvqq',\n",
       " 'fj_QCDb',\n",
       " 'fj_QCDbb',\n",
       " 'fj_QCDc',\n",
       " 'fj_QCDcc',\n",
       " 'fj_QCDothers',\n",
       " 'fj_V_2q',\n",
       " 'fj_V_elenu',\n",
       " 'fj_V_munu',\n",
       " 'fj_V_taunu',\n",
       " 'fj_Top_nquarksnob',\n",
       " 'fj_Top_nbquarks',\n",
       " 'fj_Top_ncquarks',\n",
       " 'fj_Top_nleptons',\n",
       " 'fj_Top_nele',\n",
       " 'fj_Top_nmu',\n",
       " 'fj_Top_ntau',\n",
       " 'fj_Top_taudecay',\n",
       " 'met_relpt',\n",
       " 'met_relphi',\n",
       " 'lep_dR_fj',\n",
       " 'lep_pt',\n",
       " 'lep_pt_ratio',\n",
       " 'fj_ParT_inclusive_score',\n",
       " 'fj_ParT_mass',\n",
       " 'fj_ParT_hidNeuron000',\n",
       " 'fj_ParT_hidNeuron001',\n",
       " 'fj_ParT_hidNeuron002',\n",
       " 'fj_ParT_hidNeuron003',\n",
       " 'fj_ParT_hidNeuron004',\n",
       " 'fj_ParT_hidNeuron005',\n",
       " 'fj_ParT_hidNeuron006',\n",
       " 'fj_ParT_hidNeuron007',\n",
       " 'fj_ParT_hidNeuron008',\n",
       " 'fj_ParT_hidNeuron009',\n",
       " 'fj_ParT_hidNeuron010',\n",
       " 'fj_ParT_hidNeuron011',\n",
       " 'fj_ParT_hidNeuron012',\n",
       " 'fj_ParT_hidNeuron013',\n",
       " 'fj_ParT_hidNeuron014',\n",
       " 'fj_ParT_hidNeuron015',\n",
       " 'fj_ParT_hidNeuron016',\n",
       " 'fj_ParT_hidNeuron017',\n",
       " 'fj_ParT_hidNeuron018',\n",
       " 'fj_ParT_hidNeuron019',\n",
       " 'fj_ParT_hidNeuron020',\n",
       " 'fj_ParT_hidNeuron021',\n",
       " 'fj_ParT_hidNeuron022',\n",
       " 'fj_ParT_hidNeuron023',\n",
       " 'fj_ParT_hidNeuron024',\n",
       " 'fj_ParT_hidNeuron025',\n",
       " 'fj_ParT_hidNeuron026',\n",
       " 'fj_ParT_hidNeuron027',\n",
       " 'fj_ParT_hidNeuron028',\n",
       " 'fj_ParT_hidNeuron029',\n",
       " 'fj_ParT_hidNeuron030',\n",
       " 'fj_ParT_hidNeuron031',\n",
       " 'fj_ParT_hidNeuron032',\n",
       " 'fj_ParT_hidNeuron033',\n",
       " 'fj_ParT_hidNeuron034',\n",
       " 'fj_ParT_hidNeuron035',\n",
       " 'fj_ParT_hidNeuron036',\n",
       " 'fj_ParT_hidNeuron037',\n",
       " 'fj_ParT_hidNeuron038',\n",
       " 'fj_ParT_hidNeuron039',\n",
       " 'fj_ParT_hidNeuron040',\n",
       " 'fj_ParT_hidNeuron041',\n",
       " 'fj_ParT_hidNeuron042',\n",
       " 'fj_ParT_hidNeuron043',\n",
       " 'fj_ParT_hidNeuron044',\n",
       " 'fj_ParT_hidNeuron045',\n",
       " 'fj_ParT_hidNeuron046',\n",
       " 'fj_ParT_hidNeuron047',\n",
       " 'fj_ParT_hidNeuron048',\n",
       " 'fj_ParT_hidNeuron049',\n",
       " 'fj_ParT_hidNeuron050',\n",
       " 'fj_ParT_hidNeuron051',\n",
       " 'fj_ParT_hidNeuron052',\n",
       " 'fj_ParT_hidNeuron053',\n",
       " 'fj_ParT_hidNeuron054',\n",
       " 'fj_ParT_hidNeuron055',\n",
       " 'fj_ParT_hidNeuron056',\n",
       " 'fj_ParT_hidNeuron057',\n",
       " 'fj_ParT_hidNeuron058',\n",
       " 'fj_ParT_hidNeuron059',\n",
       " 'fj_ParT_hidNeuron060',\n",
       " 'fj_ParT_hidNeuron061',\n",
       " 'fj_ParT_hidNeuron062',\n",
       " 'fj_ParT_hidNeuron063',\n",
       " 'fj_ParT_hidNeuron064',\n",
       " 'fj_ParT_hidNeuron065',\n",
       " 'fj_ParT_hidNeuron066',\n",
       " 'fj_ParT_hidNeuron067',\n",
       " 'fj_ParT_hidNeuron068',\n",
       " 'fj_ParT_hidNeuron069',\n",
       " 'fj_ParT_hidNeuron070',\n",
       " 'fj_ParT_hidNeuron071',\n",
       " 'fj_ParT_hidNeuron072',\n",
       " 'fj_ParT_hidNeuron073',\n",
       " 'fj_ParT_hidNeuron074',\n",
       " 'fj_ParT_hidNeuron075',\n",
       " 'fj_ParT_hidNeuron076',\n",
       " 'fj_ParT_hidNeuron077',\n",
       " 'fj_ParT_hidNeuron078',\n",
       " 'fj_ParT_hidNeuron079',\n",
       " 'fj_ParT_hidNeuron080',\n",
       " 'fj_ParT_hidNeuron081',\n",
       " 'fj_ParT_hidNeuron082',\n",
       " 'fj_ParT_hidNeuron083',\n",
       " 'fj_ParT_hidNeuron084',\n",
       " 'fj_ParT_hidNeuron085',\n",
       " 'fj_ParT_hidNeuron086',\n",
       " 'fj_ParT_hidNeuron087',\n",
       " 'fj_ParT_hidNeuron088',\n",
       " 'fj_ParT_hidNeuron089',\n",
       " 'fj_ParT_hidNeuron090',\n",
       " 'fj_ParT_hidNeuron091',\n",
       " 'fj_ParT_hidNeuron092',\n",
       " 'fj_ParT_hidNeuron093',\n",
       " 'fj_ParT_hidNeuron094',\n",
       " 'fj_ParT_hidNeuron095',\n",
       " 'fj_ParT_hidNeuron096',\n",
       " 'fj_ParT_hidNeuron097',\n",
       " 'fj_ParT_hidNeuron098',\n",
       " 'fj_ParT_hidNeuron099',\n",
       " 'fj_ParT_hidNeuron100',\n",
       " 'fj_ParT_hidNeuron101',\n",
       " 'fj_ParT_hidNeuron102',\n",
       " 'fj_ParT_hidNeuron103',\n",
       " 'fj_ParT_hidNeuron104',\n",
       " 'fj_ParT_hidNeuron105',\n",
       " 'fj_ParT_hidNeuron106',\n",
       " 'fj_ParT_hidNeuron107',\n",
       " 'fj_ParT_hidNeuron108',\n",
       " 'fj_ParT_hidNeuron109',\n",
       " 'fj_ParT_hidNeuron110',\n",
       " 'fj_ParT_hidNeuron111',\n",
       " 'fj_ParT_hidNeuron112',\n",
       " 'fj_ParT_hidNeuron113',\n",
       " 'fj_ParT_hidNeuron114',\n",
       " 'fj_ParT_hidNeuron115',\n",
       " 'fj_ParT_hidNeuron116',\n",
       " 'fj_ParT_hidNeuron117',\n",
       " 'fj_ParT_hidNeuron118',\n",
       " 'fj_ParT_hidNeuron119',\n",
       " 'fj_ParT_hidNeuron120',\n",
       " 'fj_ParT_hidNeuron121',\n",
       " 'fj_ParT_hidNeuron122',\n",
       " 'fj_ParT_hidNeuron123',\n",
       " 'fj_ParT_hidNeuron124',\n",
       " 'fj_ParT_hidNeuron125',\n",
       " 'fj_ParT_hidNeuron126',\n",
       " 'fj_ParT_hidNeuron127']"
      ]
     },
     "execution_count": 51,
     "metadata": {},
     "output_type": "execute_result"
    }
   ],
   "source": [
    "events = uproot.open(\"../datafiles/ntuples/GluGluHToWW_Pt-200ToInf_M-125/train/out.root\")[\"Events\"]\n",
    "events.keys()"
   ]
  },
  {
   "cell_type": "code",
   "execution_count": 52,
   "id": "2967687c",
   "metadata": {},
   "outputs": [
    {
     "data": {
      "text/plain": [
       "<Array [125, 125, 125, 125, ... 125, 125, 125] type='98507 * float64'>"
      ]
     },
     "execution_count": 52,
     "metadata": {},
     "output_type": "execute_result"
    }
   ],
   "source": [
    "events[\"fj_genRes_mass\"].array()"
   ]
  },
  {
   "cell_type": "code",
   "execution_count": 9,
   "id": "645ef43a",
   "metadata": {},
   "outputs": [
    {
     "data": {
      "text/plain": [
       "<Array [0, 1, 0, 0, 0, 0, ... 0, 0, 1, 0, 1, 1] type='98507 * int64'>"
      ]
     },
     "execution_count": 9,
     "metadata": {},
     "output_type": "execute_result"
    }
   ],
   "source": [
    "events[\"fj_H_VV_elenuqq\"].array() + events[\"fj_H_VV_munuqq\"].array()"
   ]
  },
  {
   "cell_type": "code",
   "execution_count": 10,
   "id": "0b899466",
   "metadata": {},
   "outputs": [
    {
     "data": {
      "text/plain": [
       "<Array [0, 1, 0, 0, 0, 0, ... 0, 0, 1, 0, 0, 0] type='98507 * int64'>"
      ]
     },
     "execution_count": 10,
     "metadata": {},
     "output_type": "execute_result"
    }
   ],
   "source": [
    "events[\"fj_lepinprongs\"].array()"
   ]
  },
  {
   "cell_type": "code",
   "execution_count": 12,
   "id": "356fe08b",
   "metadata": {},
   "outputs": [
    {
     "data": {
      "text/plain": [
       "<Array [False, True, False, ... False, False] type='98507 * bool'>"
      ]
     },
     "execution_count": 12,
     "metadata": {},
     "output_type": "execute_result"
    }
   ],
   "source": [
    "(events[\"fj_lepinprongs\"].array()==1) & (events[\"fj_nquarks\"].array()==2)"
   ]
  },
  {
   "cell_type": "code",
   "execution_count": 13,
   "id": "b1559e9e",
   "metadata": {},
   "outputs": [
    {
     "data": {
      "text/plain": [
       "50890"
      ]
     },
     "execution_count": 13,
     "metadata": {},
     "output_type": "execute_result"
    }
   ],
   "source": [
    "matched_higgs = ( (events[\"fj_genRes_mass\"].array()==125) & (events[\"matched_mask\"].array()) )\n",
    "ak.sum(matched_higgs)"
   ]
  },
  {
   "cell_type": "code",
   "execution_count": 14,
   "id": "8262a250",
   "metadata": {},
   "outputs": [
    {
     "data": {
      "text/plain": [
       "47617"
      ]
     },
     "execution_count": 14,
     "metadata": {},
     "output_type": "execute_result"
    }
   ],
   "source": [
    "unmatched_higgs = ( (events[\"fj_genRes_mass\"].array()==125) & ~(events[\"matched_mask\"].array()) )\n",
    "ak.sum(unmatched_higgs)"
   ]
  },
  {
   "cell_type": "code",
   "execution_count": 15,
   "id": "12cfdbd4",
   "metadata": {},
   "outputs": [
    {
     "data": {
      "text/plain": [
       "15573"
      ]
     },
     "execution_count": 15,
     "metadata": {},
     "output_type": "execute_result"
    }
   ],
   "source": [
    "a = ( (events[\"fj_genRes_mass\"].array()==125) & (events[\"matched_mask\"].array() & (events[\"fj_lepinprongs\"].array()==1) & (f[\"Events\"][\"fj_nquarks\"].array()==2)) )\n",
    "ak.sum(a)"
   ]
  },
  {
   "cell_type": "code",
   "execution_count": 17,
   "id": "2c1257ab",
   "metadata": {},
   "outputs": [
    {
     "data": {
      "text/plain": [
       "<Array [False, True, False, ... False, False] type='98507 * bool'>"
      ]
     },
     "execution_count": 17,
     "metadata": {},
     "output_type": "execute_result"
    }
   ],
   "source": [
    "# matched Higgs: target mass = 125GeV\n",
    "one_lep_inprongs = events[\"fj_lepinprongs\"].array()==1\n",
    "two_quarks = events[\"fj_nquarks\"].array()==2\n",
    "\n",
    "events[\"matched_mask\"].array() & one_lep_inprongs & two_quarks"
   ]
  },
  {
   "cell_type": "code",
   "execution_count": 190,
   "id": "f8acc98e",
   "metadata": {},
   "outputs": [
    {
     "data": {
      "text/plain": [
       "1258"
      ]
     },
     "execution_count": 190,
     "metadata": {},
     "output_type": "execute_result"
    }
   ],
   "source": [
    "(events[\"matched_mask\"].array() & one_lep_inprongs & two_quarks).to_numpy().sum()"
   ]
  },
  {
   "cell_type": "code",
   "execution_count": 18,
   "id": "7b4b6e62",
   "metadata": {},
   "outputs": [
    {
     "data": {
      "text/plain": [
       "98507"
      ]
     },
     "execution_count": 18,
     "metadata": {},
     "output_type": "execute_result"
    }
   ],
   "source": [
    "ak.sum((events[\"fj_V_2q\"].array() + events[\"fj_V_elenu\"].array() + events[\"fj_V_munu\"].array() + events[\"fj_V_taunu\"].array())==0)"
   ]
  },
  {
   "cell_type": "markdown",
   "id": "7176ec1f",
   "metadata": {},
   "source": [
    "# QCD file"
   ]
  },
  {
   "cell_type": "code",
   "execution_count": 101,
   "id": "0108282e",
   "metadata": {},
   "outputs": [
    {
     "data": {
      "text/plain": [
       "['fj_eta',\n",
       " 'fj_phi',\n",
       " 'fj_mass',\n",
       " 'fj_pt',\n",
       " 'fj_msoftdrop',\n",
       " 'matched_mask',\n",
       " 'fj_genjetmass',\n",
       " 'fj_genRes_pt',\n",
       " 'fj_genRes_eta',\n",
       " 'fj_genRes_phi',\n",
       " 'fj_genRes_mass',\n",
       " 'fj_nprongs',\n",
       " 'fj_ncquarks',\n",
       " 'fj_lepinprongs',\n",
       " 'fj_nquarks',\n",
       " 'fj_H_VV_4q',\n",
       " 'fj_H_VV_elenuqq',\n",
       " 'fj_H_VV_munuqq',\n",
       " 'fj_H_VV_leptauelvqq',\n",
       " 'fj_H_VV_leptaumuvqq',\n",
       " 'fj_H_VV_hadtauvqq',\n",
       " 'fj_QCDb',\n",
       " 'fj_QCDbb',\n",
       " 'fj_QCDc',\n",
       " 'fj_QCDcc',\n",
       " 'fj_QCDothers',\n",
       " 'fj_V_2q',\n",
       " 'fj_V_elenu',\n",
       " 'fj_V_munu',\n",
       " 'fj_V_taunu',\n",
       " 'fj_Top_nquarksnob',\n",
       " 'fj_Top_nbquarks',\n",
       " 'fj_Top_ncquarks',\n",
       " 'fj_Top_nleptons',\n",
       " 'fj_Top_nele',\n",
       " 'fj_Top_nmu',\n",
       " 'fj_Top_ntau',\n",
       " 'fj_Top_taudecay',\n",
       " 'met_relpt',\n",
       " 'met_relphi',\n",
       " 'lep_dR_fj',\n",
       " 'lep_pt',\n",
       " 'lep_pt_ratio',\n",
       " 'fj_ParT_inclusive_score',\n",
       " 'fj_ParT_mass',\n",
       " 'fj_ParT_hidNeuron000',\n",
       " 'fj_ParT_hidNeuron001',\n",
       " 'fj_ParT_hidNeuron002',\n",
       " 'fj_ParT_hidNeuron003',\n",
       " 'fj_ParT_hidNeuron004',\n",
       " 'fj_ParT_hidNeuron005',\n",
       " 'fj_ParT_hidNeuron006',\n",
       " 'fj_ParT_hidNeuron007',\n",
       " 'fj_ParT_hidNeuron008',\n",
       " 'fj_ParT_hidNeuron009',\n",
       " 'fj_ParT_hidNeuron010',\n",
       " 'fj_ParT_hidNeuron011',\n",
       " 'fj_ParT_hidNeuron012',\n",
       " 'fj_ParT_hidNeuron013',\n",
       " 'fj_ParT_hidNeuron014',\n",
       " 'fj_ParT_hidNeuron015',\n",
       " 'fj_ParT_hidNeuron016',\n",
       " 'fj_ParT_hidNeuron017',\n",
       " 'fj_ParT_hidNeuron018',\n",
       " 'fj_ParT_hidNeuron019',\n",
       " 'fj_ParT_hidNeuron020',\n",
       " 'fj_ParT_hidNeuron021',\n",
       " 'fj_ParT_hidNeuron022',\n",
       " 'fj_ParT_hidNeuron023',\n",
       " 'fj_ParT_hidNeuron024',\n",
       " 'fj_ParT_hidNeuron025',\n",
       " 'fj_ParT_hidNeuron026',\n",
       " 'fj_ParT_hidNeuron027',\n",
       " 'fj_ParT_hidNeuron028',\n",
       " 'fj_ParT_hidNeuron029',\n",
       " 'fj_ParT_hidNeuron030',\n",
       " 'fj_ParT_hidNeuron031',\n",
       " 'fj_ParT_hidNeuron032',\n",
       " 'fj_ParT_hidNeuron033',\n",
       " 'fj_ParT_hidNeuron034',\n",
       " 'fj_ParT_hidNeuron035',\n",
       " 'fj_ParT_hidNeuron036',\n",
       " 'fj_ParT_hidNeuron037',\n",
       " 'fj_ParT_hidNeuron038',\n",
       " 'fj_ParT_hidNeuron039',\n",
       " 'fj_ParT_hidNeuron040',\n",
       " 'fj_ParT_hidNeuron041',\n",
       " 'fj_ParT_hidNeuron042',\n",
       " 'fj_ParT_hidNeuron043',\n",
       " 'fj_ParT_hidNeuron044',\n",
       " 'fj_ParT_hidNeuron045',\n",
       " 'fj_ParT_hidNeuron046',\n",
       " 'fj_ParT_hidNeuron047',\n",
       " 'fj_ParT_hidNeuron048',\n",
       " 'fj_ParT_hidNeuron049',\n",
       " 'fj_ParT_hidNeuron050',\n",
       " 'fj_ParT_hidNeuron051',\n",
       " 'fj_ParT_hidNeuron052',\n",
       " 'fj_ParT_hidNeuron053',\n",
       " 'fj_ParT_hidNeuron054',\n",
       " 'fj_ParT_hidNeuron055',\n",
       " 'fj_ParT_hidNeuron056',\n",
       " 'fj_ParT_hidNeuron057',\n",
       " 'fj_ParT_hidNeuron058',\n",
       " 'fj_ParT_hidNeuron059',\n",
       " 'fj_ParT_hidNeuron060',\n",
       " 'fj_ParT_hidNeuron061',\n",
       " 'fj_ParT_hidNeuron062',\n",
       " 'fj_ParT_hidNeuron063',\n",
       " 'fj_ParT_hidNeuron064',\n",
       " 'fj_ParT_hidNeuron065',\n",
       " 'fj_ParT_hidNeuron066',\n",
       " 'fj_ParT_hidNeuron067',\n",
       " 'fj_ParT_hidNeuron068',\n",
       " 'fj_ParT_hidNeuron069',\n",
       " 'fj_ParT_hidNeuron070',\n",
       " 'fj_ParT_hidNeuron071',\n",
       " 'fj_ParT_hidNeuron072',\n",
       " 'fj_ParT_hidNeuron073',\n",
       " 'fj_ParT_hidNeuron074',\n",
       " 'fj_ParT_hidNeuron075',\n",
       " 'fj_ParT_hidNeuron076',\n",
       " 'fj_ParT_hidNeuron077',\n",
       " 'fj_ParT_hidNeuron078',\n",
       " 'fj_ParT_hidNeuron079',\n",
       " 'fj_ParT_hidNeuron080',\n",
       " 'fj_ParT_hidNeuron081',\n",
       " 'fj_ParT_hidNeuron082',\n",
       " 'fj_ParT_hidNeuron083',\n",
       " 'fj_ParT_hidNeuron084',\n",
       " 'fj_ParT_hidNeuron085',\n",
       " 'fj_ParT_hidNeuron086',\n",
       " 'fj_ParT_hidNeuron087',\n",
       " 'fj_ParT_hidNeuron088',\n",
       " 'fj_ParT_hidNeuron089',\n",
       " 'fj_ParT_hidNeuron090',\n",
       " 'fj_ParT_hidNeuron091',\n",
       " 'fj_ParT_hidNeuron092',\n",
       " 'fj_ParT_hidNeuron093',\n",
       " 'fj_ParT_hidNeuron094',\n",
       " 'fj_ParT_hidNeuron095',\n",
       " 'fj_ParT_hidNeuron096',\n",
       " 'fj_ParT_hidNeuron097',\n",
       " 'fj_ParT_hidNeuron098',\n",
       " 'fj_ParT_hidNeuron099',\n",
       " 'fj_ParT_hidNeuron100',\n",
       " 'fj_ParT_hidNeuron101',\n",
       " 'fj_ParT_hidNeuron102',\n",
       " 'fj_ParT_hidNeuron103',\n",
       " 'fj_ParT_hidNeuron104',\n",
       " 'fj_ParT_hidNeuron105',\n",
       " 'fj_ParT_hidNeuron106',\n",
       " 'fj_ParT_hidNeuron107',\n",
       " 'fj_ParT_hidNeuron108',\n",
       " 'fj_ParT_hidNeuron109',\n",
       " 'fj_ParT_hidNeuron110',\n",
       " 'fj_ParT_hidNeuron111',\n",
       " 'fj_ParT_hidNeuron112',\n",
       " 'fj_ParT_hidNeuron113',\n",
       " 'fj_ParT_hidNeuron114',\n",
       " 'fj_ParT_hidNeuron115',\n",
       " 'fj_ParT_hidNeuron116',\n",
       " 'fj_ParT_hidNeuron117',\n",
       " 'fj_ParT_hidNeuron118',\n",
       " 'fj_ParT_hidNeuron119',\n",
       " 'fj_ParT_hidNeuron120',\n",
       " 'fj_ParT_hidNeuron121',\n",
       " 'fj_ParT_hidNeuron122',\n",
       " 'fj_ParT_hidNeuron123',\n",
       " 'fj_ParT_hidNeuron124',\n",
       " 'fj_ParT_hidNeuron125',\n",
       " 'fj_ParT_hidNeuron126',\n",
       " 'fj_ParT_hidNeuron127']"
      ]
     },
     "execution_count": 101,
     "metadata": {},
     "output_type": "execute_result"
    }
   ],
   "source": [
    "events = uproot.open(\"../datafiles/ntuples/QCD_Pt_300to470/train/out.root\")[\"Events\"]\n",
    "events.keys()"
   ]
  },
  {
   "cell_type": "code",
   "execution_count": 102,
   "id": "6c31c393",
   "metadata": {},
   "outputs": [
    {
     "data": {
      "text/plain": [
       "<Array [0, 0, 0, 0, 0, 0, ... 0, 0, 0, 0, 0, 0] type='38434 * float64'>"
      ]
     },
     "execution_count": 102,
     "metadata": {},
     "output_type": "execute_result"
    }
   ],
   "source": [
    "events[\"fj_genRes_mass\"].array()"
   ]
  },
  {
   "cell_type": "code",
   "execution_count": 57,
   "id": "eb23c9fa",
   "metadata": {},
   "outputs": [
    {
     "data": {
      "text/plain": [
       "<Array [1, 1, 1, 1, 1, 1, ... 1, 1, 1, 1, 1, 1] type='38434 * int64'>"
      ]
     },
     "execution_count": 57,
     "metadata": {},
     "output_type": "execute_result"
    }
   ],
   "source": [
    "events[\"fj_QCDb\"].array() + events[\"fj_QCDbb\"].array() + events[\"fj_QCDc\"].array() + events[\"fj_QCDcc\"].array() + events[\"fj_QCDothers\"].array()"
   ]
  },
  {
   "cell_type": "markdown",
   "id": "b875f157",
   "metadata": {},
   "source": [
    "# WJets file"
   ]
  },
  {
   "cell_type": "code",
   "execution_count": 82,
   "id": "6792b23a",
   "metadata": {},
   "outputs": [
    {
     "data": {
      "text/plain": [
       "['fj_eta',\n",
       " 'fj_phi',\n",
       " 'fj_mass',\n",
       " 'fj_pt',\n",
       " 'fj_msoftdrop',\n",
       " 'matched_mask',\n",
       " 'fj_genjetmass',\n",
       " 'fj_genRes_pt',\n",
       " 'fj_genRes_eta',\n",
       " 'fj_genRes_phi',\n",
       " 'fj_genRes_mass',\n",
       " 'fj_nprongs',\n",
       " 'fj_ncquarks',\n",
       " 'fj_lepinprongs',\n",
       " 'fj_nquarks',\n",
       " 'fj_H_VV_4q',\n",
       " 'fj_H_VV_elenuqq',\n",
       " 'fj_H_VV_munuqq',\n",
       " 'fj_H_VV_leptauelvqq',\n",
       " 'fj_H_VV_leptaumuvqq',\n",
       " 'fj_H_VV_hadtauvqq',\n",
       " 'fj_QCDb',\n",
       " 'fj_QCDbb',\n",
       " 'fj_QCDc',\n",
       " 'fj_QCDcc',\n",
       " 'fj_QCDothers',\n",
       " 'fj_V_2q',\n",
       " 'fj_V_elenu',\n",
       " 'fj_V_munu',\n",
       " 'fj_V_taunu',\n",
       " 'fj_Top_nquarksnob',\n",
       " 'fj_Top_nbquarks',\n",
       " 'fj_Top_ncquarks',\n",
       " 'fj_Top_nleptons',\n",
       " 'fj_Top_nele',\n",
       " 'fj_Top_nmu',\n",
       " 'fj_Top_ntau',\n",
       " 'fj_Top_taudecay',\n",
       " 'met_relpt',\n",
       " 'met_relphi',\n",
       " 'lep_dR_fj',\n",
       " 'lep_pt',\n",
       " 'lep_pt_ratio',\n",
       " 'fj_ParT_inclusive_score',\n",
       " 'fj_ParT_mass',\n",
       " 'fj_ParT_hidNeuron000',\n",
       " 'fj_ParT_hidNeuron001',\n",
       " 'fj_ParT_hidNeuron002',\n",
       " 'fj_ParT_hidNeuron003',\n",
       " 'fj_ParT_hidNeuron004',\n",
       " 'fj_ParT_hidNeuron005',\n",
       " 'fj_ParT_hidNeuron006',\n",
       " 'fj_ParT_hidNeuron007',\n",
       " 'fj_ParT_hidNeuron008',\n",
       " 'fj_ParT_hidNeuron009',\n",
       " 'fj_ParT_hidNeuron010',\n",
       " 'fj_ParT_hidNeuron011',\n",
       " 'fj_ParT_hidNeuron012',\n",
       " 'fj_ParT_hidNeuron013',\n",
       " 'fj_ParT_hidNeuron014',\n",
       " 'fj_ParT_hidNeuron015',\n",
       " 'fj_ParT_hidNeuron016',\n",
       " 'fj_ParT_hidNeuron017',\n",
       " 'fj_ParT_hidNeuron018',\n",
       " 'fj_ParT_hidNeuron019',\n",
       " 'fj_ParT_hidNeuron020',\n",
       " 'fj_ParT_hidNeuron021',\n",
       " 'fj_ParT_hidNeuron022',\n",
       " 'fj_ParT_hidNeuron023',\n",
       " 'fj_ParT_hidNeuron024',\n",
       " 'fj_ParT_hidNeuron025',\n",
       " 'fj_ParT_hidNeuron026',\n",
       " 'fj_ParT_hidNeuron027',\n",
       " 'fj_ParT_hidNeuron028',\n",
       " 'fj_ParT_hidNeuron029',\n",
       " 'fj_ParT_hidNeuron030',\n",
       " 'fj_ParT_hidNeuron031',\n",
       " 'fj_ParT_hidNeuron032',\n",
       " 'fj_ParT_hidNeuron033',\n",
       " 'fj_ParT_hidNeuron034',\n",
       " 'fj_ParT_hidNeuron035',\n",
       " 'fj_ParT_hidNeuron036',\n",
       " 'fj_ParT_hidNeuron037',\n",
       " 'fj_ParT_hidNeuron038',\n",
       " 'fj_ParT_hidNeuron039',\n",
       " 'fj_ParT_hidNeuron040',\n",
       " 'fj_ParT_hidNeuron041',\n",
       " 'fj_ParT_hidNeuron042',\n",
       " 'fj_ParT_hidNeuron043',\n",
       " 'fj_ParT_hidNeuron044',\n",
       " 'fj_ParT_hidNeuron045',\n",
       " 'fj_ParT_hidNeuron046',\n",
       " 'fj_ParT_hidNeuron047',\n",
       " 'fj_ParT_hidNeuron048',\n",
       " 'fj_ParT_hidNeuron049',\n",
       " 'fj_ParT_hidNeuron050',\n",
       " 'fj_ParT_hidNeuron051',\n",
       " 'fj_ParT_hidNeuron052',\n",
       " 'fj_ParT_hidNeuron053',\n",
       " 'fj_ParT_hidNeuron054',\n",
       " 'fj_ParT_hidNeuron055',\n",
       " 'fj_ParT_hidNeuron056',\n",
       " 'fj_ParT_hidNeuron057',\n",
       " 'fj_ParT_hidNeuron058',\n",
       " 'fj_ParT_hidNeuron059',\n",
       " 'fj_ParT_hidNeuron060',\n",
       " 'fj_ParT_hidNeuron061',\n",
       " 'fj_ParT_hidNeuron062',\n",
       " 'fj_ParT_hidNeuron063',\n",
       " 'fj_ParT_hidNeuron064',\n",
       " 'fj_ParT_hidNeuron065',\n",
       " 'fj_ParT_hidNeuron066',\n",
       " 'fj_ParT_hidNeuron067',\n",
       " 'fj_ParT_hidNeuron068',\n",
       " 'fj_ParT_hidNeuron069',\n",
       " 'fj_ParT_hidNeuron070',\n",
       " 'fj_ParT_hidNeuron071',\n",
       " 'fj_ParT_hidNeuron072',\n",
       " 'fj_ParT_hidNeuron073',\n",
       " 'fj_ParT_hidNeuron074',\n",
       " 'fj_ParT_hidNeuron075',\n",
       " 'fj_ParT_hidNeuron076',\n",
       " 'fj_ParT_hidNeuron077',\n",
       " 'fj_ParT_hidNeuron078',\n",
       " 'fj_ParT_hidNeuron079',\n",
       " 'fj_ParT_hidNeuron080',\n",
       " 'fj_ParT_hidNeuron081',\n",
       " 'fj_ParT_hidNeuron082',\n",
       " 'fj_ParT_hidNeuron083',\n",
       " 'fj_ParT_hidNeuron084',\n",
       " 'fj_ParT_hidNeuron085',\n",
       " 'fj_ParT_hidNeuron086',\n",
       " 'fj_ParT_hidNeuron087',\n",
       " 'fj_ParT_hidNeuron088',\n",
       " 'fj_ParT_hidNeuron089',\n",
       " 'fj_ParT_hidNeuron090',\n",
       " 'fj_ParT_hidNeuron091',\n",
       " 'fj_ParT_hidNeuron092',\n",
       " 'fj_ParT_hidNeuron093',\n",
       " 'fj_ParT_hidNeuron094',\n",
       " 'fj_ParT_hidNeuron095',\n",
       " 'fj_ParT_hidNeuron096',\n",
       " 'fj_ParT_hidNeuron097',\n",
       " 'fj_ParT_hidNeuron098',\n",
       " 'fj_ParT_hidNeuron099',\n",
       " 'fj_ParT_hidNeuron100',\n",
       " 'fj_ParT_hidNeuron101',\n",
       " 'fj_ParT_hidNeuron102',\n",
       " 'fj_ParT_hidNeuron103',\n",
       " 'fj_ParT_hidNeuron104',\n",
       " 'fj_ParT_hidNeuron105',\n",
       " 'fj_ParT_hidNeuron106',\n",
       " 'fj_ParT_hidNeuron107',\n",
       " 'fj_ParT_hidNeuron108',\n",
       " 'fj_ParT_hidNeuron109',\n",
       " 'fj_ParT_hidNeuron110',\n",
       " 'fj_ParT_hidNeuron111',\n",
       " 'fj_ParT_hidNeuron112',\n",
       " 'fj_ParT_hidNeuron113',\n",
       " 'fj_ParT_hidNeuron114',\n",
       " 'fj_ParT_hidNeuron115',\n",
       " 'fj_ParT_hidNeuron116',\n",
       " 'fj_ParT_hidNeuron117',\n",
       " 'fj_ParT_hidNeuron118',\n",
       " 'fj_ParT_hidNeuron119',\n",
       " 'fj_ParT_hidNeuron120',\n",
       " 'fj_ParT_hidNeuron121',\n",
       " 'fj_ParT_hidNeuron122',\n",
       " 'fj_ParT_hidNeuron123',\n",
       " 'fj_ParT_hidNeuron124',\n",
       " 'fj_ParT_hidNeuron125',\n",
       " 'fj_ParT_hidNeuron126',\n",
       " 'fj_ParT_hidNeuron127']"
      ]
     },
     "execution_count": 82,
     "metadata": {},
     "output_type": "execute_result"
    }
   ],
   "source": [
    "events = uproot.open(\"../datafiles/ntuples/WJetsToLNu_HT-200To400/train/out.root\")[\"Events\"]\n",
    "events.keys()"
   ]
  },
  {
   "cell_type": "code",
   "execution_count": 83,
   "id": "c957f7a9",
   "metadata": {},
   "outputs": [
    {
     "data": {
      "text/plain": [
       "<Array [0, 0, 0, 0, 0, 0, ... 0, 0, 0, 0, 0, 0] type='33465 * float64'>"
      ]
     },
     "execution_count": 83,
     "metadata": {},
     "output_type": "execute_result"
    }
   ],
   "source": [
    "events[\"fj_genRes_mass\"].array()"
   ]
  },
  {
   "cell_type": "code",
   "execution_count": 84,
   "id": "efbbb967",
   "metadata": {},
   "outputs": [
    {
     "name": "stdout",
     "output_type": "stream",
     "text": [
      "fj_V_2q: 0\n",
      "fj_V_elenu: 13244\n",
      "fj_V_munu: 14485\n",
      "fj_V_taunu: 5736\n"
     ]
    },
    {
     "data": {
      "text/plain": [
       "0"
      ]
     },
     "execution_count": 84,
     "metadata": {},
     "output_type": "execute_result"
    }
   ],
   "source": [
    "# all wjets events belong to one of the decays\n",
    "\n",
    "for decay in [\"fj_V_2q\", \"fj_V_elenu\", \"fj_V_munu\", \"fj_V_taunu\"]:\n",
    "    print(f\"{decay}: {ak.sum(events[decay].array())}\")\n",
    "\n",
    "ak.sum((events[\"fj_V_2q\"].array() + events[\"fj_V_elenu\"].array() + events[\"fj_V_munu\"].array() + events[\"fj_V_taunu\"].array())==0)"
   ]
  },
  {
   "cell_type": "code",
   "execution_count": 85,
   "id": "29a287c7",
   "metadata": {},
   "outputs": [
    {
     "data": {
      "text/plain": [
       "10032"
      ]
     },
     "execution_count": 85,
     "metadata": {},
     "output_type": "execute_result"
    }
   ],
   "source": [
    "# merged Ws: target mass = 80GeV\n",
    "lep_in_W = (events[\"fj_V_munu\"].array()>0) | (events[\"fj_V_elenu\"].array()>0)\n",
    "\n",
    "(events[\"matched_mask\"].array() & lep_in_W).to_numpy().sum()"
   ]
  },
  {
   "cell_type": "code",
   "execution_count": 86,
   "id": "1f1f963a",
   "metadata": {},
   "outputs": [
    {
     "data": {
      "text/plain": [
       "23043"
      ]
     },
     "execution_count": 86,
     "metadata": {},
     "output_type": "execute_result"
    }
   ],
   "source": [
    "# unmatched Ws: target mass = fj_genjetmass\n",
    "(~events[\"matched_mask\"].array()).to_numpy().sum()"
   ]
  },
  {
   "cell_type": "markdown",
   "id": "4a9b335e",
   "metadata": {},
   "source": [
    "# Top file"
   ]
  },
  {
   "cell_type": "code",
   "execution_count": 87,
   "id": "c98bad20",
   "metadata": {},
   "outputs": [
    {
     "data": {
      "text/plain": [
       "['fj_eta',\n",
       " 'fj_phi',\n",
       " 'fj_mass',\n",
       " 'fj_pt',\n",
       " 'fj_msoftdrop',\n",
       " 'matched_mask',\n",
       " 'fj_genjetmass',\n",
       " 'fj_genRes_pt',\n",
       " 'fj_genRes_eta',\n",
       " 'fj_genRes_phi',\n",
       " 'fj_genRes_mass',\n",
       " 'fj_nprongs',\n",
       " 'fj_ncquarks',\n",
       " 'fj_lepinprongs',\n",
       " 'fj_nquarks',\n",
       " 'fj_H_VV_4q',\n",
       " 'fj_H_VV_elenuqq',\n",
       " 'fj_H_VV_munuqq',\n",
       " 'fj_H_VV_leptauelvqq',\n",
       " 'fj_H_VV_leptaumuvqq',\n",
       " 'fj_H_VV_hadtauvqq',\n",
       " 'fj_QCDb',\n",
       " 'fj_QCDbb',\n",
       " 'fj_QCDc',\n",
       " 'fj_QCDcc',\n",
       " 'fj_QCDothers',\n",
       " 'fj_V_2q',\n",
       " 'fj_V_elenu',\n",
       " 'fj_V_munu',\n",
       " 'fj_V_taunu',\n",
       " 'fj_Top_nquarksnob',\n",
       " 'fj_Top_nbquarks',\n",
       " 'fj_Top_ncquarks',\n",
       " 'fj_Top_nleptons',\n",
       " 'fj_Top_nele',\n",
       " 'fj_Top_nmu',\n",
       " 'fj_Top_ntau',\n",
       " 'fj_Top_taudecay',\n",
       " 'met_relpt',\n",
       " 'met_relphi',\n",
       " 'lep_dR_fj',\n",
       " 'lep_pt',\n",
       " 'lep_pt_ratio',\n",
       " 'fj_ParT_inclusive_score',\n",
       " 'fj_ParT_mass',\n",
       " 'fj_ParT_hidNeuron000',\n",
       " 'fj_ParT_hidNeuron001',\n",
       " 'fj_ParT_hidNeuron002',\n",
       " 'fj_ParT_hidNeuron003',\n",
       " 'fj_ParT_hidNeuron004',\n",
       " 'fj_ParT_hidNeuron005',\n",
       " 'fj_ParT_hidNeuron006',\n",
       " 'fj_ParT_hidNeuron007',\n",
       " 'fj_ParT_hidNeuron008',\n",
       " 'fj_ParT_hidNeuron009',\n",
       " 'fj_ParT_hidNeuron010',\n",
       " 'fj_ParT_hidNeuron011',\n",
       " 'fj_ParT_hidNeuron012',\n",
       " 'fj_ParT_hidNeuron013',\n",
       " 'fj_ParT_hidNeuron014',\n",
       " 'fj_ParT_hidNeuron015',\n",
       " 'fj_ParT_hidNeuron016',\n",
       " 'fj_ParT_hidNeuron017',\n",
       " 'fj_ParT_hidNeuron018',\n",
       " 'fj_ParT_hidNeuron019',\n",
       " 'fj_ParT_hidNeuron020',\n",
       " 'fj_ParT_hidNeuron021',\n",
       " 'fj_ParT_hidNeuron022',\n",
       " 'fj_ParT_hidNeuron023',\n",
       " 'fj_ParT_hidNeuron024',\n",
       " 'fj_ParT_hidNeuron025',\n",
       " 'fj_ParT_hidNeuron026',\n",
       " 'fj_ParT_hidNeuron027',\n",
       " 'fj_ParT_hidNeuron028',\n",
       " 'fj_ParT_hidNeuron029',\n",
       " 'fj_ParT_hidNeuron030',\n",
       " 'fj_ParT_hidNeuron031',\n",
       " 'fj_ParT_hidNeuron032',\n",
       " 'fj_ParT_hidNeuron033',\n",
       " 'fj_ParT_hidNeuron034',\n",
       " 'fj_ParT_hidNeuron035',\n",
       " 'fj_ParT_hidNeuron036',\n",
       " 'fj_ParT_hidNeuron037',\n",
       " 'fj_ParT_hidNeuron038',\n",
       " 'fj_ParT_hidNeuron039',\n",
       " 'fj_ParT_hidNeuron040',\n",
       " 'fj_ParT_hidNeuron041',\n",
       " 'fj_ParT_hidNeuron042',\n",
       " 'fj_ParT_hidNeuron043',\n",
       " 'fj_ParT_hidNeuron044',\n",
       " 'fj_ParT_hidNeuron045',\n",
       " 'fj_ParT_hidNeuron046',\n",
       " 'fj_ParT_hidNeuron047',\n",
       " 'fj_ParT_hidNeuron048',\n",
       " 'fj_ParT_hidNeuron049',\n",
       " 'fj_ParT_hidNeuron050',\n",
       " 'fj_ParT_hidNeuron051',\n",
       " 'fj_ParT_hidNeuron052',\n",
       " 'fj_ParT_hidNeuron053',\n",
       " 'fj_ParT_hidNeuron054',\n",
       " 'fj_ParT_hidNeuron055',\n",
       " 'fj_ParT_hidNeuron056',\n",
       " 'fj_ParT_hidNeuron057',\n",
       " 'fj_ParT_hidNeuron058',\n",
       " 'fj_ParT_hidNeuron059',\n",
       " 'fj_ParT_hidNeuron060',\n",
       " 'fj_ParT_hidNeuron061',\n",
       " 'fj_ParT_hidNeuron062',\n",
       " 'fj_ParT_hidNeuron063',\n",
       " 'fj_ParT_hidNeuron064',\n",
       " 'fj_ParT_hidNeuron065',\n",
       " 'fj_ParT_hidNeuron066',\n",
       " 'fj_ParT_hidNeuron067',\n",
       " 'fj_ParT_hidNeuron068',\n",
       " 'fj_ParT_hidNeuron069',\n",
       " 'fj_ParT_hidNeuron070',\n",
       " 'fj_ParT_hidNeuron071',\n",
       " 'fj_ParT_hidNeuron072',\n",
       " 'fj_ParT_hidNeuron073',\n",
       " 'fj_ParT_hidNeuron074',\n",
       " 'fj_ParT_hidNeuron075',\n",
       " 'fj_ParT_hidNeuron076',\n",
       " 'fj_ParT_hidNeuron077',\n",
       " 'fj_ParT_hidNeuron078',\n",
       " 'fj_ParT_hidNeuron079',\n",
       " 'fj_ParT_hidNeuron080',\n",
       " 'fj_ParT_hidNeuron081',\n",
       " 'fj_ParT_hidNeuron082',\n",
       " 'fj_ParT_hidNeuron083',\n",
       " 'fj_ParT_hidNeuron084',\n",
       " 'fj_ParT_hidNeuron085',\n",
       " 'fj_ParT_hidNeuron086',\n",
       " 'fj_ParT_hidNeuron087',\n",
       " 'fj_ParT_hidNeuron088',\n",
       " 'fj_ParT_hidNeuron089',\n",
       " 'fj_ParT_hidNeuron090',\n",
       " 'fj_ParT_hidNeuron091',\n",
       " 'fj_ParT_hidNeuron092',\n",
       " 'fj_ParT_hidNeuron093',\n",
       " 'fj_ParT_hidNeuron094',\n",
       " 'fj_ParT_hidNeuron095',\n",
       " 'fj_ParT_hidNeuron096',\n",
       " 'fj_ParT_hidNeuron097',\n",
       " 'fj_ParT_hidNeuron098',\n",
       " 'fj_ParT_hidNeuron099',\n",
       " 'fj_ParT_hidNeuron100',\n",
       " 'fj_ParT_hidNeuron101',\n",
       " 'fj_ParT_hidNeuron102',\n",
       " 'fj_ParT_hidNeuron103',\n",
       " 'fj_ParT_hidNeuron104',\n",
       " 'fj_ParT_hidNeuron105',\n",
       " 'fj_ParT_hidNeuron106',\n",
       " 'fj_ParT_hidNeuron107',\n",
       " 'fj_ParT_hidNeuron108',\n",
       " 'fj_ParT_hidNeuron109',\n",
       " 'fj_ParT_hidNeuron110',\n",
       " 'fj_ParT_hidNeuron111',\n",
       " 'fj_ParT_hidNeuron112',\n",
       " 'fj_ParT_hidNeuron113',\n",
       " 'fj_ParT_hidNeuron114',\n",
       " 'fj_ParT_hidNeuron115',\n",
       " 'fj_ParT_hidNeuron116',\n",
       " 'fj_ParT_hidNeuron117',\n",
       " 'fj_ParT_hidNeuron118',\n",
       " 'fj_ParT_hidNeuron119',\n",
       " 'fj_ParT_hidNeuron120',\n",
       " 'fj_ParT_hidNeuron121',\n",
       " 'fj_ParT_hidNeuron122',\n",
       " 'fj_ParT_hidNeuron123',\n",
       " 'fj_ParT_hidNeuron124',\n",
       " 'fj_ParT_hidNeuron125',\n",
       " 'fj_ParT_hidNeuron126',\n",
       " 'fj_ParT_hidNeuron127']"
      ]
     },
     "execution_count": 87,
     "metadata": {},
     "output_type": "execute_result"
    }
   ],
   "source": [
    "events = uproot.open(\"../datafiles/ntuples/TTToSemiLeptonic/train/out.root\")[\"Events\"]\n",
    "events.keys()"
   ]
  },
  {
   "cell_type": "code",
   "execution_count": 88,
   "id": "3e9a1187",
   "metadata": {},
   "outputs": [
    {
     "data": {
      "text/plain": [
       "<Array [0, 0, 0, 0, 0, 0, ... 0, 0, 0, 0, 0, 0] type='219138 * float64'>"
      ]
     },
     "execution_count": 88,
     "metadata": {},
     "output_type": "execute_result"
    }
   ],
   "source": [
    "events[\"fj_genRes_mass\"].array()"
   ]
  },
  {
   "cell_type": "code",
   "execution_count": 89,
   "id": "8424bbcb",
   "metadata": {},
   "outputs": [
    {
     "data": {
      "text/plain": [
       "50146"
      ]
     },
     "execution_count": 89,
     "metadata": {},
     "output_type": "execute_result"
    }
   ],
   "source": [
    "# fully merged Top: target mass = 175GeV\n",
    "lep_in_jet = events[\"fj_Top_nleptons\"].array()>0\n",
    "bquark_in_jet = events[\"fj_Top_nbquarks\"].array()>0\n",
    "\n",
    "(events[\"matched_mask\"].array() & lep_in_jet & bquark_in_jet).to_numpy().sum()"
   ]
  },
  {
   "cell_type": "code",
   "execution_count": 90,
   "id": "d6ccaa98",
   "metadata": {},
   "outputs": [
    {
     "data": {
      "text/plain": [
       "23300"
      ]
     },
     "execution_count": 90,
     "metadata": {},
     "output_type": "execute_result"
    }
   ],
   "source": [
    "# W merged Top: target mass = 80GeV\n",
    "(events[\"matched_mask\"].array() & lep_in_jet & ~bquark_in_jet).to_numpy().sum()"
   ]
  },
  {
   "cell_type": "code",
   "execution_count": 91,
   "id": "5da813bb",
   "metadata": {},
   "outputs": [
    {
     "data": {
      "text/plain": [
       "48306"
      ]
     },
     "execution_count": 91,
     "metadata": {},
     "output_type": "execute_result"
    }
   ],
   "source": [
    "# unmatched Top: target mass = fj_genjetmass\n",
    "(~events[\"matched_mask\"].array()).to_numpy().sum()"
   ]
  },
  {
   "cell_type": "markdown",
   "id": "1026eaa6",
   "metadata": {},
   "source": [
    "# Check Number of events in ntuples"
   ]
  },
  {
   "cell_type": "code",
   "execution_count": 95,
   "id": "50cc50c8",
   "metadata": {},
   "outputs": [],
   "source": [
    "samples = [\n",
    "    \"GluGluHToWW_Pt-200ToInf_M-125\",\n",
    "    \"TTToSemiLeptonic\",\n",
    "    \"WJetsToLNu_HT-200To400\",\n",
    "    \"WJetsToLNu_HT-400To600\",\n",
    "    \"WJetsToLNu_HT-600To800\",\n",
    "    \"WJetsToLNu_HT-800To1200\",\n",
    "    \"QCD_Pt_300to470\",\n",
    "    \"QCD_Pt_470to600\",\n",
    "    \"QCD_Pt_600to800\",\n",
    "    \"QCD_Pt_800to1000\"\n",
    "]"
   ]
  },
  {
   "cell_type": "code",
   "execution_count": 97,
   "id": "73889f20",
   "metadata": {},
   "outputs": [
    {
     "name": "stdout",
     "output_type": "stream",
     "text": [
      "GluGluHToWW_Pt-200ToInf_M-125 train 98507\n",
      "GluGluHToWW_Pt-200ToInf_M-125 test 74132\n",
      "--------------------------\n",
      "TTToSemiLeptonic train 219138\n",
      "TTToSemiLeptonic test 219176\n",
      "--------------------------\n",
      "WJetsToLNu_HT-200To400 train 33465\n",
      "WJetsToLNu_HT-200To400 test 33733\n",
      "--------------------------\n",
      "WJetsToLNu_HT-400To600 train 55833\n",
      "WJetsToLNu_HT-400To600 test 57533\n",
      "--------------------------\n",
      "WJetsToLNu_HT-600To800 train 58566\n",
      "WJetsToLNu_HT-600To800 test 62140\n",
      "--------------------------\n",
      "WJetsToLNu_HT-800To1200 train 55795\n",
      "WJetsToLNu_HT-800To1200 test 64846\n",
      "--------------------------\n",
      "QCD_Pt_300to470 train 38434\n",
      "QCD_Pt_300to470 test 38048\n",
      "--------------------------\n",
      "QCD_Pt_470to600 train 41663\n",
      "QCD_Pt_470to600 test 41486\n",
      "--------------------------\n",
      "QCD_Pt_600to800 train 42574\n",
      "QCD_Pt_600to800 test 50102\n",
      "--------------------------\n",
      "QCD_Pt_800to1000 train 50103\n",
      "QCD_Pt_800to1000 test 50455\n",
      "--------------------------\n"
     ]
    }
   ],
   "source": [
    "OUTPATH = \"../datafiles/ntuples/\"\n",
    "\n",
    "num_events = {}\n",
    "for sample in samples:\n",
    "    \n",
    "    num = 0\n",
    "    for file in os.listdir(f\"{OUTPATH}/{sample}/train/\"):\n",
    "        if \"root\" not in file:\n",
    "            continue        \n",
    "\n",
    "        events = uproot.open(f\"{OUTPATH}/{sample}/train/{file}\")[\"Events\"]\n",
    "\n",
    "        num += events.num_entries\n",
    "    \n",
    "    print(sample, \"train\", num)\n",
    "     \n",
    "    num = 0        \n",
    "    for file in os.listdir(f\"{OUTPATH}/{sample}/test/\"):\n",
    "        if \"root\" not in file:\n",
    "            continue\n",
    "        events = uproot.open(f\"{OUTPATH}/{sample}/test/{file}\")[\"Events\"]\n",
    "        \n",
    "        num += events.num_entries\n",
    "\n",
    "    print(sample, \"test\", num)\n",
    "    print(\"--------------------------\")"
   ]
  },
  {
   "cell_type": "markdown",
   "id": "ba15c3d4",
   "metadata": {},
   "source": [
    "# Check NaNs in ntuples"
   ]
  },
  {
   "cell_type": "code",
   "execution_count": 100,
   "id": "70b9c656",
   "metadata": {},
   "outputs": [
    {
     "name": "stdout",
     "output_type": "stream",
     "text": [
      "GluGluHToWW_Pt-200ToInf_M-125\n",
      "0-18.root 1 nan fj_genjetmass values\n",
      "--------------------------\n",
      "TTToSemiLeptonic\n",
      "50-80.root 2 nan fj_genjetmass values\n",
      "--------------------------\n",
      "WJetsToLNu_HT-200To400\n",
      "--------------------------\n",
      "WJetsToLNu_HT-400To600\n",
      "12-24.root 1 nan fj_genjetmass values\n",
      "--------------------------\n",
      "WJetsToLNu_HT-600To800\n",
      "0-12.root 1 nan fj_genjetmass values\n",
      "12-24.root 4 nan fj_genjetmass values\n",
      "--------------------------\n",
      "WJetsToLNu_HT-800To1200\n",
      "12-24.root 3 nan fj_genjetmass values\n",
      "--------------------------\n",
      "QCD_Pt_300to470\n",
      "--------------------------\n",
      "QCD_Pt_470to600\n",
      "--------------------------\n",
      "QCD_Pt_600to800\n",
      "--------------------------\n",
      "QCD_Pt_800to1000\n",
      "--------------------------\n"
     ]
    }
   ],
   "source": [
    "OUTPATH = \"../datafiles/mass_regression_ntuples_reduced/\"\n",
    "# OUTPATH = \"../datafiles/ntuples/\"\n",
    "\n",
    "for sample in samples:\n",
    "    print(sample)\n",
    "    \n",
    "    for file in os.listdir(f\"{OUTPATH}/{sample}/train/\"):\n",
    "        if \"root\" not in file:\n",
    "            continue        \n",
    "\n",
    "        events = uproot.open(f\"{OUTPATH}/{sample}/train/{file}\")[\"Events\"]\n",
    "        \n",
    "        for var in events.keys():\n",
    "            nans = (np.isnan(events[var].array().to_numpy())).sum()\n",
    "            if nans != 0:\n",
    "                print(file, nans, f\"nan {var} values\")\n",
    "        \n",
    "     \n",
    "    for file in os.listdir(f\"{OUTPATH}/{sample}/test/\"):\n",
    "        if \"root\" not in file:\n",
    "            continue\n",
    "        events = uproot.open(f\"{OUTPATH}/{sample}/test/{file}\")[\"Events\"]\n",
    "        \n",
    "        for var in events.keys():\n",
    "            nans = (np.isnan(events[var].array().to_numpy())).sum()\n",
    "            if nans != 0:\n",
    "                print(file, nans, f\"nan {var} values\")\n",
    "                \n",
    "    print(\"--------------------------\")"
   ]
  },
  {
   "cell_type": "code",
   "execution_count": null,
   "id": "6162adc9",
   "metadata": {},
   "outputs": [],
   "source": []
  }
 ],
 "metadata": {
  "kernelspec": {
   "display_name": "coffea-env",
   "language": "python",
   "name": "coffea-env"
  },
  "language_info": {
   "codemirror_mode": {
    "name": "ipython",
    "version": 3
   },
   "file_extension": ".py",
   "mimetype": "text/x-python",
   "name": "python",
   "nbconvert_exporter": "python",
   "pygments_lexer": "ipython3",
   "version": "3.9.16"
  }
 },
 "nbformat": 4,
 "nbformat_minor": 5
}
