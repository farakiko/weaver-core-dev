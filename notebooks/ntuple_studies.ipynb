{
 "cells": [
  {
   "cell_type": "code",
   "execution_count": 1,
   "id": "cb702c12",
   "metadata": {},
   "outputs": [
    {
     "name": "stderr",
     "output_type": "stream",
     "text": [
      "/Users/fmokhtar/miniconda3/envs/coffea-env/lib/python3.9/site-packages/numba/cpython/hashing.py:482: UserWarning: FNV hashing is not implemented in Numba. See PEP 456 https://www.python.org/dev/peps/pep-0456/ for rationale over not using FNV. Numba will continue to work, but hashes for built in types will be computed using siphash24. This will permit e.g. dictionaries to continue to behave as expected, however anything relying on the value of the hash opposed to hash as a derived property is likely to not work as expected.\n",
      "  warnings.warn(msg)\n"
     ]
    },
    {
     "data": {
      "text/plain": [
       "{'divide': 'warn', 'over': 'warn', 'under': 'ignore', 'invalid': 'warn'}"
      ]
     },
     "execution_count": 1,
     "metadata": {},
     "output_type": "execute_result"
    }
   ],
   "source": [
    "import argparse\n",
    "import json\n",
    "import os\n",
    "import pathlib\n",
    "import pickle as pkl\n",
    "import shutil\n",
    "import sys\n",
    "import time\n",
    "import warnings\n",
    "from collections import defaultdict\n",
    "from typing import Dict, List, Optional\n",
    "\n",
    "import awkward as ak\n",
    "import matplotlib.pyplot as plt\n",
    "import numpy as np\n",
    "import pandas as pd\n",
    "import pyarrow as pa\n",
    "import pyarrow.parquet as pq\n",
    "\n",
    "### schema\n",
    "import uproot\n",
    "from coffea import nanoevents, processor\n",
    "from coffea.analysis_tools import PackedSelection, Weights\n",
    "from coffea.nanoevents import BaseSchema, NanoAODSchema, NanoEventsFactory\n",
    "from coffea.nanoevents.methods import candidate, vector\n",
    "\n",
    "import mplhep as hep\n",
    "\n",
    "plt.style.use(hep.style.CMS)\n",
    "\n",
    "### awkward 1.10.0\n",
    "sys.path.append(\"../\")\n",
    "\n",
    "nanoevents.PFNanoAODSchema.mixins[\"PFCands\"] = \"PFCand\"\n",
    "nanoevents.PFNanoAODSchema.mixins[\"SV\"] = \"PFCand\"\n",
    "\n",
    "warnings.filterwarnings(\"ignore\", message=\"Found duplicate branch \")\n",
    "warnings.filterwarnings(\"ignore\", category=DeprecationWarning)\n",
    "warnings.filterwarnings(\"ignore\", message=\"Missing cross-reference index \")\n",
    "warnings.filterwarnings(\"ignore\", message=\"divide by zero encountered in log\")\n",
    "np.seterr(invalid=\"ignore\")"
   ]
  },
  {
   "cell_type": "code",
   "execution_count": 2,
   "id": "90ffbf63",
   "metadata": {},
   "outputs": [],
   "source": [
    "%load_ext autoreload\n",
    "%autoreload 2"
   ]
  },
  {
   "cell_type": "code",
   "execution_count": 189,
   "id": "1d8a1d30",
   "metadata": {
    "scrolled": true
   },
   "outputs": [
    {
     "name": "stdout",
     "output_type": "stream",
     "text": [
      "../datafiles/ntuples/inputprocessor.py \u001b[31m../datafiles/ntuples/run_skimmer.sh\u001b[m\u001b[m\r\n",
      "\r\n",
      "../datafiles/ntuples/GluGluHToWW_Pt-200ToInf_M-125:\r\n",
      "\u001b[34m2016\u001b[m\u001b[m    \u001b[34m2016APV\u001b[m\u001b[m \u001b[34m2017\u001b[m\u001b[m    \u001b[34m2018\u001b[m\u001b[m\r\n",
      "\r\n",
      "../datafiles/ntuples/QCD_Pt_170to300:\r\n",
      "\u001b[34m2018\u001b[m\u001b[m\r\n",
      "\r\n",
      "../datafiles/ntuples/QCD_Pt_300to470:\r\n",
      "\u001b[34m2018\u001b[m\u001b[m\r\n",
      "\r\n",
      "../datafiles/ntuples/QCD_Pt_470to600:\r\n",
      "\u001b[34m2018\u001b[m\u001b[m\r\n",
      "\r\n",
      "../datafiles/ntuples/QCD_Pt_600to800:\r\n",
      "\u001b[34m2018\u001b[m\u001b[m\r\n",
      "\r\n",
      "../datafiles/ntuples/TTToSemiLeptonic:\r\n",
      "\u001b[34m2018\u001b[m\u001b[m\r\n",
      "\r\n",
      "../datafiles/ntuples/VBFHToWWToLNuQQ_M-125_withDipoleRecoil:\r\n",
      "\u001b[34m2016\u001b[m\u001b[m    \u001b[34m2016APV\u001b[m\u001b[m \u001b[34m2017\u001b[m\u001b[m    \u001b[34m2018\u001b[m\u001b[m\r\n",
      "\r\n",
      "../datafiles/ntuples/WJetsToLNu_HT-200To400:\r\n",
      "\u001b[34m2018\u001b[m\u001b[m\r\n",
      "\r\n",
      "../datafiles/ntuples/WJetsToLNu_HT-400To600:\r\n",
      "\u001b[34m2018\u001b[m\u001b[m\r\n",
      "\r\n",
      "../datafiles/ntuples/WJetsToLNu_HT-600To800:\r\n",
      "\u001b[34m2018\u001b[m\u001b[m\r\n"
     ]
    }
   ],
   "source": [
    "! ls ../datafiles/new/*"
   ]
  },
  {
   "cell_type": "markdown",
   "id": "1f521574",
   "metadata": {},
   "source": [
    "# Higgs (ggF)"
   ]
  },
  {
   "cell_type": "code",
   "execution_count": null,
   "id": "fd2b0ff7",
   "metadata": {},
   "outputs": [],
   "source": [
    "events = uproot.open(\"../datafiles/ntuples/GluGluHToWW_Pt-200ToInf_M-125/2018/train/out.root\")[\"Events\"]\n"
   ]
  },
  {
   "cell_type": "code",
   "execution_count": null,
   "id": "9f6bda43",
   "metadata": {},
   "outputs": [],
   "source": []
  },
  {
   "cell_type": "code",
   "execution_count": 9,
   "id": "9d8c8088",
   "metadata": {},
   "outputs": [
    {
     "name": "stdout",
     "output_type": "stream",
     "text": [
      "../datafiles/TaggerInput/TaggerInput_2017/JHUVariableWMass_part1/outfiles/train/out.root\r\n"
     ]
    }
   ],
   "source": [
    "! ls ../datafiles/TaggerInput/TaggerInput_2017/JHUVariableWMass_part1/outfiles/train/out.root"
   ]
  },
  {
   "cell_type": "code",
   "execution_count": 10,
   "id": "1b2fe359",
   "metadata": {},
   "outputs": [
    {
     "data": {
      "text/plain": [
       "['fj_eta',\n",
       " 'fj_phi',\n",
       " 'fj_mass',\n",
       " 'fj_pt',\n",
       " 'fj_msoftdrop',\n",
       " 'fj_lsf3',\n",
       " 'fj_genjetmass',\n",
       " 'fj_isggF',\n",
       " 'fj_isVBF',\n",
       " 'fj_isJHUVariableWMass',\n",
       " 'fj_isBulkGraviton',\n",
       " 'fj_genRes_pt',\n",
       " 'fj_genRes_eta',\n",
       " 'fj_genRes_phi',\n",
       " 'fj_genRes_mass',\n",
       " 'fj_genH_jet',\n",
       " 'fj_genV_dR',\n",
       " 'fj_genVstar',\n",
       " 'genV_genVstar_dR',\n",
       " 'fj_isHVV',\n",
       " 'fj_isHVV_Matched',\n",
       " 'fj_isHVV_4q',\n",
       " 'fj_isHVV_elenuqq',\n",
       " 'fj_isHVV_munuqq',\n",
       " 'fj_isHVV_taunuqq',\n",
       " 'fj_isHVV_Vlepton',\n",
       " 'fj_isHVV_Vstarlepton',\n",
       " 'fj_nquarks',\n",
       " 'fj_lepinprongs',\n",
       " 'fj_isV',\n",
       " 'fj_isV_Matched',\n",
       " 'fj_isV_2q',\n",
       " 'fj_isV_elenu',\n",
       " 'fj_isV_munu',\n",
       " 'fj_isV_taunu',\n",
       " 'fj_nprongs',\n",
       " 'fj_ncquarks',\n",
       " 'fj_isV_lep',\n",
       " 'fj_isTop',\n",
       " 'fj_isTop_Matched',\n",
       " 'fj_Top_numMatched',\n",
       " 'fj_isTop_W_lep_b',\n",
       " 'fj_isTop_W_lep',\n",
       " 'fj_isTop_W_ele_b',\n",
       " 'fj_isTop_W_ele',\n",
       " 'fj_isTop_W_mu_b',\n",
       " 'fj_isTop_W_mu',\n",
       " 'fj_isTop_W_tau_b',\n",
       " 'fj_isTop_W_tau',\n",
       " 'fj_Top_nquarksnob',\n",
       " 'fj_Top_nbquarks',\n",
       " 'fj_Top_ncquarks',\n",
       " 'fj_Top_nleptons',\n",
       " 'fj_Top_nele',\n",
       " 'fj_Top_nmu',\n",
       " 'fj_Top_ntau',\n",
       " 'fj_Top_taudecay',\n",
       " 'fj_isQCD',\n",
       " 'fj_isQCD_Matched',\n",
       " 'fj_isQCDb',\n",
       " 'fj_isQCDbb',\n",
       " 'fj_isQCDc',\n",
       " 'fj_isQCDcc',\n",
       " 'fj_isQCDothers',\n",
       " 'met_pt',\n",
       " 'met_relpt',\n",
       " 'met_fj_dphi',\n",
       " 'abs_met_fj_dphi',\n",
       " 'lep_met_mt',\n",
       " 'lep_fj_dr',\n",
       " 'lep_pt',\n",
       " 'lep_pt_ratio',\n",
       " 'lep_reliso',\n",
       " 'lep_miso',\n",
       " 'n_bjets_L',\n",
       " 'n_bjets_M',\n",
       " 'n_bjets_T',\n",
       " 'rec_W_lnu_pt',\n",
       " 'rec_W_lnu_m',\n",
       " 'rec_W_qq_pt',\n",
       " 'rec_W_qq_m',\n",
       " 'rec_higgs_pt',\n",
       " 'rec_higgs_m',\n",
       " 'mjj',\n",
       " 'jj_pt',\n",
       " 'deta',\n",
       " 'j1_pt',\n",
       " 'j2_pt',\n",
       " 'j1_m',\n",
       " 'j2_m',\n",
       " 'ht',\n",
       " 'NumFatjets',\n",
       " 'NumOtherJets',\n",
       " 'FirstFatjet_pt',\n",
       " 'FirstFatjet_m',\n",
       " 'SecondFatjet_pt',\n",
       " 'SecondFatjet_m',\n",
       " 'fj_ParT_score',\n",
       " 'fj_ParT_mass',\n",
       " 'fj_ParT_hidNeuron000',\n",
       " 'fj_ParT_hidNeuron001',\n",
       " 'fj_ParT_hidNeuron002',\n",
       " 'fj_ParT_hidNeuron003',\n",
       " 'fj_ParT_hidNeuron004',\n",
       " 'fj_ParT_hidNeuron005',\n",
       " 'fj_ParT_hidNeuron006',\n",
       " 'fj_ParT_hidNeuron007',\n",
       " 'fj_ParT_hidNeuron008',\n",
       " 'fj_ParT_hidNeuron009',\n",
       " 'fj_ParT_hidNeuron010',\n",
       " 'fj_ParT_hidNeuron011',\n",
       " 'fj_ParT_hidNeuron012',\n",
       " 'fj_ParT_hidNeuron013',\n",
       " 'fj_ParT_hidNeuron014',\n",
       " 'fj_ParT_hidNeuron015',\n",
       " 'fj_ParT_hidNeuron016',\n",
       " 'fj_ParT_hidNeuron017',\n",
       " 'fj_ParT_hidNeuron018',\n",
       " 'fj_ParT_hidNeuron019',\n",
       " 'fj_ParT_hidNeuron020',\n",
       " 'fj_ParT_hidNeuron021',\n",
       " 'fj_ParT_hidNeuron022',\n",
       " 'fj_ParT_hidNeuron023',\n",
       " 'fj_ParT_hidNeuron024',\n",
       " 'fj_ParT_hidNeuron025',\n",
       " 'fj_ParT_hidNeuron026',\n",
       " 'fj_ParT_hidNeuron027',\n",
       " 'fj_ParT_hidNeuron028',\n",
       " 'fj_ParT_hidNeuron029',\n",
       " 'fj_ParT_hidNeuron030',\n",
       " 'fj_ParT_hidNeuron031',\n",
       " 'fj_ParT_hidNeuron032',\n",
       " 'fj_ParT_hidNeuron033',\n",
       " 'fj_ParT_hidNeuron034',\n",
       " 'fj_ParT_hidNeuron035',\n",
       " 'fj_ParT_hidNeuron036',\n",
       " 'fj_ParT_hidNeuron037',\n",
       " 'fj_ParT_hidNeuron038',\n",
       " 'fj_ParT_hidNeuron039',\n",
       " 'fj_ParT_hidNeuron040',\n",
       " 'fj_ParT_hidNeuron041',\n",
       " 'fj_ParT_hidNeuron042',\n",
       " 'fj_ParT_hidNeuron043',\n",
       " 'fj_ParT_hidNeuron044',\n",
       " 'fj_ParT_hidNeuron045',\n",
       " 'fj_ParT_hidNeuron046',\n",
       " 'fj_ParT_hidNeuron047',\n",
       " 'fj_ParT_hidNeuron048',\n",
       " 'fj_ParT_hidNeuron049',\n",
       " 'fj_ParT_hidNeuron050',\n",
       " 'fj_ParT_hidNeuron051',\n",
       " 'fj_ParT_hidNeuron052',\n",
       " 'fj_ParT_hidNeuron053',\n",
       " 'fj_ParT_hidNeuron054',\n",
       " 'fj_ParT_hidNeuron055',\n",
       " 'fj_ParT_hidNeuron056',\n",
       " 'fj_ParT_hidNeuron057',\n",
       " 'fj_ParT_hidNeuron058',\n",
       " 'fj_ParT_hidNeuron059',\n",
       " 'fj_ParT_hidNeuron060',\n",
       " 'fj_ParT_hidNeuron061',\n",
       " 'fj_ParT_hidNeuron062',\n",
       " 'fj_ParT_hidNeuron063',\n",
       " 'fj_ParT_hidNeuron064',\n",
       " 'fj_ParT_hidNeuron065',\n",
       " 'fj_ParT_hidNeuron066',\n",
       " 'fj_ParT_hidNeuron067',\n",
       " 'fj_ParT_hidNeuron068',\n",
       " 'fj_ParT_hidNeuron069',\n",
       " 'fj_ParT_hidNeuron070',\n",
       " 'fj_ParT_hidNeuron071',\n",
       " 'fj_ParT_hidNeuron072',\n",
       " 'fj_ParT_hidNeuron073',\n",
       " 'fj_ParT_hidNeuron074',\n",
       " 'fj_ParT_hidNeuron075',\n",
       " 'fj_ParT_hidNeuron076',\n",
       " 'fj_ParT_hidNeuron077',\n",
       " 'fj_ParT_hidNeuron078',\n",
       " 'fj_ParT_hidNeuron079',\n",
       " 'fj_ParT_hidNeuron080',\n",
       " 'fj_ParT_hidNeuron081',\n",
       " 'fj_ParT_hidNeuron082',\n",
       " 'fj_ParT_hidNeuron083',\n",
       " 'fj_ParT_hidNeuron084',\n",
       " 'fj_ParT_hidNeuron085',\n",
       " 'fj_ParT_hidNeuron086',\n",
       " 'fj_ParT_hidNeuron087',\n",
       " 'fj_ParT_hidNeuron088',\n",
       " 'fj_ParT_hidNeuron089',\n",
       " 'fj_ParT_hidNeuron090',\n",
       " 'fj_ParT_hidNeuron091',\n",
       " 'fj_ParT_hidNeuron092',\n",
       " 'fj_ParT_hidNeuron093',\n",
       " 'fj_ParT_hidNeuron094',\n",
       " 'fj_ParT_hidNeuron095',\n",
       " 'fj_ParT_hidNeuron096',\n",
       " 'fj_ParT_hidNeuron097',\n",
       " 'fj_ParT_hidNeuron098',\n",
       " 'fj_ParT_hidNeuron099',\n",
       " 'fj_ParT_hidNeuron100',\n",
       " 'fj_ParT_hidNeuron101',\n",
       " 'fj_ParT_hidNeuron102',\n",
       " 'fj_ParT_hidNeuron103',\n",
       " 'fj_ParT_hidNeuron104',\n",
       " 'fj_ParT_hidNeuron105',\n",
       " 'fj_ParT_hidNeuron106',\n",
       " 'fj_ParT_hidNeuron107',\n",
       " 'fj_ParT_hidNeuron108',\n",
       " 'fj_ParT_hidNeuron109',\n",
       " 'fj_ParT_hidNeuron110',\n",
       " 'fj_ParT_hidNeuron111',\n",
       " 'fj_ParT_hidNeuron112',\n",
       " 'fj_ParT_hidNeuron113',\n",
       " 'fj_ParT_hidNeuron114',\n",
       " 'fj_ParT_hidNeuron115',\n",
       " 'fj_ParT_hidNeuron116',\n",
       " 'fj_ParT_hidNeuron117',\n",
       " 'fj_ParT_hidNeuron118',\n",
       " 'fj_ParT_hidNeuron119',\n",
       " 'fj_ParT_hidNeuron120',\n",
       " 'fj_ParT_hidNeuron121',\n",
       " 'fj_ParT_hidNeuron122',\n",
       " 'fj_ParT_hidNeuron123',\n",
       " 'fj_ParT_hidNeuron124',\n",
       " 'fj_ParT_hidNeuron125',\n",
       " 'fj_ParT_hidNeuron126',\n",
       " 'fj_ParT_hidNeuron127']"
      ]
     },
     "execution_count": 10,
     "metadata": {},
     "output_type": "execute_result"
    }
   ],
   "source": [
    "events = uproot.open(\"../datafiles/TaggerInput/TaggerInput_2017/JHUVariableWMass_part1/outfiles/train/out.root\")[\"Events\"]\n",
    "events.keys()"
   ]
  },
  {
   "cell_type": "code",
   "execution_count": null,
   "id": "02dbe57e",
   "metadata": {},
   "outputs": [],
   "source": []
  },
  {
   "cell_type": "code",
   "execution_count": null,
   "id": "383d521b",
   "metadata": {},
   "outputs": [],
   "source": []
  },
  {
   "cell_type": "code",
   "execution_count": null,
   "id": "23aa59bd",
   "metadata": {},
   "outputs": [],
   "source": []
  },
  {
   "cell_type": "code",
   "execution_count": null,
   "id": "db970597",
   "metadata": {},
   "outputs": [],
   "source": []
  },
  {
   "cell_type": "code",
   "execution_count": 190,
   "id": "51827a88",
   "metadata": {
    "scrolled": true
   },
   "outputs": [
    {
     "data": {
      "text/plain": [
       "['fj_eta',\n",
       " 'fj_phi',\n",
       " 'fj_mass',\n",
       " 'fj_pt',\n",
       " 'fj_msoftdrop',\n",
       " 'fj_lsf3',\n",
       " 'fj_genjetmass',\n",
       " 'fj_genRes_pt',\n",
       " 'fj_genRes_eta',\n",
       " 'fj_genRes_phi',\n",
       " 'fj_genRes_mass',\n",
       " 'fj_genH_pt',\n",
       " 'fj_genH_jet',\n",
       " 'fj_genV_dR',\n",
       " 'fj_genVstar',\n",
       " 'genV_genVstar_dR',\n",
       " 'fj_isHVV',\n",
       " 'fj_isHVV_Matched',\n",
       " 'fj_isHVV_4q',\n",
       " 'fj_isHVV_elenuqq',\n",
       " 'fj_isHVV_munuqq',\n",
       " 'fj_isHVV_taunuqq',\n",
       " 'fj_isHVV_Vlepton',\n",
       " 'fj_isHVV_Vstarlepton',\n",
       " 'fj_nquarks',\n",
       " 'fj_lepinprongs',\n",
       " 'fj_isV',\n",
       " 'fj_isV_Matched',\n",
       " 'fj_isV_2q',\n",
       " 'fj_isV_elenu',\n",
       " 'fj_isV_munu',\n",
       " 'fj_isV_taunu',\n",
       " 'fj_nprongs',\n",
       " 'fj_ncquarks',\n",
       " 'fj_isV_lep',\n",
       " 'fj_isTop',\n",
       " 'fj_isTop_Matched',\n",
       " 'fj_Top_numMatched',\n",
       " 'fj_isTop_W_lep_b',\n",
       " 'fj_isTop_W_lep',\n",
       " 'fj_isTop_W_ele_b',\n",
       " 'fj_isTop_W_ele',\n",
       " 'fj_isTop_W_mu_b',\n",
       " 'fj_isTop_W_mu',\n",
       " 'fj_isTop_W_tau_b',\n",
       " 'fj_isTop_W_tau',\n",
       " 'fj_Top_nquarksnob',\n",
       " 'fj_Top_nbquarks',\n",
       " 'fj_Top_ncquarks',\n",
       " 'fj_Top_nleptons',\n",
       " 'fj_Top_nele',\n",
       " 'fj_Top_nmu',\n",
       " 'fj_Top_ntau',\n",
       " 'fj_Top_taudecay',\n",
       " 'fj_isQCD',\n",
       " 'fj_isQCD_Matched',\n",
       " 'fj_isQCDb',\n",
       " 'fj_isQCDbb',\n",
       " 'fj_isQCDc',\n",
       " 'fj_isQCDcc',\n",
       " 'fj_isQCDothers',\n",
       " 'met_pt',\n",
       " 'met_relpt',\n",
       " 'met_fj_dphi',\n",
       " 'abs_met_fj_dphi',\n",
       " 'mt_lep_met',\n",
       " 'lep_dR_fj',\n",
       " 'lep_pt',\n",
       " 'lep_pt_ratio',\n",
       " 'lep_reliso',\n",
       " 'lep_miso',\n",
       " 'n_bjets_L',\n",
       " 'n_bjets_M',\n",
       " 'n_bjets_T',\n",
       " 'rec_W_lnu_pt',\n",
       " 'rec_W_lnu_m',\n",
       " 'rec_W_qq_pt',\n",
       " 'rec_W_qq_m',\n",
       " 'rec_higgs_pt',\n",
       " 'rec_higgs_m',\n",
       " 'mjj',\n",
       " 'jj_pt',\n",
       " 'deta',\n",
       " 'j1_pt',\n",
       " 'j2_pt',\n",
       " 'j1_m',\n",
       " 'j2_m',\n",
       " 'ht',\n",
       " 'NumFatjets',\n",
       " 'NumOtherJets',\n",
       " 'FirstFatjet_pt',\n",
       " 'FirstFatjet_m',\n",
       " 'SecondFatjet_pt',\n",
       " 'SecondFatjet_m',\n",
       " 'fj_ParT_score',\n",
       " 'fj_ParT_mass',\n",
       " 'fj_ParT_hidNeuron000',\n",
       " 'fj_ParT_hidNeuron001',\n",
       " 'fj_ParT_hidNeuron002',\n",
       " 'fj_ParT_hidNeuron003',\n",
       " 'fj_ParT_hidNeuron004',\n",
       " 'fj_ParT_hidNeuron005',\n",
       " 'fj_ParT_hidNeuron006',\n",
       " 'fj_ParT_hidNeuron007',\n",
       " 'fj_ParT_hidNeuron008',\n",
       " 'fj_ParT_hidNeuron009',\n",
       " 'fj_ParT_hidNeuron010',\n",
       " 'fj_ParT_hidNeuron011',\n",
       " 'fj_ParT_hidNeuron012',\n",
       " 'fj_ParT_hidNeuron013',\n",
       " 'fj_ParT_hidNeuron014',\n",
       " 'fj_ParT_hidNeuron015',\n",
       " 'fj_ParT_hidNeuron016',\n",
       " 'fj_ParT_hidNeuron017',\n",
       " 'fj_ParT_hidNeuron018',\n",
       " 'fj_ParT_hidNeuron019',\n",
       " 'fj_ParT_hidNeuron020',\n",
       " 'fj_ParT_hidNeuron021',\n",
       " 'fj_ParT_hidNeuron022',\n",
       " 'fj_ParT_hidNeuron023',\n",
       " 'fj_ParT_hidNeuron024',\n",
       " 'fj_ParT_hidNeuron025',\n",
       " 'fj_ParT_hidNeuron026',\n",
       " 'fj_ParT_hidNeuron027',\n",
       " 'fj_ParT_hidNeuron028',\n",
       " 'fj_ParT_hidNeuron029',\n",
       " 'fj_ParT_hidNeuron030',\n",
       " 'fj_ParT_hidNeuron031',\n",
       " 'fj_ParT_hidNeuron032',\n",
       " 'fj_ParT_hidNeuron033',\n",
       " 'fj_ParT_hidNeuron034',\n",
       " 'fj_ParT_hidNeuron035',\n",
       " 'fj_ParT_hidNeuron036',\n",
       " 'fj_ParT_hidNeuron037',\n",
       " 'fj_ParT_hidNeuron038',\n",
       " 'fj_ParT_hidNeuron039',\n",
       " 'fj_ParT_hidNeuron040',\n",
       " 'fj_ParT_hidNeuron041',\n",
       " 'fj_ParT_hidNeuron042',\n",
       " 'fj_ParT_hidNeuron043',\n",
       " 'fj_ParT_hidNeuron044',\n",
       " 'fj_ParT_hidNeuron045',\n",
       " 'fj_ParT_hidNeuron046',\n",
       " 'fj_ParT_hidNeuron047',\n",
       " 'fj_ParT_hidNeuron048',\n",
       " 'fj_ParT_hidNeuron049',\n",
       " 'fj_ParT_hidNeuron050',\n",
       " 'fj_ParT_hidNeuron051',\n",
       " 'fj_ParT_hidNeuron052',\n",
       " 'fj_ParT_hidNeuron053',\n",
       " 'fj_ParT_hidNeuron054',\n",
       " 'fj_ParT_hidNeuron055',\n",
       " 'fj_ParT_hidNeuron056',\n",
       " 'fj_ParT_hidNeuron057',\n",
       " 'fj_ParT_hidNeuron058',\n",
       " 'fj_ParT_hidNeuron059',\n",
       " 'fj_ParT_hidNeuron060',\n",
       " 'fj_ParT_hidNeuron061',\n",
       " 'fj_ParT_hidNeuron062',\n",
       " 'fj_ParT_hidNeuron063',\n",
       " 'fj_ParT_hidNeuron064',\n",
       " 'fj_ParT_hidNeuron065',\n",
       " 'fj_ParT_hidNeuron066',\n",
       " 'fj_ParT_hidNeuron067',\n",
       " 'fj_ParT_hidNeuron068',\n",
       " 'fj_ParT_hidNeuron069',\n",
       " 'fj_ParT_hidNeuron070',\n",
       " 'fj_ParT_hidNeuron071',\n",
       " 'fj_ParT_hidNeuron072',\n",
       " 'fj_ParT_hidNeuron073',\n",
       " 'fj_ParT_hidNeuron074',\n",
       " 'fj_ParT_hidNeuron075',\n",
       " 'fj_ParT_hidNeuron076',\n",
       " 'fj_ParT_hidNeuron077',\n",
       " 'fj_ParT_hidNeuron078',\n",
       " 'fj_ParT_hidNeuron079',\n",
       " 'fj_ParT_hidNeuron080',\n",
       " 'fj_ParT_hidNeuron081',\n",
       " 'fj_ParT_hidNeuron082',\n",
       " 'fj_ParT_hidNeuron083',\n",
       " 'fj_ParT_hidNeuron084',\n",
       " 'fj_ParT_hidNeuron085',\n",
       " 'fj_ParT_hidNeuron086',\n",
       " 'fj_ParT_hidNeuron087',\n",
       " 'fj_ParT_hidNeuron088',\n",
       " 'fj_ParT_hidNeuron089',\n",
       " 'fj_ParT_hidNeuron090',\n",
       " 'fj_ParT_hidNeuron091',\n",
       " 'fj_ParT_hidNeuron092',\n",
       " 'fj_ParT_hidNeuron093',\n",
       " 'fj_ParT_hidNeuron094',\n",
       " 'fj_ParT_hidNeuron095',\n",
       " 'fj_ParT_hidNeuron096',\n",
       " 'fj_ParT_hidNeuron097',\n",
       " 'fj_ParT_hidNeuron098',\n",
       " 'fj_ParT_hidNeuron099',\n",
       " 'fj_ParT_hidNeuron100',\n",
       " 'fj_ParT_hidNeuron101',\n",
       " 'fj_ParT_hidNeuron102',\n",
       " 'fj_ParT_hidNeuron103',\n",
       " 'fj_ParT_hidNeuron104',\n",
       " 'fj_ParT_hidNeuron105',\n",
       " 'fj_ParT_hidNeuron106',\n",
       " 'fj_ParT_hidNeuron107',\n",
       " 'fj_ParT_hidNeuron108',\n",
       " 'fj_ParT_hidNeuron109',\n",
       " 'fj_ParT_hidNeuron110',\n",
       " 'fj_ParT_hidNeuron111',\n",
       " 'fj_ParT_hidNeuron112',\n",
       " 'fj_ParT_hidNeuron113',\n",
       " 'fj_ParT_hidNeuron114',\n",
       " 'fj_ParT_hidNeuron115',\n",
       " 'fj_ParT_hidNeuron116',\n",
       " 'fj_ParT_hidNeuron117',\n",
       " 'fj_ParT_hidNeuron118',\n",
       " 'fj_ParT_hidNeuron119',\n",
       " 'fj_ParT_hidNeuron120',\n",
       " 'fj_ParT_hidNeuron121',\n",
       " 'fj_ParT_hidNeuron122',\n",
       " 'fj_ParT_hidNeuron123',\n",
       " 'fj_ParT_hidNeuron124',\n",
       " 'fj_ParT_hidNeuron125',\n",
       " 'fj_ParT_hidNeuron126',\n",
       " 'fj_ParT_hidNeuron127',\n",
       " 'fj_isggF',\n",
       " 'fj_isVBF']"
      ]
     },
     "execution_count": 190,
     "metadata": {},
     "output_type": "execute_result"
    }
   ],
   "source": [
    "events = uproot.open(\"../datafiles/ntuples/GluGluHToWW_Pt-200ToInf_M-125/2018/train/out.root\")[\"Events\"]\n",
    "events.keys()"
   ]
  },
  {
   "cell_type": "code",
   "execution_count": 11,
   "id": "5208dd58",
   "metadata": {},
   "outputs": [
    {
     "data": {
      "text/plain": [
       "861108"
      ]
     },
     "execution_count": 11,
     "metadata": {},
     "output_type": "execute_result"
    }
   ],
   "source": [
    "(events[\"fj_isggF\"].array()==0).to_numpy().sum()   # all is ggF"
   ]
  },
  {
   "cell_type": "code",
   "execution_count": 14,
   "id": "2776ebd1",
   "metadata": {},
   "outputs": [
    {
     "data": {
      "text/plain": [
       "0"
      ]
     },
     "execution_count": 14,
     "metadata": {},
     "output_type": "execute_result"
    }
   ],
   "source": [
    "(events[\"fj_isVBF\"].array()==1).to_numpy().sum()   # no vbf"
   ]
  },
  {
   "cell_type": "code",
   "execution_count": 15,
   "id": "2967687c",
   "metadata": {},
   "outputs": [
    {
     "data": {
      "text/plain": [
       "861108"
      ]
     },
     "execution_count": 15,
     "metadata": {},
     "output_type": "execute_result"
    }
   ],
   "source": [
    "(events[\"fj_genRes_mass\"].array()!=125).to_numpy().sum()  # all fj_genRes_mass is 125"
   ]
  },
  {
   "cell_type": "code",
   "execution_count": null,
   "id": "3f353204",
   "metadata": {},
   "outputs": [],
   "source": []
  },
  {
   "cell_type": "code",
   "execution_count": null,
   "id": "84e2e044",
   "metadata": {},
   "outputs": [],
   "source": []
  },
  {
   "cell_type": "code",
   "execution_count": 28,
   "id": "571e5b9e",
   "metadata": {},
   "outputs": [
    {
     "data": {
      "text/plain": [
       "<Array [-4.17, -0.562, -3.86, ... -1.21, -1.74] type='861108 * float64'>"
      ]
     },
     "execution_count": 28,
     "metadata": {},
     "output_type": "execute_result"
    }
   ],
   "source": [
    "events[\"fj_ParT_hidNeuron001\"].array()"
   ]
  },
  {
   "cell_type": "code",
   "execution_count": null,
   "id": "d41763ff",
   "metadata": {},
   "outputs": [],
   "source": []
  },
  {
   "cell_type": "code",
   "execution_count": null,
   "id": "e977e644",
   "metadata": {},
   "outputs": [],
   "source": []
  },
  {
   "cell_type": "code",
   "execution_count": 16,
   "id": "b1559e9e",
   "metadata": {},
   "outputs": [
    {
     "name": "stdout",
     "output_type": "stream",
     "text": [
      "ishww: 861108\n",
      "~ishww: 0\n"
     ]
    }
   ],
   "source": [
    "ishww = events[\"fj_isHVV\"].array()\n",
    "print(\"ishww:\", ak.sum(ishww))\n",
    "print(\"~ishww:\", ak.sum(~ishww))"
   ]
  },
  {
   "cell_type": "code",
   "execution_count": 18,
   "id": "2b8ede9c",
   "metadata": {},
   "outputs": [
    {
     "name": "stdout",
     "output_type": "stream",
     "text": [
      "isHVV_Matched: 838170\n",
      "~isHVV_Matched: 22938\n"
     ]
    }
   ],
   "source": [
    "matched_higgs = events[\"fj_isHVV_Matched\"].array()\n",
    "print(\"isHVV_Matched:\", ak.sum(matched_higgs))\n",
    "print(\"~isHVV_Matched:\", ak.sum(~matched_higgs))"
   ]
  },
  {
   "cell_type": "code",
   "execution_count": null,
   "id": "005fcf5d",
   "metadata": {},
   "outputs": [],
   "source": []
  },
  {
   "cell_type": "code",
   "execution_count": 38,
   "id": "6e9cd595",
   "metadata": {},
   "outputs": [
    {
     "name": "stdout",
     "output_type": "stream",
     "text": [
      "isHVV_Matched: 0\n"
     ]
    }
   ],
   "source": [
    "print(\"isHVV_Matched:\", ak.sum(events[\"fj_isHVV_4q\"].array()))"
   ]
  },
  {
   "cell_type": "code",
   "execution_count": 29,
   "id": "b4406511",
   "metadata": {},
   "outputs": [
    {
     "data": {
      "text/plain": [
       "0"
      ]
     },
     "execution_count": 29,
     "metadata": {},
     "output_type": "execute_result"
    }
   ],
   "source": [
    "one_lep = events[\"fj_isHVV_elenuqq\"].array() | events[\"fj_isHVV_munuqq\"].array()\n",
    "ak.sum(one_lep)"
   ]
  },
  {
   "cell_type": "code",
   "execution_count": 31,
   "id": "e1fc4b35",
   "metadata": {},
   "outputs": [
    {
     "name": "stdout",
     "output_type": "stream",
     "text": [
      "<TBranch 'fj_eta' at 0x00016eb50490>\n",
      "<TBranch 'fj_phi' at 0x00017f947fa0>\n",
      "<TBranch 'fj_mass' at 0x00017f10cd90>\n",
      "<TBranch 'fj_pt' at 0x00017f112ca0>\n",
      "<TBranch 'fj_msoftdrop' at 0x00016ec06c10>\n",
      "<TBranch 'fj_lsf3' at 0x00016ec20460>\n",
      "<TBranch 'fj_genjetmass' at 0x00016ec20eb0>\n",
      "<TBranch 'fj_isggF' at 0x00016eb36970>\n",
      "<TBranch 'fj_isVBF' at 0x00016ec04760>\n",
      "<TBranch 'fj_isJHUVariableWMass' at 0x00016ec04fd0>\n",
      "<TBranch 'fj_isBulkGraviton' at 0x00016ec08700>\n",
      "<TBranch 'fj_genRes_pt' at 0x00016ec08ee0>\n",
      "<TBranch 'fj_genRes_eta' at 0x00016eb3f760>\n",
      "<TBranch 'fj_genRes_phi' at 0x00016ec38a90>\n",
      "<TBranch 'fj_genRes_mass' at 0x0001037b62e0>\n",
      "<TBranch 'fj_genH_jet' at 0x00016eb56610>\n",
      "<TBranch 'fj_genV_dR' at 0x00016ec322b0>\n",
      "<TBranch 'fj_genVstar' at 0x00016ec32a00>\n",
      "<TBranch 'genV_genVstar_dR' at 0x00016eb522e0>\n",
      "<TBranch 'fj_isHVV' at 0x00016eb52e50>\n",
      "<TBranch 'fj_isHVV_Matched' at 0x00017f2442e0>\n",
      "<TBranch 'fj_isHVV_4q' at 0x00017f244a90>\n",
      "<TBranch 'fj_isHVV_elenuqq' at 0x00016ec32160>\n",
      "<TBranch 'fj_isHVV_munuqq' at 0x00016eb54670>\n",
      "<TBranch 'fj_isHVV_taunuqq' at 0x00016eb54400>\n",
      "<TBranch 'fj_isHVV_Vlepton' at 0x00016eb3f430>\n",
      "<TBranch 'fj_isHVV_Vstarlepton' at 0x00017f3a1490>\n",
      "<TBranch 'fj_nquarks' at 0x00017f3a1c40>\n",
      "<TBranch 'fj_lepinprongs' at 0x00017f39f430>\n",
      "<TBranch 'fj_isV' at 0x00017f39fbe0>\n",
      "<TBranch 'fj_isV_Matched' at 0x00017f3b43d0>\n",
      "<TBranch 'fj_isV_2q' at 0x00017f3b4b80>\n",
      "<TBranch 'fj_isV_elenu' at 0x00017f3bf370>\n",
      "<TBranch 'fj_isV_munu' at 0x00017f3bfb20>\n",
      "<TBranch 'fj_isV_taunu' at 0x00017f3cf310>\n",
      "<TBranch 'fj_nprongs' at 0x00017f3cfac0>\n",
      "<TBranch 'fj_ncquarks' at 0x00017f74c2b0>\n",
      "<TBranch 'fj_isV_lep' at 0x00017f74ca60>\n",
      "<TBranch 'fj_isTop' at 0x00017f768250>\n",
      "<TBranch 'fj_isTop_Matched' at 0x00017f768a00>\n",
      "<TBranch 'fj_Top_numMatched' at 0x00017f7601f0>\n",
      "<TBranch 'fj_isTop_W_lep_b' at 0x00017f7609a0>\n",
      "<TBranch 'fj_isTop_W_lep' at 0x00017f778190>\n",
      "<TBranch 'fj_isTop_W_ele_b' at 0x00017f778940>\n",
      "<TBranch 'fj_isTop_W_ele' at 0x00017f080130>\n",
      "<TBranch 'fj_isTop_W_mu_b' at 0x00017f0808e0>\n",
      "<TBranch 'fj_isTop_W_mu' at 0x00017f05b0d0>\n",
      "<TBranch 'fj_isTop_W_tau_b' at 0x00017f05b880>\n",
      "<TBranch 'fj_isTop_W_tau' at 0x00017f05bfa0>\n",
      "<TBranch 'fj_Top_nquarksnob' at 0x00017f067820>\n",
      "<TBranch 'fj_Top_nbquarks' at 0x00017f067fd0>\n",
      "<TBranch 'fj_Top_ncquarks' at 0x00017f0717c0>\n",
      "<TBranch 'fj_Top_nleptons' at 0x00017f071f70>\n",
      "<TBranch 'fj_Top_nele' at 0x00017f07d760>\n",
      "<TBranch 'fj_Top_nmu' at 0x00017f07df10>\n",
      "<TBranch 'fj_Top_ntau' at 0x00017f08a700>\n",
      "<TBranch 'fj_Top_taudecay' at 0x00017f08aeb0>\n",
      "<TBranch 'fj_isQCD' at 0x00017f0936a0>\n",
      "<TBranch 'fj_isQCD_Matched' at 0x00017f093e50>\n",
      "<TBranch 'fj_isQCDb' at 0x00017f098640>\n",
      "<TBranch 'fj_isQCDbb' at 0x00017f098df0>\n",
      "<TBranch 'fj_isQCDc' at 0x00017f0a05e0>\n",
      "<TBranch 'fj_isQCDcc' at 0x00017f0a0d90>\n",
      "<TBranch 'fj_isQCDothers' at 0x00017f0a5580>\n",
      "<TBranch 'met_pt' at 0x00017f0a5d30>\n",
      "<TBranch 'met_relpt' at 0x00017f0be520>\n",
      "<TBranch 'met_fj_dphi' at 0x00017f0becd0>\n",
      "<TBranch 'abs_met_fj_dphi' at 0x00017f0c84c0>\n",
      "<TBranch 'lep_met_mt' at 0x00017f0c8c70>\n",
      "<TBranch 'lep_fj_dr' at 0x00017f0d0460>\n",
      "<TBranch 'lep_pt' at 0x00017f0d0c10>\n",
      "<TBranch 'lep_pt_ratio' at 0x00017f19d400>\n",
      "<TBranch 'lep_reliso' at 0x00017f19dbb0>\n",
      "<TBranch 'lep_miso' at 0x00017f1a73a0>\n",
      "<TBranch 'n_bjets_L' at 0x00017f1a7b50>\n",
      "<TBranch 'n_bjets_M' at 0x00017f1aa340>\n",
      "<TBranch 'n_bjets_T' at 0x00017f1aaaf0>\n",
      "<TBranch 'rec_W_lnu_pt' at 0x00017f1bd2e0>\n",
      "<TBranch 'rec_W_lnu_m' at 0x00017f1bda90>\n",
      "<TBranch 'rec_W_qq_pt' at 0x00017f1bf280>\n",
      "<TBranch 'rec_W_qq_m' at 0x00017f1bfa30>\n",
      "<TBranch 'rec_higgs_pt' at 0x00017f1cd220>\n",
      "<TBranch 'rec_higgs_m' at 0x00017f1cd9d0>\n",
      "<TBranch 'mjj' at 0x00017f1d21c0>\n",
      "<TBranch 'jj_pt' at 0x00017f1d2970>\n",
      "<TBranch 'deta' at 0x00017f11f160>\n",
      "<TBranch 'j1_pt' at 0x00017f11f910>\n",
      "<TBranch 'j2_pt' at 0x00017f12a100>\n",
      "<TBranch 'j1_m' at 0x00017f12a8b0>\n",
      "<TBranch 'j2_m' at 0x00017f12afd0>\n",
      "<TBranch 'ht' at 0x00017f12c850>\n",
      "<TBranch 'NumFatjets' at 0x00017f12cf70>\n",
      "<TBranch 'NumOtherJets' at 0x00017f13f7f0>\n",
      "<TBranch 'FirstFatjet_pt' at 0x00017f13ffa0>\n",
      "<TBranch 'FirstFatjet_m' at 0x00017f144790>\n",
      "<TBranch 'SecondFatjet_pt' at 0x00017f144f40>\n",
      "<TBranch 'SecondFatjet_m' at 0x00017f14c730>\n",
      "<TBranch 'fj_ParT_score' at 0x00017f14cee0>\n",
      "<TBranch 'fj_ParT_mass' at 0x00017f1606d0>\n",
      "<TBranch 'fj_ParT_hidNeuron000' at 0x00017f160e80>\n",
      "<TBranch 'fj_ParT_hidNeuron001' at 0x00017f162670>\n",
      "<TBranch 'fj_ParT_hidNeuron002' at 0x00017f162e20>\n",
      "<TBranch 'fj_ParT_hidNeuron003' at 0x00017f168610>\n",
      "<TBranch 'fj_ParT_hidNeuron004' at 0x00017f168dc0>\n",
      "<TBranch 'fj_ParT_hidNeuron005' at 0x00017f17a5b0>\n",
      "<TBranch 'fj_ParT_hidNeuron006' at 0x00017f17ad60>\n",
      "<TBranch 'fj_ParT_hidNeuron007' at 0x00017f181550>\n",
      "<TBranch 'fj_ParT_hidNeuron008' at 0x00017f181d00>\n",
      "<TBranch 'fj_ParT_hidNeuron009' at 0x00017f18c4f0>\n",
      "<TBranch 'fj_ParT_hidNeuron010' at 0x00017f18cca0>\n",
      "<TBranch 'fj_ParT_hidNeuron011' at 0x00017f254490>\n",
      "<TBranch 'fj_ParT_hidNeuron012' at 0x00017f254c40>\n",
      "<TBranch 'fj_ParT_hidNeuron013' at 0x00017f25e430>\n",
      "<TBranch 'fj_ParT_hidNeuron014' at 0x00017f25ebe0>\n",
      "<TBranch 'fj_ParT_hidNeuron015' at 0x00017f26a3d0>\n",
      "<TBranch 'fj_ParT_hidNeuron016' at 0x00017f26ab80>\n",
      "<TBranch 'fj_ParT_hidNeuron017' at 0x00017f276370>\n",
      "<TBranch 'fj_ParT_hidNeuron018' at 0x00017f276b20>\n",
      "<TBranch 'fj_ParT_hidNeuron019' at 0x00017f27f310>\n",
      "<TBranch 'fj_ParT_hidNeuron020' at 0x00017f27fac0>\n",
      "<TBranch 'fj_ParT_hidNeuron021' at 0x00017f28c2b0>\n",
      "<TBranch 'fj_ParT_hidNeuron022' at 0x00017f28ca60>\n",
      "<TBranch 'fj_ParT_hidNeuron023' at 0x00017f1dd250>\n",
      "<TBranch 'fj_ParT_hidNeuron024' at 0x00017f1dda00>\n",
      "<TBranch 'fj_ParT_hidNeuron025' at 0x00017f1df1f0>\n",
      "<TBranch 'fj_ParT_hidNeuron026' at 0x00017f1df9a0>\n",
      "<TBranch 'fj_ParT_hidNeuron027' at 0x00017f1eb190>\n",
      "<TBranch 'fj_ParT_hidNeuron028' at 0x00017f1eb940>\n",
      "<TBranch 'fj_ParT_hidNeuron029' at 0x00017f1f8130>\n",
      "<TBranch 'fj_ParT_hidNeuron030' at 0x00017f1f88e0>\n",
      "<TBranch 'fj_ParT_hidNeuron031' at 0x00017f2060d0>\n",
      "<TBranch 'fj_ParT_hidNeuron032' at 0x00017f206880>\n",
      "<TBranch 'fj_ParT_hidNeuron033' at 0x00017f206fa0>\n",
      "<TBranch 'fj_ParT_hidNeuron034' at 0x00017f209820>\n",
      "<TBranch 'fj_ParT_hidNeuron035' at 0x00017f209fd0>\n",
      "<TBranch 'fj_ParT_hidNeuron036' at 0x00017f3517c0>\n",
      "<TBranch 'fj_ParT_hidNeuron037' at 0x00017f351f70>\n",
      "<TBranch 'fj_ParT_hidNeuron038' at 0x00017f31e760>\n",
      "<TBranch 'fj_ParT_hidNeuron039' at 0x00017f31ef10>\n",
      "<TBranch 'fj_ParT_hidNeuron040' at 0x00017f328700>\n",
      "<TBranch 'fj_ParT_hidNeuron041' at 0x00017f328eb0>\n",
      "<TBranch 'fj_ParT_hidNeuron042' at 0x00017f3346a0>\n",
      "<TBranch 'fj_ParT_hidNeuron043' at 0x00017f334e50>\n",
      "<TBranch 'fj_ParT_hidNeuron044' at 0x00017f33d640>\n",
      "<TBranch 'fj_ParT_hidNeuron045' at 0x00017f33ddf0>\n",
      "<TBranch 'fj_ParT_hidNeuron046' at 0x00017f3465e0>\n",
      "<TBranch 'fj_ParT_hidNeuron047' at 0x00017f346d90>\n",
      "<TBranch 'fj_ParT_hidNeuron048' at 0x00017f295580>\n",
      "<TBranch 'fj_ParT_hidNeuron049' at 0x00017f295d30>\n",
      "<TBranch 'fj_ParT_hidNeuron050' at 0x00017f2a0520>\n",
      "<TBranch 'fj_ParT_hidNeuron051' at 0x00017f2a0cd0>\n",
      "<TBranch 'fj_ParT_hidNeuron052' at 0x00017f2ac4c0>\n",
      "<TBranch 'fj_ParT_hidNeuron053' at 0x00017f2acc70>\n",
      "<TBranch 'fj_ParT_hidNeuron054' at 0x00017f2af460>\n",
      "<TBranch 'fj_ParT_hidNeuron055' at 0x00017f2afc10>\n",
      "<TBranch 'fj_ParT_hidNeuron056' at 0x00017f2bf400>\n",
      "<TBranch 'fj_ParT_hidNeuron057' at 0x00017f2bfbb0>\n",
      "<TBranch 'fj_ParT_hidNeuron058' at 0x00017f2c63a0>\n",
      "<TBranch 'fj_ParT_hidNeuron059' at 0x00017f2c6b50>\n",
      "<TBranch 'fj_ParT_hidNeuron060' at 0x00017f2ce340>\n",
      "<TBranch 'fj_ParT_hidNeuron061' at 0x00017f2ceaf0>\n",
      "<TBranch 'fj_ParT_hidNeuron062' at 0x00017f2e22e0>\n",
      "<TBranch 'fj_ParT_hidNeuron063' at 0x00017f2e2a90>\n",
      "<TBranch 'fj_ParT_hidNeuron064' at 0x00017f2e8280>\n",
      "<TBranch 'fj_ParT_hidNeuron065' at 0x00017f2e8a30>\n",
      "<TBranch 'fj_ParT_hidNeuron066' at 0x00017f2f0220>\n",
      "<TBranch 'fj_ParT_hidNeuron067' at 0x00017f2f09d0>\n",
      "<TBranch 'fj_ParT_hidNeuron068' at 0x00017f3001c0>\n",
      "<TBranch 'fj_ParT_hidNeuron069' at 0x00017f300970>\n",
      "<TBranch 'fj_ParT_hidNeuron070' at 0x00017f30b160>\n",
      "<TBranch 'fj_ParT_hidNeuron071' at 0x00017f30b910>\n",
      "<TBranch 'fj_ParT_hidNeuron072' at 0x00017f30e100>\n",
      "<TBranch 'fj_ParT_hidNeuron073' at 0x00017f30e8b0>\n",
      "<TBranch 'fj_ParT_hidNeuron074' at 0x00017f30efd0>\n",
      "<TBranch 'fj_ParT_hidNeuron075' at 0x00017f357850>\n",
      "<TBranch 'fj_ParT_hidNeuron076' at 0x00017f357f70>\n",
      "<TBranch 'fj_ParT_hidNeuron077' at 0x00017f36a7f0>\n",
      "<TBranch 'fj_ParT_hidNeuron078' at 0x00017f36afa0>\n",
      "<TBranch 'fj_ParT_hidNeuron079' at 0x00017f36e790>\n",
      "<TBranch 'fj_ParT_hidNeuron080' at 0x00017f36ef40>\n",
      "<TBranch 'fj_ParT_hidNeuron081' at 0x00017f37b730>\n",
      "<TBranch 'fj_ParT_hidNeuron082' at 0x00017f37bee0>\n",
      "<TBranch 'fj_ParT_hidNeuron083' at 0x00017f3836d0>\n",
      "<TBranch 'fj_ParT_hidNeuron084' at 0x00017f383e80>\n",
      "<TBranch 'fj_ParT_hidNeuron085' at 0x00017f38c670>\n",
      "<TBranch 'fj_ParT_hidNeuron086' at 0x00017f38ce20>\n",
      "<TBranch 'fj_ParT_hidNeuron087' at 0x00017f3d5610>\n",
      "<TBranch 'fj_ParT_hidNeuron088' at 0x00017f3d5dc0>\n",
      "<TBranch 'fj_ParT_hidNeuron089' at 0x00017f3e05b0>\n",
      "<TBranch 'fj_ParT_hidNeuron090' at 0x00017f3e0d60>\n",
      "<TBranch 'fj_ParT_hidNeuron091' at 0x00017f3ea550>\n",
      "<TBranch 'fj_ParT_hidNeuron092' at 0x00017f3ead00>\n",
      "<TBranch 'fj_ParT_hidNeuron093' at 0x00017f3f84f0>\n",
      "<TBranch 'fj_ParT_hidNeuron094' at 0x00017f3f8ca0>\n",
      "<TBranch 'fj_ParT_hidNeuron095' at 0x00017f402490>\n",
      "<TBranch 'fj_ParT_hidNeuron096' at 0x00017f402c40>\n",
      "<TBranch 'fj_ParT_hidNeuron097' at 0x00017f40d430>\n",
      "<TBranch 'fj_ParT_hidNeuron098' at 0x00017f40dbe0>\n",
      "<TBranch 'fj_ParT_hidNeuron099' at 0x00017f4183d0>\n",
      "<TBranch 'fj_ParT_hidNeuron100' at 0x00017f418b80>\n",
      "<TBranch 'fj_ParT_hidNeuron101' at 0x00017f41f370>\n",
      "<TBranch 'fj_ParT_hidNeuron102' at 0x00017f41fb20>\n",
      "<TBranch 'fj_ParT_hidNeuron103' at 0x00017f42a310>\n",
      "<TBranch 'fj_ParT_hidNeuron104' at 0x00017f42aac0>\n",
      "<TBranch 'fj_ParT_hidNeuron105' at 0x00017f4372b0>\n",
      "<TBranch 'fj_ParT_hidNeuron106' at 0x00017f437a60>\n",
      "<TBranch 'fj_ParT_hidNeuron107' at 0x00017f441250>\n",
      "<TBranch 'fj_ParT_hidNeuron108' at 0x00017f441a00>\n",
      "<TBranch 'fj_ParT_hidNeuron109' at 0x00017f44b1f0>\n",
      "<TBranch 'fj_ParT_hidNeuron110' at 0x00017f44b9a0>\n",
      "<TBranch 'fj_ParT_hidNeuron111' at 0x00017f588190>\n",
      "<TBranch 'fj_ParT_hidNeuron112' at 0x00017f588940>\n",
      "<TBranch 'fj_ParT_hidNeuron113' at 0x00017f586130>\n",
      "<TBranch 'fj_ParT_hidNeuron114' at 0x00017f5868e0>\n",
      "<TBranch 'fj_ParT_hidNeuron115' at 0x00017f5930d0>\n",
      "<TBranch 'fj_ParT_hidNeuron116' at 0x00017f593880>\n",
      "<TBranch 'fj_ParT_hidNeuron117' at 0x00017f593fa0>\n",
      "<TBranch 'fj_ParT_hidNeuron118' at 0x00017f59d820>\n",
      "<TBranch 'fj_ParT_hidNeuron119' at 0x00017f59dfd0>\n",
      "<TBranch 'fj_ParT_hidNeuron120' at 0x00017f5a97c0>\n",
      "<TBranch 'fj_ParT_hidNeuron121' at 0x00017f5a9f70>\n",
      "<TBranch 'fj_ParT_hidNeuron122' at 0x00017f5b5760>\n",
      "<TBranch 'fj_ParT_hidNeuron123' at 0x00017f5b5f10>\n",
      "<TBranch 'fj_ParT_hidNeuron124' at 0x00017f540700>\n",
      "<TBranch 'fj_ParT_hidNeuron125' at 0x00017f540eb0>\n",
      "<TBranch 'fj_ParT_hidNeuron126' at 0x00017f5486a0>\n",
      "<TBranch 'fj_ParT_hidNeuron127' at 0x00017f548e50>\n"
     ]
    }
   ],
   "source": [
    "for key in events:\n",
    "    print(key)"
   ]
  },
  {
   "cell_type": "code",
   "execution_count": null,
   "id": "5cb31f8f",
   "metadata": {},
   "outputs": [],
   "source": []
  },
  {
   "cell_type": "code",
   "execution_count": 26,
   "id": "c9a46138",
   "metadata": {},
   "outputs": [
    {
     "data": {
      "text/plain": [
       "0"
      ]
     },
     "execution_count": 26,
     "metadata": {},
     "output_type": "execute_result"
    }
   ],
   "source": [
    "one_lep = events[\"fj_isHVV_elenuqq\"].array() | events[\"fj_isHVV_munuqq\"].array()\n",
    "one_lep_inprongs = events[\"fj_lepinprongs\"].array()==1\n",
    "two_quarks = events[\"fj_nquarks\"].array()==2\n",
    "\n",
    "ak.sum(one_lep & one_lep_inprongs & two_quarks)"
   ]
  },
  {
   "cell_type": "code",
   "execution_count": 20,
   "id": "642ba4c7",
   "metadata": {},
   "outputs": [
    {
     "data": {
      "text/plain": [
       "0"
      ]
     },
     "execution_count": 20,
     "metadata": {},
     "output_type": "execute_result"
    }
   ],
   "source": [
    "ak.sum(one_lep & one_lep_inprongs & two_quarks & matched_higgs)"
   ]
  },
  {
   "cell_type": "code",
   "execution_count": 21,
   "id": "c6c4c238",
   "metadata": {},
   "outputs": [
    {
     "ename": "KeyInFileError",
     "evalue": "not found: 'lep_dR_fj'\n\n    Available keys: 'lep_fj_dr', 'lep_pt', 'lep_met_mt', 'lep_miso', 'lep_reliso', 'fj_pt', 'mjj', 'fj_eta', 'fj_phi', 'fj_genV_dR', 'fj_isV', 'met_pt', 'lep_pt_ratio', 'deta', 'j1_m', 'j2_m', 'ht', 'fj_mass', 'fj_lsf3', 'met_fj_dphi'...\n\nin file ../datafiles/TaggerInput/TaggerInput_2017/JHUVariableWMass_part1/outfiles/train/out.root\nin object /Events;1",
     "output_type": "error",
     "traceback": [
      "\u001b[0;31m---------------------------------------------------------------------------\u001b[0m",
      "\u001b[0;31mKeyInFileError\u001b[0m                            Traceback (most recent call last)",
      "Cell \u001b[0;32mIn[21], line 1\u001b[0m\n\u001b[0;32m----> 1\u001b[0m dr \u001b[38;5;241m=\u001b[39m \u001b[43mevents\u001b[49m\u001b[43m[\u001b[49m\u001b[38;5;124;43m\"\u001b[39;49m\u001b[38;5;124;43mlep_dR_fj\u001b[39;49m\u001b[38;5;124;43m\"\u001b[39;49m\u001b[43m]\u001b[49m\u001b[38;5;241m.\u001b[39marray()\u001b[38;5;241m<\u001b[39m\u001b[38;5;241m0.8\u001b[39m\n\u001b[1;32m      3\u001b[0m ak\u001b[38;5;241m.\u001b[39msum(one_lep \u001b[38;5;241m&\u001b[39m one_lep_inprongs \u001b[38;5;241m&\u001b[39m two_quarks \u001b[38;5;241m&\u001b[39m matched_higgs \u001b[38;5;241m&\u001b[39m dr)\n",
      "File \u001b[0;32m~/miniconda3/envs/coffea-env/lib/python3.9/site-packages/uproot/behaviors/TBranch.py:2040\u001b[0m, in \u001b[0;36mHasBranches.__getitem__\u001b[0;34m(self, where)\u001b[0m\n\u001b[1;32m   2038\u001b[0m         \u001b[38;5;28;01mreturn\u001b[39;00m got\n\u001b[1;32m   2039\u001b[0m     \u001b[38;5;28;01melse\u001b[39;00m:\n\u001b[0;32m-> 2040\u001b[0m         \u001b[38;5;28;01mraise\u001b[39;00m uproot\u001b[38;5;241m.\u001b[39mKeyInFileError(\n\u001b[1;32m   2041\u001b[0m             original_where,\n\u001b[1;32m   2042\u001b[0m             keys\u001b[38;5;241m=\u001b[39m\u001b[38;5;28mself\u001b[39m\u001b[38;5;241m.\u001b[39mkeys(recursive\u001b[38;5;241m=\u001b[39mrecursive),\n\u001b[1;32m   2043\u001b[0m             file_path\u001b[38;5;241m=\u001b[39m\u001b[38;5;28mself\u001b[39m\u001b[38;5;241m.\u001b[39m_file\u001b[38;5;241m.\u001b[39mfile_path,\n\u001b[1;32m   2044\u001b[0m             object_path\u001b[38;5;241m=\u001b[39m\u001b[38;5;28mself\u001b[39m\u001b[38;5;241m.\u001b[39mobject_path,\n\u001b[1;32m   2045\u001b[0m         )\n\u001b[1;32m   2047\u001b[0m \u001b[38;5;28;01melse\u001b[39;00m:\n\u001b[1;32m   2048\u001b[0m     \u001b[38;5;28;01mfor\u001b[39;00m branch \u001b[38;5;129;01min\u001b[39;00m \u001b[38;5;28mself\u001b[39m\u001b[38;5;241m.\u001b[39mbranches:\n",
      "\u001b[0;31mKeyInFileError\u001b[0m: not found: 'lep_dR_fj'\n\n    Available keys: 'lep_fj_dr', 'lep_pt', 'lep_met_mt', 'lep_miso', 'lep_reliso', 'fj_pt', 'mjj', 'fj_eta', 'fj_phi', 'fj_genV_dR', 'fj_isV', 'met_pt', 'lep_pt_ratio', 'deta', 'j1_m', 'j2_m', 'ht', 'fj_mass', 'fj_lsf3', 'met_fj_dphi'...\n\nin file ../datafiles/TaggerInput/TaggerInput_2017/JHUVariableWMass_part1/outfiles/train/out.root\nin object /Events;1"
     ]
    }
   ],
   "source": [
    "dr = events[\"lep_dR_fj\"].array()<0.8\n",
    "\n",
    "ak.sum(one_lep & one_lep_inprongs & two_quarks & matched_higgs & dr)"
   ]
  },
  {
   "cell_type": "markdown",
   "id": "bd27f178",
   "metadata": {},
   "source": [
    "# Higgs (VBF)"
   ]
  },
  {
   "cell_type": "code",
   "execution_count": 139,
   "id": "c4b570b5",
   "metadata": {},
   "outputs": [],
   "source": [
    "events = uproot.open(\"../datafiles/ntuples/VBFHToWWToLNuQQ_M-125_withDipoleRecoil/2018/train/out.root\")[\"Events\"]"
   ]
  },
  {
   "cell_type": "code",
   "execution_count": 143,
   "id": "7a85714f",
   "metadata": {},
   "outputs": [
    {
     "data": {
      "text/plain": [
       "0"
      ]
     },
     "execution_count": 143,
     "metadata": {},
     "output_type": "execute_result"
    }
   ],
   "source": [
    "(events[\"fj_isVBF\"].array()==0).to_numpy().sum()   # all is vbf"
   ]
  },
  {
   "cell_type": "code",
   "execution_count": 144,
   "id": "1af7a0ee",
   "metadata": {},
   "outputs": [
    {
     "data": {
      "text/plain": [
       "0"
      ]
     },
     "execution_count": 144,
     "metadata": {},
     "output_type": "execute_result"
    }
   ],
   "source": [
    "(events[\"fj_isggF\"].array()==1).to_numpy().sum()   # no ggF"
   ]
  },
  {
   "cell_type": "code",
   "execution_count": 146,
   "id": "bd37cf78",
   "metadata": {},
   "outputs": [
    {
     "data": {
      "text/plain": [
       "5"
      ]
     },
     "execution_count": 146,
     "metadata": {},
     "output_type": "execute_result"
    }
   ],
   "source": [
    "(events[\"fj_genRes_mass\"].array()!=125).to_numpy().sum()  # MOST fj_genRes_mass is 125"
   ]
  },
  {
   "cell_type": "code",
   "execution_count": 147,
   "id": "4c6ec7da",
   "metadata": {},
   "outputs": [
    {
     "name": "stdout",
     "output_type": "stream",
     "text": [
      "ishww: 1238\n",
      "~ishww: 0\n"
     ]
    }
   ],
   "source": [
    "ishww = events[\"fj_isHVV\"].array()\n",
    "print(\"ishww:\", ak.sum(ishww))\n",
    "print(\"~ishww:\", ak.sum(~ishww))"
   ]
  },
  {
   "cell_type": "code",
   "execution_count": 148,
   "id": "cd300fc6",
   "metadata": {},
   "outputs": [
    {
     "name": "stdout",
     "output_type": "stream",
     "text": [
      "isHVV_Matched: 832\n",
      "~isHVV_Matched: 406\n"
     ]
    }
   ],
   "source": [
    "matched_higgs = events[\"fj_isHVV_Matched\"].array()\n",
    "print(\"isHVV_Matched:\", ak.sum(matched_higgs))\n",
    "print(\"~isHVV_Matched:\", ak.sum(~matched_higgs))"
   ]
  },
  {
   "cell_type": "code",
   "execution_count": 149,
   "id": "dbf38fb1",
   "metadata": {},
   "outputs": [
    {
     "data": {
      "text/plain": [
       "450"
      ]
     },
     "execution_count": 149,
     "metadata": {},
     "output_type": "execute_result"
    }
   ],
   "source": [
    "one_lep = events[\"fj_isHVV_elenuqq\"].array() | events[\"fj_isHVV_munuqq\"].array()\n",
    "one_lep_inprongs = events[\"fj_lepinprongs\"].array()==1\n",
    "two_quarks = events[\"fj_nquarks\"].array()==2\n",
    "\n",
    "ak.sum(one_lep & one_lep_inprongs & two_quarks)"
   ]
  },
  {
   "cell_type": "code",
   "execution_count": 150,
   "id": "6ab09090",
   "metadata": {},
   "outputs": [
    {
     "data": {
      "text/plain": [
       "450"
      ]
     },
     "execution_count": 150,
     "metadata": {},
     "output_type": "execute_result"
    }
   ],
   "source": [
    "ak.sum(one_lep & one_lep_inprongs & two_quarks & matched_higgs)"
   ]
  },
  {
   "cell_type": "code",
   "execution_count": 151,
   "id": "77f2a067",
   "metadata": {},
   "outputs": [
    {
     "data": {
      "text/plain": [
       "450"
      ]
     },
     "execution_count": 151,
     "metadata": {},
     "output_type": "execute_result"
    }
   ],
   "source": [
    "dr = events[\"lep_dR_fj\"].array()<0.8\n",
    "\n",
    "ak.sum(one_lep & one_lep_inprongs & two_quarks & matched_higgs & dr)"
   ]
  },
  {
   "cell_type": "markdown",
   "id": "7176ec1f",
   "metadata": {},
   "source": [
    "# QCD file"
   ]
  },
  {
   "cell_type": "code",
   "execution_count": 154,
   "id": "0108282e",
   "metadata": {},
   "outputs": [],
   "source": [
    "events = uproot.open(\"../datafiles/ntuples/QCD_Pt_300to470/2018/train/out.root\")[\"Events\"]"
   ]
  },
  {
   "cell_type": "code",
   "execution_count": 156,
   "id": "32d061a9",
   "metadata": {},
   "outputs": [
    {
     "data": {
      "text/plain": [
       "0"
      ]
     },
     "execution_count": 156,
     "metadata": {},
     "output_type": "execute_result"
    }
   ],
   "source": [
    "(events[\"fj_genRes_mass\"].array()!=0).to_numpy().sum()"
   ]
  },
  {
   "cell_type": "code",
   "execution_count": 159,
   "id": "20b9a449",
   "metadata": {},
   "outputs": [
    {
     "data": {
      "text/plain": [
       "0"
      ]
     },
     "execution_count": 159,
     "metadata": {},
     "output_type": "execute_result"
    }
   ],
   "source": [
    "(events[\"fj_isQCD\"].array()!=1).to_numpy().sum()"
   ]
  },
  {
   "cell_type": "markdown",
   "id": "b875f157",
   "metadata": {},
   "source": [
    "# WJets file"
   ]
  },
  {
   "cell_type": "code",
   "execution_count": 197,
   "id": "6792b23a",
   "metadata": {},
   "outputs": [],
   "source": [
    "events = uproot.open(\"../datafiles/ntuples/WJetsToLNu_HT-200To400/2018/train/out.root\")[\"Events\"]"
   ]
  },
  {
   "cell_type": "code",
   "execution_count": 198,
   "id": "8f782342",
   "metadata": {},
   "outputs": [
    {
     "data": {
      "text/plain": [
       "0"
      ]
     },
     "execution_count": 198,
     "metadata": {},
     "output_type": "execute_result"
    }
   ],
   "source": [
    "(events[\"fj_genRes_mass\"].array()!=0).to_numpy().sum()"
   ]
  },
  {
   "cell_type": "code",
   "execution_count": 199,
   "id": "3edba4bb",
   "metadata": {},
   "outputs": [
    {
     "data": {
      "text/plain": [
       "0"
      ]
     },
     "execution_count": 199,
     "metadata": {},
     "output_type": "execute_result"
    }
   ],
   "source": [
    "(events[\"fj_isV\"].array()!=1).to_numpy().sum()"
   ]
  },
  {
   "cell_type": "code",
   "execution_count": 200,
   "id": "9ba375f0",
   "metadata": {},
   "outputs": [
    {
     "name": "stdout",
     "output_type": "stream",
     "text": [
      "isV_Matched: 7531\n",
      "~isV_Matched: 4698\n"
     ]
    }
   ],
   "source": [
    "matched_higgs = events[\"fj_isV_Matched\"].array()\n",
    "print(\"isV_Matched:\", ak.sum(matched_higgs))\n",
    "print(\"~isV_Matched:\", ak.sum(~matched_higgs))"
   ]
  },
  {
   "cell_type": "code",
   "execution_count": 202,
   "id": "94e8f83c",
   "metadata": {},
   "outputs": [
    {
     "data": {
      "text/plain": [
       "7513"
      ]
     },
     "execution_count": 202,
     "metadata": {},
     "output_type": "execute_result"
    }
   ],
   "source": [
    "one_lep = events[\"fj_isV_elenu\"].array() | events[\"fj_isV_munu\"].array()\n",
    "one_tau = events[\"fj_isV_taunu\"].array()\n",
    "one_lep_inprongs = events[\"fj_lepinprongs\"].array()==1\n",
    "two_quarks = events[\"fj_isV_2q\"].array()\n",
    "\n",
    "ak.sum( (one_lep & one_lep_inprongs) | two_quarks)"
   ]
  },
  {
   "cell_type": "code",
   "execution_count": 219,
   "id": "36aad6ea",
   "metadata": {},
   "outputs": [
    {
     "name": "stdout",
     "output_type": "stream",
     "text": [
      "12229\n",
      "0\n"
     ]
    }
   ],
   "source": [
    "print(ak.sum((two_quarks | one_lep | one_tau)==1))\n",
    "print(ak.sum((two_quarks | one_lep | one_tau)!=1))"
   ]
  },
  {
   "cell_type": "code",
   "execution_count": null,
   "id": "e117f69f",
   "metadata": {},
   "outputs": [],
   "source": [
    " ( (fj_isV_2q==1) | (fj_isV_munu==1) | (fj_isV_elenu==1) | (fj_isV_taunu==1) )"
   ]
  },
  {
   "cell_type": "code",
   "execution_count": 211,
   "id": "46c77d7a",
   "metadata": {},
   "outputs": [
    {
     "data": {
      "text/plain": [
       "<Array [1, 1, 1, 1, 1, 1, ... 1, 1, 1, 1, 1, 1] type='12229 * int64'>"
      ]
     },
     "execution_count": 211,
     "metadata": {},
     "output_type": "execute_result"
    }
   ],
   "source": [
    "(two_quarks | one_lep | one_tau)"
   ]
  },
  {
   "cell_type": "code",
   "execution_count": 221,
   "id": "a100830f",
   "metadata": {},
   "outputs": [
    {
     "data": {
      "text/plain": [
       "0"
      ]
     },
     "execution_count": 221,
     "metadata": {},
     "output_type": "execute_result"
    }
   ],
   "source": [
    "ak.sum(two_quarks)"
   ]
  },
  {
   "cell_type": "code",
   "execution_count": null,
   "id": "d4cfbe3b",
   "metadata": {},
   "outputs": [],
   "source": []
  },
  {
   "cell_type": "code",
   "execution_count": null,
   "id": "127cf685",
   "metadata": {},
   "outputs": [],
   "source": []
  },
  {
   "cell_type": "markdown",
   "id": "4a9b335e",
   "metadata": {},
   "source": [
    "# Top file"
   ]
  },
  {
   "cell_type": "code",
   "execution_count": 222,
   "id": "c98bad20",
   "metadata": {},
   "outputs": [],
   "source": [
    "events = uproot.open(\"../datafiles/ntuples/TTToSemiLeptonic/2018/train/out.root\")[\"Events\"]"
   ]
  },
  {
   "cell_type": "code",
   "execution_count": 223,
   "id": "cb613bd7",
   "metadata": {},
   "outputs": [
    {
     "data": {
      "text/plain": [
       "0"
      ]
     },
     "execution_count": 223,
     "metadata": {},
     "output_type": "execute_result"
    }
   ],
   "source": [
    "(events[\"fj_isTop\"].array()!=1).to_numpy().sum()"
   ]
  },
  {
   "cell_type": "code",
   "execution_count": 179,
   "id": "7131880a",
   "metadata": {},
   "outputs": [
    {
     "name": "stdout",
     "output_type": "stream",
     "text": [
      "isTop_Matched: 124432\n",
      "~isTop_Matched: 25366\n"
     ]
    }
   ],
   "source": [
    "matched_higgs = events[\"fj_isTop_Matched\"].array()\n",
    "print(\"isTop_Matched:\", ak.sum(matched_higgs))\n",
    "print(\"~isTop_Matched:\", ak.sum(~matched_higgs))"
   ]
  },
  {
   "cell_type": "code",
   "execution_count": 181,
   "id": "fc8a9b99",
   "metadata": {},
   "outputs": [
    {
     "name": "stdout",
     "output_type": "stream",
     "text": [
      "numMatched==0: 25108\n",
      "numMatched==1: 119101\n",
      "numMatched==2: 5589\n",
      "numMatched==3: 0\n"
     ]
    }
   ],
   "source": [
    "print(\"numMatched==0:\", ak.sum(events[\"fj_Top_numMatched\"].array()==0))\n",
    "print(\"numMatched==1:\", ak.sum(events[\"fj_Top_numMatched\"].array()==1))\n",
    "print(\"numMatched==2:\", ak.sum(events[\"fj_Top_numMatched\"].array()==2))\n",
    "print(\"numMatched==3:\", ak.sum(events[\"fj_Top_numMatched\"].array()==3))"
   ]
  },
  {
   "cell_type": "code",
   "execution_count": 226,
   "id": "edeffa82",
   "metadata": {},
   "outputs": [
    {
     "name": "stdout",
     "output_type": "stream",
     "text": [
      "Top_Wlep==1: 84508\n",
      "Top_Wlep_b==1: 62895\n"
     ]
    }
   ],
   "source": [
    "print(\"Top_Wlep==1:\", (events[\"fj_isTop_W_lep\"].array()==1).to_numpy().sum())\n",
    "print(\"Top_Wlep_b==1:\", (events[\"fj_isTop_W_lep_b\"].array()==1).to_numpy().sum())"
   ]
  },
  {
   "cell_type": "code",
   "execution_count": 230,
   "id": "4a306c74",
   "metadata": {},
   "outputs": [
    {
     "data": {
      "text/plain": [
       "84508"
      ]
     },
     "execution_count": 230,
     "metadata": {},
     "output_type": "execute_result"
    }
   ],
   "source": [
    "ak.sum((events[\"fj_isTop_W_lep\"].array()==1) | (events[\"fj_isTop_W_lep_b\"].array()==1))"
   ]
  },
  {
   "cell_type": "code",
   "execution_count": null,
   "id": "d1f66551",
   "metadata": {},
   "outputs": [],
   "source": []
  }
 ],
 "metadata": {
  "kernelspec": {
   "display_name": "coffea-env",
   "language": "python",
   "name": "coffea-env"
  },
  "language_info": {
   "codemirror_mode": {
    "name": "ipython",
    "version": 3
   },
   "file_extension": ".py",
   "mimetype": "text/x-python",
   "name": "python",
   "nbconvert_exporter": "python",
   "pygments_lexer": "ipython3",
   "version": "3.9.0"
  }
 },
 "nbformat": 4,
 "nbformat_minor": 5
}
