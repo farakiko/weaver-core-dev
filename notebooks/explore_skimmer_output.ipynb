{
 "cells": [
  {
   "cell_type": "code",
   "execution_count": 1,
   "id": "cb702c12",
   "metadata": {},
   "outputs": [
    {
     "data": {
      "text/plain": [
       "{'divide': 'warn', 'over': 'warn', 'under': 'ignore', 'invalid': 'warn'}"
      ]
     },
     "execution_count": 1,
     "metadata": {},
     "output_type": "execute_result"
    }
   ],
   "source": [
    "import argparse\n",
    "import json\n",
    "import os\n",
    "import pathlib\n",
    "import pickle as pkl\n",
    "import shutil\n",
    "import sys\n",
    "import time\n",
    "import warnings\n",
    "from collections import defaultdict\n",
    "from typing import Dict, List, Optional\n",
    "\n",
    "import awkward as ak\n",
    "import matplotlib.pyplot as plt\n",
    "import numpy as np\n",
    "import pandas as pd\n",
    "import pyarrow as pa\n",
    "import pyarrow.parquet as pq\n",
    "\n",
    "### schema\n",
    "import uproot\n",
    "from coffea import nanoevents, processor\n",
    "from coffea.analysis_tools import PackedSelection, Weights\n",
    "from coffea.nanoevents import BaseSchema, NanoAODSchema, NanoEventsFactory\n",
    "from coffea.nanoevents.methods import candidate, vector\n",
    "\n",
    "import mplhep as hep\n",
    "\n",
    "plt.style.use(hep.style.CMS)\n",
    "\n",
    "### awkward 1.10.0\n",
    "sys.path.append(\"../\")\n",
    "\n",
    "nanoevents.PFNanoAODSchema.mixins[\"PFCands\"] = \"PFCand\"\n",
    "nanoevents.PFNanoAODSchema.mixins[\"SV\"] = \"PFCand\"\n",
    "\n",
    "warnings.filterwarnings(\"ignore\", message=\"Found duplicate branch \")\n",
    "warnings.filterwarnings(\"ignore\", category=DeprecationWarning)\n",
    "warnings.filterwarnings(\"ignore\", message=\"Missing cross-reference index \")\n",
    "warnings.filterwarnings(\"ignore\", message=\"divide by zero encountered in log\")\n",
    "np.seterr(invalid=\"ignore\")"
   ]
  },
  {
   "cell_type": "code",
   "execution_count": 2,
   "id": "90ffbf63",
   "metadata": {},
   "outputs": [],
   "source": [
    "%load_ext autoreload\n",
    "%autoreload 2"
   ]
  },
  {
   "cell_type": "code",
   "execution_count": 38,
   "id": "1d8a1d30",
   "metadata": {},
   "outputs": [
    {
     "name": "stdout",
     "output_type": "stream",
     "text": [
      "experiments/mass_regression/ntuples/hww:\r\n",
      "out.root\r\n",
      "\r\n",
      "experiments/mass_regression/ntuples/qcd:\r\n",
      "out.root\r\n",
      "\r\n",
      "experiments/mass_regression/ntuples/top:\r\n",
      "out.root\r\n",
      "\r\n",
      "experiments/mass_regression/ntuples/wjets:\r\n",
      "out.root\r\n"
     ]
    }
   ],
   "source": [
    "! ls experiments/mass_regression/ntuples/*"
   ]
  },
  {
   "cell_type": "markdown",
   "id": "1f521574",
   "metadata": {},
   "source": [
    "# Higgs file"
   ]
  },
  {
   "cell_type": "code",
   "execution_count": 132,
   "id": "51827a88",
   "metadata": {},
   "outputs": [
    {
     "data": {
      "text/plain": [
       "<TTree 'Events' (209 branches) at 0x00029a482fa0>"
      ]
     },
     "execution_count": 132,
     "metadata": {},
     "output_type": "execute_result"
    }
   ],
   "source": [
    "f = uproot.open(\"datafiles/ntuples/hww/out.root\")\n",
    "f[\"Events\"]"
   ]
  },
  {
   "cell_type": "code",
   "execution_count": 90,
   "id": "3e6e7c7e",
   "metadata": {},
   "outputs": [
    {
     "data": {
      "text/plain": [
       "['fj_eta',\n",
       " 'fj_phi',\n",
       " 'fj_mass',\n",
       " 'fj_pt',\n",
       " 'fj_msoftdrop',\n",
       " 'matched_mask',\n",
       " 'fj_genjetmass',\n",
       " 'fj_genRes_pt',\n",
       " 'fj_genRes_eta',\n",
       " 'fj_genRes_phi',\n",
       " 'fj_genRes_mass',\n",
       " 'fj_nprongs',\n",
       " 'fj_ncquarks',\n",
       " 'fj_lepinprongs',\n",
       " 'fj_nquarks',\n",
       " 'fj_H_VV_4q',\n",
       " 'fj_H_VV_elenuqq',\n",
       " 'fj_H_VV_munuqq',\n",
       " 'fj_H_VV_leptauelvqq',\n",
       " 'fj_H_VV_leptaumuvqq',\n",
       " 'fj_H_VV_hadtauvqq',\n",
       " 'fj_QCDb',\n",
       " 'fj_QCDbb',\n",
       " 'fj_QCDc',\n",
       " 'fj_QCDcc',\n",
       " 'fj_QCDothers',\n",
       " 'fj_V_2q',\n",
       " 'fj_V_elenu',\n",
       " 'fj_V_munu',\n",
       " 'fj_V_taunu',\n",
       " 'fj_Top_nquarksnob',\n",
       " 'fj_Top_nbquarks',\n",
       " 'fj_Top_ncquarks',\n",
       " 'fj_Top_nleptons',\n",
       " 'fj_Top_nele',\n",
       " 'fj_Top_nmu',\n",
       " 'fj_Top_ntau',\n",
       " 'fj_Top_taudecay',\n",
       " 'met_relpt',\n",
       " 'met_relphi',\n",
       " 'lep_dR_fj',\n",
       " 'lep_pt',\n",
       " 'lep_pt_ratio',\n",
       " 'fj_ParT_probHWqqWqq0c',\n",
       " 'fj_ParT_probHWqqWqq1c',\n",
       " 'fj_ParT_probHWqqWqq2c',\n",
       " 'fj_ParT_probHWqqWq0c',\n",
       " 'fj_ParT_probHWqqWq1c',\n",
       " 'fj_ParT_probHWqqWq2c',\n",
       " 'fj_ParT_probHWqqWev0c',\n",
       " 'fj_ParT_probHWqqWev1c',\n",
       " 'fj_ParT_probHWqqWmv0c',\n",
       " 'fj_ParT_probHWqqWmv1c',\n",
       " 'fj_ParT_probHWqqWtauev0c',\n",
       " 'fj_ParT_probHWqqWtauev1c',\n",
       " 'fj_ParT_probHWqqWtaumv0c',\n",
       " 'fj_ParT_probHWqqWtaumv1c',\n",
       " 'fj_ParT_probHWqqWtauhv0c',\n",
       " 'fj_ParT_probHWqqWtauhv1c',\n",
       " 'fj_ParT_probHbb',\n",
       " 'fj_ParT_probHcc',\n",
       " 'fj_ParT_probHss',\n",
       " 'fj_ParT_probHqq',\n",
       " 'fj_ParT_probHtauhtaue',\n",
       " 'fj_ParT_probHtauhtaum',\n",
       " 'fj_ParT_probHtauhtauh',\n",
       " 'fj_ParT_probQCDbb',\n",
       " 'fj_ParT_probQCDcc',\n",
       " 'fj_ParT_probQCDb',\n",
       " 'fj_ParT_probQCDc',\n",
       " 'fj_ParT_probQCDothers',\n",
       " 'fj_ParT_probTopbWqq0c',\n",
       " 'fj_ParT_probTopbWqq1c',\n",
       " 'fj_ParT_probTopbWq0c',\n",
       " 'fj_ParT_probTopbWq1c',\n",
       " 'fj_ParT_probTopbWev',\n",
       " 'fj_ParT_probTopbWmv',\n",
       " 'fj_ParT_probTopbWtauhv',\n",
       " 'fj_ParT_probTopbWtauev',\n",
       " 'fj_ParT_probTopbWtaumv',\n",
       " 'fj_ParT_mass',\n",
       " 'fj_ParT_hidNeuron000',\n",
       " 'fj_ParT_hidNeuron001',\n",
       " 'fj_ParT_hidNeuron002',\n",
       " 'fj_ParT_hidNeuron003',\n",
       " 'fj_ParT_hidNeuron004',\n",
       " 'fj_ParT_hidNeuron005',\n",
       " 'fj_ParT_hidNeuron006',\n",
       " 'fj_ParT_hidNeuron007',\n",
       " 'fj_ParT_hidNeuron008',\n",
       " 'fj_ParT_hidNeuron009',\n",
       " 'fj_ParT_hidNeuron010',\n",
       " 'fj_ParT_hidNeuron011',\n",
       " 'fj_ParT_hidNeuron012',\n",
       " 'fj_ParT_hidNeuron013',\n",
       " 'fj_ParT_hidNeuron014',\n",
       " 'fj_ParT_hidNeuron015',\n",
       " 'fj_ParT_hidNeuron016',\n",
       " 'fj_ParT_hidNeuron017',\n",
       " 'fj_ParT_hidNeuron018',\n",
       " 'fj_ParT_hidNeuron019',\n",
       " 'fj_ParT_hidNeuron020',\n",
       " 'fj_ParT_hidNeuron021',\n",
       " 'fj_ParT_hidNeuron022',\n",
       " 'fj_ParT_hidNeuron023',\n",
       " 'fj_ParT_hidNeuron024',\n",
       " 'fj_ParT_hidNeuron025',\n",
       " 'fj_ParT_hidNeuron026',\n",
       " 'fj_ParT_hidNeuron027',\n",
       " 'fj_ParT_hidNeuron028',\n",
       " 'fj_ParT_hidNeuron029',\n",
       " 'fj_ParT_hidNeuron030',\n",
       " 'fj_ParT_hidNeuron031',\n",
       " 'fj_ParT_hidNeuron032',\n",
       " 'fj_ParT_hidNeuron033',\n",
       " 'fj_ParT_hidNeuron034',\n",
       " 'fj_ParT_hidNeuron035',\n",
       " 'fj_ParT_hidNeuron036',\n",
       " 'fj_ParT_hidNeuron037',\n",
       " 'fj_ParT_hidNeuron038',\n",
       " 'fj_ParT_hidNeuron039',\n",
       " 'fj_ParT_hidNeuron040',\n",
       " 'fj_ParT_hidNeuron041',\n",
       " 'fj_ParT_hidNeuron042',\n",
       " 'fj_ParT_hidNeuron043',\n",
       " 'fj_ParT_hidNeuron044',\n",
       " 'fj_ParT_hidNeuron045',\n",
       " 'fj_ParT_hidNeuron046',\n",
       " 'fj_ParT_hidNeuron047',\n",
       " 'fj_ParT_hidNeuron048',\n",
       " 'fj_ParT_hidNeuron049',\n",
       " 'fj_ParT_hidNeuron050',\n",
       " 'fj_ParT_hidNeuron051',\n",
       " 'fj_ParT_hidNeuron052',\n",
       " 'fj_ParT_hidNeuron053',\n",
       " 'fj_ParT_hidNeuron054',\n",
       " 'fj_ParT_hidNeuron055',\n",
       " 'fj_ParT_hidNeuron056',\n",
       " 'fj_ParT_hidNeuron057',\n",
       " 'fj_ParT_hidNeuron058',\n",
       " 'fj_ParT_hidNeuron059',\n",
       " 'fj_ParT_hidNeuron060',\n",
       " 'fj_ParT_hidNeuron061',\n",
       " 'fj_ParT_hidNeuron062',\n",
       " 'fj_ParT_hidNeuron063',\n",
       " 'fj_ParT_hidNeuron064',\n",
       " 'fj_ParT_hidNeuron065',\n",
       " 'fj_ParT_hidNeuron066',\n",
       " 'fj_ParT_hidNeuron067',\n",
       " 'fj_ParT_hidNeuron068',\n",
       " 'fj_ParT_hidNeuron069',\n",
       " 'fj_ParT_hidNeuron070',\n",
       " 'fj_ParT_hidNeuron071',\n",
       " 'fj_ParT_hidNeuron072',\n",
       " 'fj_ParT_hidNeuron073',\n",
       " 'fj_ParT_hidNeuron074',\n",
       " 'fj_ParT_hidNeuron075',\n",
       " 'fj_ParT_hidNeuron076',\n",
       " 'fj_ParT_hidNeuron077',\n",
       " 'fj_ParT_hidNeuron078',\n",
       " 'fj_ParT_hidNeuron079',\n",
       " 'fj_ParT_hidNeuron080',\n",
       " 'fj_ParT_hidNeuron081',\n",
       " 'fj_ParT_hidNeuron082',\n",
       " 'fj_ParT_hidNeuron083',\n",
       " 'fj_ParT_hidNeuron084',\n",
       " 'fj_ParT_hidNeuron085',\n",
       " 'fj_ParT_hidNeuron086',\n",
       " 'fj_ParT_hidNeuron087',\n",
       " 'fj_ParT_hidNeuron088',\n",
       " 'fj_ParT_hidNeuron089',\n",
       " 'fj_ParT_hidNeuron090',\n",
       " 'fj_ParT_hidNeuron091',\n",
       " 'fj_ParT_hidNeuron092',\n",
       " 'fj_ParT_hidNeuron093',\n",
       " 'fj_ParT_hidNeuron094',\n",
       " 'fj_ParT_hidNeuron095',\n",
       " 'fj_ParT_hidNeuron096',\n",
       " 'fj_ParT_hidNeuron097',\n",
       " 'fj_ParT_hidNeuron098',\n",
       " 'fj_ParT_hidNeuron099',\n",
       " 'fj_ParT_hidNeuron100',\n",
       " 'fj_ParT_hidNeuron101',\n",
       " 'fj_ParT_hidNeuron102',\n",
       " 'fj_ParT_hidNeuron103',\n",
       " 'fj_ParT_hidNeuron104',\n",
       " 'fj_ParT_hidNeuron105',\n",
       " 'fj_ParT_hidNeuron106',\n",
       " 'fj_ParT_hidNeuron107',\n",
       " 'fj_ParT_hidNeuron108',\n",
       " 'fj_ParT_hidNeuron109',\n",
       " 'fj_ParT_hidNeuron110',\n",
       " 'fj_ParT_hidNeuron111',\n",
       " 'fj_ParT_hidNeuron112',\n",
       " 'fj_ParT_hidNeuron113',\n",
       " 'fj_ParT_hidNeuron114',\n",
       " 'fj_ParT_hidNeuron115',\n",
       " 'fj_ParT_hidNeuron116',\n",
       " 'fj_ParT_hidNeuron117',\n",
       " 'fj_ParT_hidNeuron118',\n",
       " 'fj_ParT_hidNeuron119',\n",
       " 'fj_ParT_hidNeuron120',\n",
       " 'fj_ParT_hidNeuron121',\n",
       " 'fj_ParT_hidNeuron122',\n",
       " 'fj_ParT_hidNeuron123',\n",
       " 'fj_ParT_hidNeuron124',\n",
       " 'fj_ParT_hidNeuron125',\n",
       " 'fj_ParT_hidNeuron126',\n",
       " 'fj_ParT_hidNeuron127']"
      ]
     },
     "execution_count": 90,
     "metadata": {},
     "output_type": "execute_result"
    }
   ],
   "source": [
    "f[\"Events\"].keys()"
   ]
  },
  {
   "cell_type": "code",
   "execution_count": 100,
   "id": "1a96cdf1",
   "metadata": {},
   "outputs": [
    {
     "data": {
      "text/plain": [
       "4231"
      ]
     },
     "execution_count": 100,
     "metadata": {},
     "output_type": "execute_result"
    }
   ],
   "source": [
    "f[\"Events\"][\"matched_mask\"].array().to_numpy().sum()"
   ]
  },
  {
   "cell_type": "code",
   "execution_count": 101,
   "id": "2c1257ab",
   "metadata": {},
   "outputs": [
    {
     "data": {
      "text/plain": [
       "<Array [False, False, False, ... False, False] type='8065 * bool'>"
      ]
     },
     "execution_count": 101,
     "metadata": {},
     "output_type": "execute_result"
    }
   ],
   "source": [
    "# matched Higgs: target mass = 125GeV\n",
    "one_lep_inprongs = f[\"Events\"][\"fj_lepinprongs\"].array()==1\n",
    "two_quarks = f[\"Events\"][\"fj_nquarks\"].array()==2\n",
    "\n",
    "f[\"Events\"][\"matched_mask\"].array() & one_lep_inprongs & two_quarks"
   ]
  },
  {
   "cell_type": "code",
   "execution_count": 102,
   "id": "f8acc98e",
   "metadata": {},
   "outputs": [
    {
     "data": {
      "text/plain": [
       "1258"
      ]
     },
     "execution_count": 102,
     "metadata": {},
     "output_type": "execute_result"
    }
   ],
   "source": [
    "(f[\"Events\"][\"matched_mask\"].array() & one_lep_inprongs & two_quarks).to_numpy().sum()"
   ]
  },
  {
   "cell_type": "markdown",
   "id": "7176ec1f",
   "metadata": {},
   "source": [
    "# QCD file"
   ]
  },
  {
   "cell_type": "code",
   "execution_count": 133,
   "id": "0108282e",
   "metadata": {},
   "outputs": [
    {
     "data": {
      "text/plain": [
       "<TTree 'Events' (209 branches) at 0x00029a9cae80>"
      ]
     },
     "execution_count": 133,
     "metadata": {},
     "output_type": "execute_result"
    }
   ],
   "source": [
    "f = uproot.open(\"datafiles/ntuples/qcd/out.root\")\n",
    "f[\"Events\"]"
   ]
  },
  {
   "cell_type": "code",
   "execution_count": 134,
   "id": "c141ab54",
   "metadata": {},
   "outputs": [
    {
     "data": {
      "text/plain": [
       "['fj_eta',\n",
       " 'fj_phi',\n",
       " 'fj_mass',\n",
       " 'fj_pt',\n",
       " 'fj_msoftdrop',\n",
       " 'matched_mask',\n",
       " 'fj_genjetmass',\n",
       " 'fj_genRes_pt',\n",
       " 'fj_genRes_eta',\n",
       " 'fj_genRes_phi',\n",
       " 'fj_genRes_mass',\n",
       " 'fj_nprongs',\n",
       " 'fj_ncquarks',\n",
       " 'fj_lepinprongs',\n",
       " 'fj_nquarks',\n",
       " 'fj_H_VV_4q',\n",
       " 'fj_H_VV_elenuqq',\n",
       " 'fj_H_VV_munuqq',\n",
       " 'fj_H_VV_leptauelvqq',\n",
       " 'fj_H_VV_leptaumuvqq',\n",
       " 'fj_H_VV_hadtauvqq',\n",
       " 'fj_QCDb',\n",
       " 'fj_QCDbb',\n",
       " 'fj_QCDc',\n",
       " 'fj_QCDcc',\n",
       " 'fj_QCDothers',\n",
       " 'fj_V_2q',\n",
       " 'fj_V_elenu',\n",
       " 'fj_V_munu',\n",
       " 'fj_V_taunu',\n",
       " 'fj_Top_nquarksnob',\n",
       " 'fj_Top_nbquarks',\n",
       " 'fj_Top_ncquarks',\n",
       " 'fj_Top_nleptons',\n",
       " 'fj_Top_nele',\n",
       " 'fj_Top_nmu',\n",
       " 'fj_Top_ntau',\n",
       " 'fj_Top_taudecay',\n",
       " 'met_relpt',\n",
       " 'met_relphi',\n",
       " 'lep_dR_fj',\n",
       " 'lep_pt',\n",
       " 'lep_pt_ratio',\n",
       " 'fj_ParT_probHWqqWqq0c',\n",
       " 'fj_ParT_probHWqqWqq1c',\n",
       " 'fj_ParT_probHWqqWqq2c',\n",
       " 'fj_ParT_probHWqqWq0c',\n",
       " 'fj_ParT_probHWqqWq1c',\n",
       " 'fj_ParT_probHWqqWq2c',\n",
       " 'fj_ParT_probHWqqWev0c',\n",
       " 'fj_ParT_probHWqqWev1c',\n",
       " 'fj_ParT_probHWqqWmv0c',\n",
       " 'fj_ParT_probHWqqWmv1c',\n",
       " 'fj_ParT_probHWqqWtauev0c',\n",
       " 'fj_ParT_probHWqqWtauev1c',\n",
       " 'fj_ParT_probHWqqWtaumv0c',\n",
       " 'fj_ParT_probHWqqWtaumv1c',\n",
       " 'fj_ParT_probHWqqWtauhv0c',\n",
       " 'fj_ParT_probHWqqWtauhv1c',\n",
       " 'fj_ParT_probHbb',\n",
       " 'fj_ParT_probHcc',\n",
       " 'fj_ParT_probHss',\n",
       " 'fj_ParT_probHqq',\n",
       " 'fj_ParT_probHtauhtaue',\n",
       " 'fj_ParT_probHtauhtaum',\n",
       " 'fj_ParT_probHtauhtauh',\n",
       " 'fj_ParT_probQCDbb',\n",
       " 'fj_ParT_probQCDcc',\n",
       " 'fj_ParT_probQCDb',\n",
       " 'fj_ParT_probQCDc',\n",
       " 'fj_ParT_probQCDothers',\n",
       " 'fj_ParT_probTopbWqq0c',\n",
       " 'fj_ParT_probTopbWqq1c',\n",
       " 'fj_ParT_probTopbWq0c',\n",
       " 'fj_ParT_probTopbWq1c',\n",
       " 'fj_ParT_probTopbWev',\n",
       " 'fj_ParT_probTopbWmv',\n",
       " 'fj_ParT_probTopbWtauhv',\n",
       " 'fj_ParT_probTopbWtauev',\n",
       " 'fj_ParT_probTopbWtaumv',\n",
       " 'fj_ParT_mass',\n",
       " 'fj_ParT_hidNeuron000',\n",
       " 'fj_ParT_hidNeuron001',\n",
       " 'fj_ParT_hidNeuron002',\n",
       " 'fj_ParT_hidNeuron003',\n",
       " 'fj_ParT_hidNeuron004',\n",
       " 'fj_ParT_hidNeuron005',\n",
       " 'fj_ParT_hidNeuron006',\n",
       " 'fj_ParT_hidNeuron007',\n",
       " 'fj_ParT_hidNeuron008',\n",
       " 'fj_ParT_hidNeuron009',\n",
       " 'fj_ParT_hidNeuron010',\n",
       " 'fj_ParT_hidNeuron011',\n",
       " 'fj_ParT_hidNeuron012',\n",
       " 'fj_ParT_hidNeuron013',\n",
       " 'fj_ParT_hidNeuron014',\n",
       " 'fj_ParT_hidNeuron015',\n",
       " 'fj_ParT_hidNeuron016',\n",
       " 'fj_ParT_hidNeuron017',\n",
       " 'fj_ParT_hidNeuron018',\n",
       " 'fj_ParT_hidNeuron019',\n",
       " 'fj_ParT_hidNeuron020',\n",
       " 'fj_ParT_hidNeuron021',\n",
       " 'fj_ParT_hidNeuron022',\n",
       " 'fj_ParT_hidNeuron023',\n",
       " 'fj_ParT_hidNeuron024',\n",
       " 'fj_ParT_hidNeuron025',\n",
       " 'fj_ParT_hidNeuron026',\n",
       " 'fj_ParT_hidNeuron027',\n",
       " 'fj_ParT_hidNeuron028',\n",
       " 'fj_ParT_hidNeuron029',\n",
       " 'fj_ParT_hidNeuron030',\n",
       " 'fj_ParT_hidNeuron031',\n",
       " 'fj_ParT_hidNeuron032',\n",
       " 'fj_ParT_hidNeuron033',\n",
       " 'fj_ParT_hidNeuron034',\n",
       " 'fj_ParT_hidNeuron035',\n",
       " 'fj_ParT_hidNeuron036',\n",
       " 'fj_ParT_hidNeuron037',\n",
       " 'fj_ParT_hidNeuron038',\n",
       " 'fj_ParT_hidNeuron039',\n",
       " 'fj_ParT_hidNeuron040',\n",
       " 'fj_ParT_hidNeuron041',\n",
       " 'fj_ParT_hidNeuron042',\n",
       " 'fj_ParT_hidNeuron043',\n",
       " 'fj_ParT_hidNeuron044',\n",
       " 'fj_ParT_hidNeuron045',\n",
       " 'fj_ParT_hidNeuron046',\n",
       " 'fj_ParT_hidNeuron047',\n",
       " 'fj_ParT_hidNeuron048',\n",
       " 'fj_ParT_hidNeuron049',\n",
       " 'fj_ParT_hidNeuron050',\n",
       " 'fj_ParT_hidNeuron051',\n",
       " 'fj_ParT_hidNeuron052',\n",
       " 'fj_ParT_hidNeuron053',\n",
       " 'fj_ParT_hidNeuron054',\n",
       " 'fj_ParT_hidNeuron055',\n",
       " 'fj_ParT_hidNeuron056',\n",
       " 'fj_ParT_hidNeuron057',\n",
       " 'fj_ParT_hidNeuron058',\n",
       " 'fj_ParT_hidNeuron059',\n",
       " 'fj_ParT_hidNeuron060',\n",
       " 'fj_ParT_hidNeuron061',\n",
       " 'fj_ParT_hidNeuron062',\n",
       " 'fj_ParT_hidNeuron063',\n",
       " 'fj_ParT_hidNeuron064',\n",
       " 'fj_ParT_hidNeuron065',\n",
       " 'fj_ParT_hidNeuron066',\n",
       " 'fj_ParT_hidNeuron067',\n",
       " 'fj_ParT_hidNeuron068',\n",
       " 'fj_ParT_hidNeuron069',\n",
       " 'fj_ParT_hidNeuron070',\n",
       " 'fj_ParT_hidNeuron071',\n",
       " 'fj_ParT_hidNeuron072',\n",
       " 'fj_ParT_hidNeuron073',\n",
       " 'fj_ParT_hidNeuron074',\n",
       " 'fj_ParT_hidNeuron075',\n",
       " 'fj_ParT_hidNeuron076',\n",
       " 'fj_ParT_hidNeuron077',\n",
       " 'fj_ParT_hidNeuron078',\n",
       " 'fj_ParT_hidNeuron079',\n",
       " 'fj_ParT_hidNeuron080',\n",
       " 'fj_ParT_hidNeuron081',\n",
       " 'fj_ParT_hidNeuron082',\n",
       " 'fj_ParT_hidNeuron083',\n",
       " 'fj_ParT_hidNeuron084',\n",
       " 'fj_ParT_hidNeuron085',\n",
       " 'fj_ParT_hidNeuron086',\n",
       " 'fj_ParT_hidNeuron087',\n",
       " 'fj_ParT_hidNeuron088',\n",
       " 'fj_ParT_hidNeuron089',\n",
       " 'fj_ParT_hidNeuron090',\n",
       " 'fj_ParT_hidNeuron091',\n",
       " 'fj_ParT_hidNeuron092',\n",
       " 'fj_ParT_hidNeuron093',\n",
       " 'fj_ParT_hidNeuron094',\n",
       " 'fj_ParT_hidNeuron095',\n",
       " 'fj_ParT_hidNeuron096',\n",
       " 'fj_ParT_hidNeuron097',\n",
       " 'fj_ParT_hidNeuron098',\n",
       " 'fj_ParT_hidNeuron099',\n",
       " 'fj_ParT_hidNeuron100',\n",
       " 'fj_ParT_hidNeuron101',\n",
       " 'fj_ParT_hidNeuron102',\n",
       " 'fj_ParT_hidNeuron103',\n",
       " 'fj_ParT_hidNeuron104',\n",
       " 'fj_ParT_hidNeuron105',\n",
       " 'fj_ParT_hidNeuron106',\n",
       " 'fj_ParT_hidNeuron107',\n",
       " 'fj_ParT_hidNeuron108',\n",
       " 'fj_ParT_hidNeuron109',\n",
       " 'fj_ParT_hidNeuron110',\n",
       " 'fj_ParT_hidNeuron111',\n",
       " 'fj_ParT_hidNeuron112',\n",
       " 'fj_ParT_hidNeuron113',\n",
       " 'fj_ParT_hidNeuron114',\n",
       " 'fj_ParT_hidNeuron115',\n",
       " 'fj_ParT_hidNeuron116',\n",
       " 'fj_ParT_hidNeuron117',\n",
       " 'fj_ParT_hidNeuron118',\n",
       " 'fj_ParT_hidNeuron119',\n",
       " 'fj_ParT_hidNeuron120',\n",
       " 'fj_ParT_hidNeuron121',\n",
       " 'fj_ParT_hidNeuron122',\n",
       " 'fj_ParT_hidNeuron123',\n",
       " 'fj_ParT_hidNeuron124',\n",
       " 'fj_ParT_hidNeuron125',\n",
       " 'fj_ParT_hidNeuron126',\n",
       " 'fj_ParT_hidNeuron127']"
      ]
     },
     "execution_count": 134,
     "metadata": {},
     "output_type": "execute_result"
    }
   ],
   "source": [
    "f[\"Events\"].keys()"
   ]
  },
  {
   "cell_type": "markdown",
   "id": "b875f157",
   "metadata": {},
   "source": [
    "# WJets file"
   ]
  },
  {
   "cell_type": "code",
   "execution_count": 118,
   "id": "6792b23a",
   "metadata": {},
   "outputs": [
    {
     "data": {
      "text/plain": [
       "<TTree 'Events' (209 branches) at 0x000298bf5e50>"
      ]
     },
     "execution_count": 118,
     "metadata": {},
     "output_type": "execute_result"
    }
   ],
   "source": [
    "f = uproot.open(\"datafiles/ntuples/wjets/out.root\")\n",
    "f[\"Events\"]"
   ]
  },
  {
   "cell_type": "code",
   "execution_count": 119,
   "id": "f1aec32c",
   "metadata": {},
   "outputs": [
    {
     "data": {
      "text/plain": [
       "['fj_eta',\n",
       " 'fj_phi',\n",
       " 'fj_mass',\n",
       " 'fj_pt',\n",
       " 'fj_msoftdrop',\n",
       " 'matched_mask',\n",
       " 'fj_genjetmass',\n",
       " 'fj_genRes_pt',\n",
       " 'fj_genRes_eta',\n",
       " 'fj_genRes_phi',\n",
       " 'fj_genRes_mass',\n",
       " 'fj_nprongs',\n",
       " 'fj_ncquarks',\n",
       " 'fj_lepinprongs',\n",
       " 'fj_nquarks',\n",
       " 'fj_H_VV_4q',\n",
       " 'fj_H_VV_elenuqq',\n",
       " 'fj_H_VV_munuqq',\n",
       " 'fj_H_VV_leptauelvqq',\n",
       " 'fj_H_VV_leptaumuvqq',\n",
       " 'fj_H_VV_hadtauvqq',\n",
       " 'fj_QCDb',\n",
       " 'fj_QCDbb',\n",
       " 'fj_QCDc',\n",
       " 'fj_QCDcc',\n",
       " 'fj_QCDothers',\n",
       " 'fj_V_2q',\n",
       " 'fj_V_elenu',\n",
       " 'fj_V_munu',\n",
       " 'fj_V_taunu',\n",
       " 'fj_Top_nquarksnob',\n",
       " 'fj_Top_nbquarks',\n",
       " 'fj_Top_ncquarks',\n",
       " 'fj_Top_nleptons',\n",
       " 'fj_Top_nele',\n",
       " 'fj_Top_nmu',\n",
       " 'fj_Top_ntau',\n",
       " 'fj_Top_taudecay',\n",
       " 'met_relpt',\n",
       " 'met_relphi',\n",
       " 'lep_dR_fj',\n",
       " 'lep_pt',\n",
       " 'lep_pt_ratio',\n",
       " 'fj_ParT_probHWqqWqq0c',\n",
       " 'fj_ParT_probHWqqWqq1c',\n",
       " 'fj_ParT_probHWqqWqq2c',\n",
       " 'fj_ParT_probHWqqWq0c',\n",
       " 'fj_ParT_probHWqqWq1c',\n",
       " 'fj_ParT_probHWqqWq2c',\n",
       " 'fj_ParT_probHWqqWev0c',\n",
       " 'fj_ParT_probHWqqWev1c',\n",
       " 'fj_ParT_probHWqqWmv0c',\n",
       " 'fj_ParT_probHWqqWmv1c',\n",
       " 'fj_ParT_probHWqqWtauev0c',\n",
       " 'fj_ParT_probHWqqWtauev1c',\n",
       " 'fj_ParT_probHWqqWtaumv0c',\n",
       " 'fj_ParT_probHWqqWtaumv1c',\n",
       " 'fj_ParT_probHWqqWtauhv0c',\n",
       " 'fj_ParT_probHWqqWtauhv1c',\n",
       " 'fj_ParT_probHbb',\n",
       " 'fj_ParT_probHcc',\n",
       " 'fj_ParT_probHss',\n",
       " 'fj_ParT_probHqq',\n",
       " 'fj_ParT_probHtauhtaue',\n",
       " 'fj_ParT_probHtauhtaum',\n",
       " 'fj_ParT_probHtauhtauh',\n",
       " 'fj_ParT_probQCDbb',\n",
       " 'fj_ParT_probQCDcc',\n",
       " 'fj_ParT_probQCDb',\n",
       " 'fj_ParT_probQCDc',\n",
       " 'fj_ParT_probQCDothers',\n",
       " 'fj_ParT_probTopbWqq0c',\n",
       " 'fj_ParT_probTopbWqq1c',\n",
       " 'fj_ParT_probTopbWq0c',\n",
       " 'fj_ParT_probTopbWq1c',\n",
       " 'fj_ParT_probTopbWev',\n",
       " 'fj_ParT_probTopbWmv',\n",
       " 'fj_ParT_probTopbWtauhv',\n",
       " 'fj_ParT_probTopbWtauev',\n",
       " 'fj_ParT_probTopbWtaumv',\n",
       " 'fj_ParT_mass',\n",
       " 'fj_ParT_hidNeuron000',\n",
       " 'fj_ParT_hidNeuron001',\n",
       " 'fj_ParT_hidNeuron002',\n",
       " 'fj_ParT_hidNeuron003',\n",
       " 'fj_ParT_hidNeuron004',\n",
       " 'fj_ParT_hidNeuron005',\n",
       " 'fj_ParT_hidNeuron006',\n",
       " 'fj_ParT_hidNeuron007',\n",
       " 'fj_ParT_hidNeuron008',\n",
       " 'fj_ParT_hidNeuron009',\n",
       " 'fj_ParT_hidNeuron010',\n",
       " 'fj_ParT_hidNeuron011',\n",
       " 'fj_ParT_hidNeuron012',\n",
       " 'fj_ParT_hidNeuron013',\n",
       " 'fj_ParT_hidNeuron014',\n",
       " 'fj_ParT_hidNeuron015',\n",
       " 'fj_ParT_hidNeuron016',\n",
       " 'fj_ParT_hidNeuron017',\n",
       " 'fj_ParT_hidNeuron018',\n",
       " 'fj_ParT_hidNeuron019',\n",
       " 'fj_ParT_hidNeuron020',\n",
       " 'fj_ParT_hidNeuron021',\n",
       " 'fj_ParT_hidNeuron022',\n",
       " 'fj_ParT_hidNeuron023',\n",
       " 'fj_ParT_hidNeuron024',\n",
       " 'fj_ParT_hidNeuron025',\n",
       " 'fj_ParT_hidNeuron026',\n",
       " 'fj_ParT_hidNeuron027',\n",
       " 'fj_ParT_hidNeuron028',\n",
       " 'fj_ParT_hidNeuron029',\n",
       " 'fj_ParT_hidNeuron030',\n",
       " 'fj_ParT_hidNeuron031',\n",
       " 'fj_ParT_hidNeuron032',\n",
       " 'fj_ParT_hidNeuron033',\n",
       " 'fj_ParT_hidNeuron034',\n",
       " 'fj_ParT_hidNeuron035',\n",
       " 'fj_ParT_hidNeuron036',\n",
       " 'fj_ParT_hidNeuron037',\n",
       " 'fj_ParT_hidNeuron038',\n",
       " 'fj_ParT_hidNeuron039',\n",
       " 'fj_ParT_hidNeuron040',\n",
       " 'fj_ParT_hidNeuron041',\n",
       " 'fj_ParT_hidNeuron042',\n",
       " 'fj_ParT_hidNeuron043',\n",
       " 'fj_ParT_hidNeuron044',\n",
       " 'fj_ParT_hidNeuron045',\n",
       " 'fj_ParT_hidNeuron046',\n",
       " 'fj_ParT_hidNeuron047',\n",
       " 'fj_ParT_hidNeuron048',\n",
       " 'fj_ParT_hidNeuron049',\n",
       " 'fj_ParT_hidNeuron050',\n",
       " 'fj_ParT_hidNeuron051',\n",
       " 'fj_ParT_hidNeuron052',\n",
       " 'fj_ParT_hidNeuron053',\n",
       " 'fj_ParT_hidNeuron054',\n",
       " 'fj_ParT_hidNeuron055',\n",
       " 'fj_ParT_hidNeuron056',\n",
       " 'fj_ParT_hidNeuron057',\n",
       " 'fj_ParT_hidNeuron058',\n",
       " 'fj_ParT_hidNeuron059',\n",
       " 'fj_ParT_hidNeuron060',\n",
       " 'fj_ParT_hidNeuron061',\n",
       " 'fj_ParT_hidNeuron062',\n",
       " 'fj_ParT_hidNeuron063',\n",
       " 'fj_ParT_hidNeuron064',\n",
       " 'fj_ParT_hidNeuron065',\n",
       " 'fj_ParT_hidNeuron066',\n",
       " 'fj_ParT_hidNeuron067',\n",
       " 'fj_ParT_hidNeuron068',\n",
       " 'fj_ParT_hidNeuron069',\n",
       " 'fj_ParT_hidNeuron070',\n",
       " 'fj_ParT_hidNeuron071',\n",
       " 'fj_ParT_hidNeuron072',\n",
       " 'fj_ParT_hidNeuron073',\n",
       " 'fj_ParT_hidNeuron074',\n",
       " 'fj_ParT_hidNeuron075',\n",
       " 'fj_ParT_hidNeuron076',\n",
       " 'fj_ParT_hidNeuron077',\n",
       " 'fj_ParT_hidNeuron078',\n",
       " 'fj_ParT_hidNeuron079',\n",
       " 'fj_ParT_hidNeuron080',\n",
       " 'fj_ParT_hidNeuron081',\n",
       " 'fj_ParT_hidNeuron082',\n",
       " 'fj_ParT_hidNeuron083',\n",
       " 'fj_ParT_hidNeuron084',\n",
       " 'fj_ParT_hidNeuron085',\n",
       " 'fj_ParT_hidNeuron086',\n",
       " 'fj_ParT_hidNeuron087',\n",
       " 'fj_ParT_hidNeuron088',\n",
       " 'fj_ParT_hidNeuron089',\n",
       " 'fj_ParT_hidNeuron090',\n",
       " 'fj_ParT_hidNeuron091',\n",
       " 'fj_ParT_hidNeuron092',\n",
       " 'fj_ParT_hidNeuron093',\n",
       " 'fj_ParT_hidNeuron094',\n",
       " 'fj_ParT_hidNeuron095',\n",
       " 'fj_ParT_hidNeuron096',\n",
       " 'fj_ParT_hidNeuron097',\n",
       " 'fj_ParT_hidNeuron098',\n",
       " 'fj_ParT_hidNeuron099',\n",
       " 'fj_ParT_hidNeuron100',\n",
       " 'fj_ParT_hidNeuron101',\n",
       " 'fj_ParT_hidNeuron102',\n",
       " 'fj_ParT_hidNeuron103',\n",
       " 'fj_ParT_hidNeuron104',\n",
       " 'fj_ParT_hidNeuron105',\n",
       " 'fj_ParT_hidNeuron106',\n",
       " 'fj_ParT_hidNeuron107',\n",
       " 'fj_ParT_hidNeuron108',\n",
       " 'fj_ParT_hidNeuron109',\n",
       " 'fj_ParT_hidNeuron110',\n",
       " 'fj_ParT_hidNeuron111',\n",
       " 'fj_ParT_hidNeuron112',\n",
       " 'fj_ParT_hidNeuron113',\n",
       " 'fj_ParT_hidNeuron114',\n",
       " 'fj_ParT_hidNeuron115',\n",
       " 'fj_ParT_hidNeuron116',\n",
       " 'fj_ParT_hidNeuron117',\n",
       " 'fj_ParT_hidNeuron118',\n",
       " 'fj_ParT_hidNeuron119',\n",
       " 'fj_ParT_hidNeuron120',\n",
       " 'fj_ParT_hidNeuron121',\n",
       " 'fj_ParT_hidNeuron122',\n",
       " 'fj_ParT_hidNeuron123',\n",
       " 'fj_ParT_hidNeuron124',\n",
       " 'fj_ParT_hidNeuron125',\n",
       " 'fj_ParT_hidNeuron126',\n",
       " 'fj_ParT_hidNeuron127']"
      ]
     },
     "execution_count": 119,
     "metadata": {},
     "output_type": "execute_result"
    }
   ],
   "source": [
    "f[\"Events\"].keys()"
   ]
  },
  {
   "cell_type": "code",
   "execution_count": 120,
   "id": "c957f7a9",
   "metadata": {},
   "outputs": [
    {
     "data": {
      "text/plain": [
       "<Array [0, 0, 0, 0, 0, 0, ... 1, 0, 0, 1, 0, 0] type='6699 * int32'>"
      ]
     },
     "execution_count": 120,
     "metadata": {},
     "output_type": "execute_result"
    }
   ],
   "source": [
    "f[\"Events\"][\"fj_V_munu\"].array()"
   ]
  },
  {
   "cell_type": "code",
   "execution_count": 121,
   "id": "29a287c7",
   "metadata": {},
   "outputs": [
    {
     "data": {
      "text/plain": [
       "<Array [False, False, False, ... True, False] type='6699 * bool'>"
      ]
     },
     "execution_count": 121,
     "metadata": {},
     "output_type": "execute_result"
    }
   ],
   "source": [
    "# merged Ws: target mass = 80GeV\n",
    "lep_in_W = (f[\"Events\"][\"fj_V_munu\"].array()>0) | (f[\"Events\"][\"fj_V_elenu\"].array()>0)\n",
    "\n",
    "f[\"Events\"][\"matched_mask\"].array() & lep_in_W"
   ]
  },
  {
   "cell_type": "code",
   "execution_count": 122,
   "id": "1f1f963a",
   "metadata": {},
   "outputs": [
    {
     "data": {
      "text/plain": [
       "<Array [True, True, True, ... False, True] type='6699 * bool'>"
      ]
     },
     "execution_count": 122,
     "metadata": {},
     "output_type": "execute_result"
    }
   ],
   "source": [
    "# unmatched Ws: target mass = fj_genjetmass\n",
    "~f[\"Events\"][\"matched_mask\"].array()"
   ]
  },
  {
   "cell_type": "markdown",
   "id": "4a9b335e",
   "metadata": {},
   "source": [
    "# Top file"
   ]
  },
  {
   "cell_type": "code",
   "execution_count": 123,
   "id": "ef1ba8a6",
   "metadata": {},
   "outputs": [
    {
     "data": {
      "text/plain": [
       "<TTree 'Events' (209 branches) at 0x00029937a340>"
      ]
     },
     "execution_count": 123,
     "metadata": {},
     "output_type": "execute_result"
    }
   ],
   "source": [
    "f = uproot.open(\"datafiles/ntuples/top/out.root\")\n",
    "f[\"Events\"]"
   ]
  },
  {
   "cell_type": "code",
   "execution_count": 124,
   "id": "3e9a1187",
   "metadata": {},
   "outputs": [
    {
     "data": {
      "text/plain": [
       "['fj_eta',\n",
       " 'fj_phi',\n",
       " 'fj_mass',\n",
       " 'fj_pt',\n",
       " 'fj_msoftdrop',\n",
       " 'matched_mask',\n",
       " 'fj_genjetmass',\n",
       " 'fj_genRes_pt',\n",
       " 'fj_genRes_eta',\n",
       " 'fj_genRes_phi',\n",
       " 'fj_genRes_mass',\n",
       " 'fj_nprongs',\n",
       " 'fj_ncquarks',\n",
       " 'fj_lepinprongs',\n",
       " 'fj_nquarks',\n",
       " 'fj_H_VV_4q',\n",
       " 'fj_H_VV_elenuqq',\n",
       " 'fj_H_VV_munuqq',\n",
       " 'fj_H_VV_leptauelvqq',\n",
       " 'fj_H_VV_leptaumuvqq',\n",
       " 'fj_H_VV_hadtauvqq',\n",
       " 'fj_QCDb',\n",
       " 'fj_QCDbb',\n",
       " 'fj_QCDc',\n",
       " 'fj_QCDcc',\n",
       " 'fj_QCDothers',\n",
       " 'fj_V_2q',\n",
       " 'fj_V_elenu',\n",
       " 'fj_V_munu',\n",
       " 'fj_V_taunu',\n",
       " 'fj_Top_nquarksnob',\n",
       " 'fj_Top_nbquarks',\n",
       " 'fj_Top_ncquarks',\n",
       " 'fj_Top_nleptons',\n",
       " 'fj_Top_nele',\n",
       " 'fj_Top_nmu',\n",
       " 'fj_Top_ntau',\n",
       " 'fj_Top_taudecay',\n",
       " 'met_relpt',\n",
       " 'met_relphi',\n",
       " 'lep_dR_fj',\n",
       " 'lep_pt',\n",
       " 'lep_pt_ratio',\n",
       " 'fj_ParT_probHWqqWqq0c',\n",
       " 'fj_ParT_probHWqqWqq1c',\n",
       " 'fj_ParT_probHWqqWqq2c',\n",
       " 'fj_ParT_probHWqqWq0c',\n",
       " 'fj_ParT_probHWqqWq1c',\n",
       " 'fj_ParT_probHWqqWq2c',\n",
       " 'fj_ParT_probHWqqWev0c',\n",
       " 'fj_ParT_probHWqqWev1c',\n",
       " 'fj_ParT_probHWqqWmv0c',\n",
       " 'fj_ParT_probHWqqWmv1c',\n",
       " 'fj_ParT_probHWqqWtauev0c',\n",
       " 'fj_ParT_probHWqqWtauev1c',\n",
       " 'fj_ParT_probHWqqWtaumv0c',\n",
       " 'fj_ParT_probHWqqWtaumv1c',\n",
       " 'fj_ParT_probHWqqWtauhv0c',\n",
       " 'fj_ParT_probHWqqWtauhv1c',\n",
       " 'fj_ParT_probHbb',\n",
       " 'fj_ParT_probHcc',\n",
       " 'fj_ParT_probHss',\n",
       " 'fj_ParT_probHqq',\n",
       " 'fj_ParT_probHtauhtaue',\n",
       " 'fj_ParT_probHtauhtaum',\n",
       " 'fj_ParT_probHtauhtauh',\n",
       " 'fj_ParT_probQCDbb',\n",
       " 'fj_ParT_probQCDcc',\n",
       " 'fj_ParT_probQCDb',\n",
       " 'fj_ParT_probQCDc',\n",
       " 'fj_ParT_probQCDothers',\n",
       " 'fj_ParT_probTopbWqq0c',\n",
       " 'fj_ParT_probTopbWqq1c',\n",
       " 'fj_ParT_probTopbWq0c',\n",
       " 'fj_ParT_probTopbWq1c',\n",
       " 'fj_ParT_probTopbWev',\n",
       " 'fj_ParT_probTopbWmv',\n",
       " 'fj_ParT_probTopbWtauhv',\n",
       " 'fj_ParT_probTopbWtauev',\n",
       " 'fj_ParT_probTopbWtaumv',\n",
       " 'fj_ParT_mass',\n",
       " 'fj_ParT_hidNeuron000',\n",
       " 'fj_ParT_hidNeuron001',\n",
       " 'fj_ParT_hidNeuron002',\n",
       " 'fj_ParT_hidNeuron003',\n",
       " 'fj_ParT_hidNeuron004',\n",
       " 'fj_ParT_hidNeuron005',\n",
       " 'fj_ParT_hidNeuron006',\n",
       " 'fj_ParT_hidNeuron007',\n",
       " 'fj_ParT_hidNeuron008',\n",
       " 'fj_ParT_hidNeuron009',\n",
       " 'fj_ParT_hidNeuron010',\n",
       " 'fj_ParT_hidNeuron011',\n",
       " 'fj_ParT_hidNeuron012',\n",
       " 'fj_ParT_hidNeuron013',\n",
       " 'fj_ParT_hidNeuron014',\n",
       " 'fj_ParT_hidNeuron015',\n",
       " 'fj_ParT_hidNeuron016',\n",
       " 'fj_ParT_hidNeuron017',\n",
       " 'fj_ParT_hidNeuron018',\n",
       " 'fj_ParT_hidNeuron019',\n",
       " 'fj_ParT_hidNeuron020',\n",
       " 'fj_ParT_hidNeuron021',\n",
       " 'fj_ParT_hidNeuron022',\n",
       " 'fj_ParT_hidNeuron023',\n",
       " 'fj_ParT_hidNeuron024',\n",
       " 'fj_ParT_hidNeuron025',\n",
       " 'fj_ParT_hidNeuron026',\n",
       " 'fj_ParT_hidNeuron027',\n",
       " 'fj_ParT_hidNeuron028',\n",
       " 'fj_ParT_hidNeuron029',\n",
       " 'fj_ParT_hidNeuron030',\n",
       " 'fj_ParT_hidNeuron031',\n",
       " 'fj_ParT_hidNeuron032',\n",
       " 'fj_ParT_hidNeuron033',\n",
       " 'fj_ParT_hidNeuron034',\n",
       " 'fj_ParT_hidNeuron035',\n",
       " 'fj_ParT_hidNeuron036',\n",
       " 'fj_ParT_hidNeuron037',\n",
       " 'fj_ParT_hidNeuron038',\n",
       " 'fj_ParT_hidNeuron039',\n",
       " 'fj_ParT_hidNeuron040',\n",
       " 'fj_ParT_hidNeuron041',\n",
       " 'fj_ParT_hidNeuron042',\n",
       " 'fj_ParT_hidNeuron043',\n",
       " 'fj_ParT_hidNeuron044',\n",
       " 'fj_ParT_hidNeuron045',\n",
       " 'fj_ParT_hidNeuron046',\n",
       " 'fj_ParT_hidNeuron047',\n",
       " 'fj_ParT_hidNeuron048',\n",
       " 'fj_ParT_hidNeuron049',\n",
       " 'fj_ParT_hidNeuron050',\n",
       " 'fj_ParT_hidNeuron051',\n",
       " 'fj_ParT_hidNeuron052',\n",
       " 'fj_ParT_hidNeuron053',\n",
       " 'fj_ParT_hidNeuron054',\n",
       " 'fj_ParT_hidNeuron055',\n",
       " 'fj_ParT_hidNeuron056',\n",
       " 'fj_ParT_hidNeuron057',\n",
       " 'fj_ParT_hidNeuron058',\n",
       " 'fj_ParT_hidNeuron059',\n",
       " 'fj_ParT_hidNeuron060',\n",
       " 'fj_ParT_hidNeuron061',\n",
       " 'fj_ParT_hidNeuron062',\n",
       " 'fj_ParT_hidNeuron063',\n",
       " 'fj_ParT_hidNeuron064',\n",
       " 'fj_ParT_hidNeuron065',\n",
       " 'fj_ParT_hidNeuron066',\n",
       " 'fj_ParT_hidNeuron067',\n",
       " 'fj_ParT_hidNeuron068',\n",
       " 'fj_ParT_hidNeuron069',\n",
       " 'fj_ParT_hidNeuron070',\n",
       " 'fj_ParT_hidNeuron071',\n",
       " 'fj_ParT_hidNeuron072',\n",
       " 'fj_ParT_hidNeuron073',\n",
       " 'fj_ParT_hidNeuron074',\n",
       " 'fj_ParT_hidNeuron075',\n",
       " 'fj_ParT_hidNeuron076',\n",
       " 'fj_ParT_hidNeuron077',\n",
       " 'fj_ParT_hidNeuron078',\n",
       " 'fj_ParT_hidNeuron079',\n",
       " 'fj_ParT_hidNeuron080',\n",
       " 'fj_ParT_hidNeuron081',\n",
       " 'fj_ParT_hidNeuron082',\n",
       " 'fj_ParT_hidNeuron083',\n",
       " 'fj_ParT_hidNeuron084',\n",
       " 'fj_ParT_hidNeuron085',\n",
       " 'fj_ParT_hidNeuron086',\n",
       " 'fj_ParT_hidNeuron087',\n",
       " 'fj_ParT_hidNeuron088',\n",
       " 'fj_ParT_hidNeuron089',\n",
       " 'fj_ParT_hidNeuron090',\n",
       " 'fj_ParT_hidNeuron091',\n",
       " 'fj_ParT_hidNeuron092',\n",
       " 'fj_ParT_hidNeuron093',\n",
       " 'fj_ParT_hidNeuron094',\n",
       " 'fj_ParT_hidNeuron095',\n",
       " 'fj_ParT_hidNeuron096',\n",
       " 'fj_ParT_hidNeuron097',\n",
       " 'fj_ParT_hidNeuron098',\n",
       " 'fj_ParT_hidNeuron099',\n",
       " 'fj_ParT_hidNeuron100',\n",
       " 'fj_ParT_hidNeuron101',\n",
       " 'fj_ParT_hidNeuron102',\n",
       " 'fj_ParT_hidNeuron103',\n",
       " 'fj_ParT_hidNeuron104',\n",
       " 'fj_ParT_hidNeuron105',\n",
       " 'fj_ParT_hidNeuron106',\n",
       " 'fj_ParT_hidNeuron107',\n",
       " 'fj_ParT_hidNeuron108',\n",
       " 'fj_ParT_hidNeuron109',\n",
       " 'fj_ParT_hidNeuron110',\n",
       " 'fj_ParT_hidNeuron111',\n",
       " 'fj_ParT_hidNeuron112',\n",
       " 'fj_ParT_hidNeuron113',\n",
       " 'fj_ParT_hidNeuron114',\n",
       " 'fj_ParT_hidNeuron115',\n",
       " 'fj_ParT_hidNeuron116',\n",
       " 'fj_ParT_hidNeuron117',\n",
       " 'fj_ParT_hidNeuron118',\n",
       " 'fj_ParT_hidNeuron119',\n",
       " 'fj_ParT_hidNeuron120',\n",
       " 'fj_ParT_hidNeuron121',\n",
       " 'fj_ParT_hidNeuron122',\n",
       " 'fj_ParT_hidNeuron123',\n",
       " 'fj_ParT_hidNeuron124',\n",
       " 'fj_ParT_hidNeuron125',\n",
       " 'fj_ParT_hidNeuron126',\n",
       " 'fj_ParT_hidNeuron127']"
      ]
     },
     "execution_count": 124,
     "metadata": {},
     "output_type": "execute_result"
    }
   ],
   "source": [
    "f[\"Events\"].keys()"
   ]
  },
  {
   "cell_type": "code",
   "execution_count": 75,
   "id": "7eba5b40",
   "metadata": {},
   "outputs": [
    {
     "data": {
      "text/plain": [
       "<Array [0, 1, 0, 0, 1, 1, ... 1, 0, 1, 1, 1, 0] type='4431 * int64'>"
      ]
     },
     "execution_count": 75,
     "metadata": {},
     "output_type": "execute_result"
    }
   ],
   "source": [
    "f[\"Events\"][\"fj_Top_nleptons\"].array()"
   ]
  },
  {
   "cell_type": "code",
   "execution_count": 30,
   "id": "3b4b2063",
   "metadata": {},
   "outputs": [
    {
     "data": {
      "text/plain": [
       "<Array [0, 0, 0, 0, 0, 0, ... 0, 0, 0, 0, 0, 0] type='4431 * float64'>"
      ]
     },
     "execution_count": 30,
     "metadata": {},
     "output_type": "execute_result"
    }
   ],
   "source": [
    "f[\"Events\"][\"fj_V_munu\"].array()"
   ]
  },
  {
   "cell_type": "code",
   "execution_count": 76,
   "id": "8424bbcb",
   "metadata": {},
   "outputs": [
    {
     "data": {
      "text/plain": [
       "<Array [False, True, False, ... False, False] type='4431 * bool'>"
      ]
     },
     "execution_count": 76,
     "metadata": {},
     "output_type": "execute_result"
    }
   ],
   "source": [
    "# fully merged Top: target mass = 175GeV\n",
    "lep_in_jet = f[\"Events\"][\"fj_Top_nleptons\"].array()>0\n",
    "bquark_in_jet = f[\"Events\"][\"fj_Top_nbquarks\"].array()>0\n",
    "\n",
    "f[\"Events\"][\"matched_mask\"].array() & lep_in_jet & bquark_in_jet"
   ]
  },
  {
   "cell_type": "code",
   "execution_count": 77,
   "id": "d6ccaa98",
   "metadata": {},
   "outputs": [
    {
     "data": {
      "text/plain": [
       "<Array [False, False, False, ... True, False] type='4431 * bool'>"
      ]
     },
     "execution_count": 77,
     "metadata": {},
     "output_type": "execute_result"
    }
   ],
   "source": [
    "# W merged Top: target mass = 80GeV\n",
    "f[\"Events\"][\"matched_mask\"].array() & lep_in_jet & ~bquark_in_jet"
   ]
  },
  {
   "cell_type": "code",
   "execution_count": 78,
   "id": "5da813bb",
   "metadata": {},
   "outputs": [
    {
     "data": {
      "text/plain": [
       "<Array [False, False, True, ... False, False] type='4431 * bool'>"
      ]
     },
     "execution_count": 78,
     "metadata": {},
     "output_type": "execute_result"
    }
   ],
   "source": [
    "# unmatched Top: target mass = fj_genjetmass\n",
    "~f[\"Events\"][\"matched_mask\"].array()"
   ]
  },
  {
   "cell_type": "markdown",
   "id": "bd206ea5",
   "metadata": {},
   "source": [
    "# Weaver output"
   ]
  },
  {
   "cell_type": "code",
   "execution_count": 135,
   "id": "8d90db60",
   "metadata": {},
   "outputs": [
    {
     "name": "stdout",
     "output_type": "stream",
     "text": [
      "pred.root\r\n"
     ]
    }
   ],
   "source": [
    "! ls experiments/mass_regression/predict"
   ]
  },
  {
   "cell_type": "code",
   "execution_count": 136,
   "id": "2ae7e355",
   "metadata": {},
   "outputs": [
    {
     "data": {
      "text/plain": [
       "['target_mass',\n",
       " 'output_target_mass',\n",
       " 'fj_pt',\n",
       " 'fj_msoftdrop',\n",
       " 'fj_eta',\n",
       " 'fj_phi']"
      ]
     },
     "execution_count": 136,
     "metadata": {},
     "output_type": "execute_result"
    }
   ],
   "source": [
    "f = uproot.open(\"experiments/mass_regression/predict/pred.root\")\n",
    "f[\"Events\"].keys()"
   ]
  },
  {
   "cell_type": "code",
   "execution_count": 137,
   "id": "e1d173c2",
   "metadata": {},
   "outputs": [
    {
     "data": {
      "text/plain": [
       "<Array [10.3, 11.8, 13.8, ... 13.6, 13, 9.62] type='26791 * float32'>"
      ]
     },
     "execution_count": 137,
     "metadata": {},
     "output_type": "execute_result"
    }
   ],
   "source": [
    "f[\"Events\"][\"output_target_mass\"].array()"
   ]
  },
  {
   "cell_type": "code",
   "execution_count": 138,
   "id": "c075d280",
   "metadata": {},
   "outputs": [
    {
     "data": {
      "text/plain": [
       "<Array [39.7, 0, 46.5, 40.6, ... 101, 80, 53.3] type='26791 * float64'>"
      ]
     },
     "execution_count": 138,
     "metadata": {},
     "output_type": "execute_result"
    }
   ],
   "source": [
    "f[\"Events\"][\"target_mass\"].array()"
   ]
  },
  {
   "cell_type": "code",
   "execution_count": null,
   "id": "8eb89def",
   "metadata": {},
   "outputs": [],
   "source": []
  }
 ],
 "metadata": {
  "kernelspec": {
   "display_name": "coffea-env",
   "language": "python",
   "name": "coffea-env"
  },
  "language_info": {
   "codemirror_mode": {
    "name": "ipython",
    "version": 3
   },
   "file_extension": ".py",
   "mimetype": "text/x-python",
   "name": "python",
   "nbconvert_exporter": "python",
   "pygments_lexer": "ipython3",
   "version": "3.9.16"
  }
 },
 "nbformat": 4,
 "nbformat_minor": 5
}
